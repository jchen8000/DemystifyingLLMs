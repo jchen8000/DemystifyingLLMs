{
  "nbformat": 4,
  "nbformat_minor": 0,
  "metadata": {
    "colab": {
      "provenance": [],
      "authorship_tag": "ABX9TyPC8KX4ZyWAA0vsaJ1gELtq",
      "include_colab_link": true
    },
    "kernelspec": {
      "name": "python3",
      "display_name": "Python 3"
    },
    "language_info": {
      "name": "python"
    }
  },
  "cells": [
    {
      "cell_type": "markdown",
      "metadata": {
        "id": "view-in-github",
        "colab_type": "text"
      },
      "source": [
        "<a href=\"https://colab.research.google.com/github/jchen8000/GenerativeAI/blob/main/2_Pytorch_Basics_Math_Fundamentals/PyTorch_Basices_(4).ipynb\" target=\"_parent\"><img src=\"https://colab.research.google.com/assets/colab-badge.svg\" alt=\"Open In Colab\"/></a>"
      ]
    },
    {
      "cell_type": "markdown",
      "source": [
        "# 2. Pytorch Basics and Math Fundamentals (Part 4)"
      ],
      "metadata": {
        "id": "8WcjyAcslSoo"
      }
    },
    {
      "cell_type": "code",
      "source": [
        "import torch\n",
        "import numpy as np"
      ],
      "metadata": {
        "id": "Klw-e-Rflf2y"
      },
      "execution_count": 1,
      "outputs": []
    },
    {
      "cell_type": "markdown",
      "source": [
        "## 2.12\tRank of Matrices"
      ],
      "metadata": {
        "id": "pYz8LUh0lasd"
      }
    },
    {
      "cell_type": "code",
      "execution_count": 2,
      "metadata": {
        "colab": {
          "base_uri": "https://localhost:8080/"
        },
        "id": "yqMzEEAdk5uL",
        "outputId": "77f4a926-ab3d-4bcf-e6df-00f195dfc2ef"
      },
      "outputs": [
        {
          "output_type": "stream",
          "name": "stdout",
          "text": [
            "A= tensor([[ 3., -1.,  2.],\n",
            "        [ 6., -2.,  4.]])\n",
            "The rank of A is: 1\n"
          ]
        }
      ],
      "source": [
        "A = torch.tensor([[3., -1., 2.],\n",
        "                  [6., -2., 4.]],\n",
        "                dtype=torch.float32)\n",
        "\n",
        "rank = torch.linalg.matrix_rank(A)\n",
        "print('A=', A)\n",
        "print(f\"The rank of A is: {rank}\")"
      ]
    },
    {
      "cell_type": "code",
      "source": [
        "I = torch.eye(4)\n",
        "rank = torch.linalg.matrix_rank(I)\n",
        "print('I=', I)\n",
        "print(f\"The rank of I is: {rank}\")"
      ],
      "metadata": {
        "colab": {
          "base_uri": "https://localhost:8080/"
        },
        "id": "hHHxRBDDl8Vb",
        "outputId": "aa1d0373-b336-47e8-fa03-75b3a292006c"
      },
      "execution_count": 3,
      "outputs": [
        {
          "output_type": "stream",
          "name": "stdout",
          "text": [
            "I= tensor([[1., 0., 0., 0.],\n",
            "        [0., 1., 0., 0.],\n",
            "        [0., 0., 1., 0.],\n",
            "        [0., 0., 0., 1.]])\n",
            "The rank of I is: 4\n"
          ]
        }
      ]
    },
    {
      "cell_type": "markdown",
      "source": [
        "## 2.13\tSingular Value Decomposition"
      ],
      "metadata": {
        "id": "qEVt2cczp_Fw"
      }
    },
    {
      "cell_type": "code",
      "source": [
        "A = torch.rand(1000, 800)\n",
        "rankA = torch.linalg.matrix_rank(A)\n",
        "\n",
        "print(\"Original Matrix A:\")\n",
        "print(A)\n",
        "print(\"Size of A:\", A.size())\n",
        "print(\"Rank of A:\", rankA)\n",
        "print(\"Params of A:\", A.size(0)*A.size(1))"
      ],
      "metadata": {
        "colab": {
          "base_uri": "https://localhost:8080/"
        },
        "id": "TLWvV0_7PH_e",
        "outputId": "56428013-c4cd-4943-a8dc-4ac874cc03fc"
      },
      "execution_count": 4,
      "outputs": [
        {
          "output_type": "stream",
          "name": "stdout",
          "text": [
            "Original Matrix A:\n",
            "tensor([[0.4920, 0.3214, 0.3895,  ..., 0.5726, 0.2590, 0.0631],\n",
            "        [0.3292, 0.4985, 0.2047,  ..., 0.3289, 0.1881, 0.3645],\n",
            "        [0.2158, 0.4446, 0.3096,  ..., 0.0067, 0.5263, 0.7293],\n",
            "        ...,\n",
            "        [0.7378, 0.9916, 0.7387,  ..., 0.5577, 0.4379, 0.2130],\n",
            "        [0.2644, 0.0390, 0.7098,  ..., 0.6490, 0.8267, 0.5943],\n",
            "        [0.2877, 0.9892, 0.6044,  ..., 0.4414, 0.8465, 0.0501]])\n",
            "Size of A: torch.Size([1000, 800])\n",
            "Rank of A: tensor(800)\n",
            "Params of A: 800000\n"
          ]
        }
      ]
    },
    {
      "cell_type": "code",
      "source": [
        "# Perform SVD\n",
        "U, S, V = torch.linalg.svd(A)\n",
        "\n",
        "# Select a Rank k\n",
        "k = 32\n",
        "U_k = U[:, :k]\n",
        "S_k = torch.diag(S[:k])\n",
        "V_k = V[:, :k]\n",
        "\n",
        "# Construct the low-rank approximation of the original matrix\n",
        "A_prime = U_k @ S_k @ V_k.T\n",
        "rankA_prime = torch.linalg.matrix_rank(A_prime)\n",
        "\n",
        "print(\"Low-Rank Approximation A':\")\n",
        "print(A_prime)\n",
        "print(\"Size of A':\", A_prime.size())\n",
        "print(\"Rank of A':\", rankA_prime)"
      ],
      "metadata": {
        "colab": {
          "base_uri": "https://localhost:8080/"
        },
        "id": "2rgekAe4cyqj",
        "outputId": "902195f0-5d25-4284-c958-79587a4bb2cb"
      },
      "execution_count": 5,
      "outputs": [
        {
          "output_type": "stream",
          "name": "stdout",
          "text": [
            "Low-Rank Approximation A':\n",
            "tensor([[ 0.5045,  0.5840, -0.1043,  ..., -0.3321,  0.5162, -0.4849],\n",
            "        [ 0.5149,  0.3817, -0.2508,  ..., -0.1612,  0.1561, -0.5623],\n",
            "        [ 0.2739,  0.4780,  0.0350,  ..., -0.0932,  0.3051, -0.4402],\n",
            "        ...,\n",
            "        [ 0.5676,  0.4910, -0.1584,  ..., -0.1184,  0.3788, -0.4101],\n",
            "        [ 0.4078,  0.5385, -0.0835,  ..., -0.2537,  0.3428, -0.6900],\n",
            "        [ 0.4749,  0.5061, -0.2956,  ..., -0.1345,  0.2846, -0.7596]])\n",
            "Size of A': torch.Size([1000, 800])\n",
            "Rank of A': tensor(32)\n"
          ]
        }
      ]
    }
  ]
}