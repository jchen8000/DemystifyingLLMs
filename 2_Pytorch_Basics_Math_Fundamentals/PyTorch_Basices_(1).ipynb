{
  "nbformat": 4,
  "nbformat_minor": 0,
  "metadata": {
    "colab": {
      "provenance": [],
      "authorship_tag": "ABX9TyPzAccIH3qr5SgPZHbViirj",
      "include_colab_link": true
    },
    "kernelspec": {
      "name": "python3",
      "display_name": "Python 3"
    },
    "language_info": {
      "name": "python"
    }
  },
  "cells": [
    {
      "cell_type": "markdown",
      "metadata": {
        "id": "view-in-github",
        "colab_type": "text"
      },
      "source": [
        "<a href=\"https://colab.research.google.com/github/jchen8000/GenerativeAI/blob/main/2_Pytorch_Basics_Math_Fundamentals/PyTorch_Basices_(1).ipynb\" target=\"_parent\"><img src=\"https://colab.research.google.com/assets/colab-badge.svg\" alt=\"Open In Colab\"/></a>"
      ]
    },
    {
      "cell_type": "markdown",
      "source": [
        "# 2.\tPytorch Basics and Math Fundamentals (Part 1)\n",
        "\n",
        "\n",
        "\n",
        "*   2.1 Tensor and Vector\n",
        "*   2.2 Tensor and Matrix\n",
        "*   2.3 Dot Product\n",
        "*   2.4 Softmax\n",
        "\n",
        "\n"
      ],
      "metadata": {
        "id": "HMqowftlhoS2"
      }
    },
    {
      "cell_type": "code",
      "execution_count": null,
      "metadata": {
        "id": "ngWZK5NEDNzT"
      },
      "outputs": [],
      "source": [
        "import torch\n",
        "import torch.nn as nn"
      ]
    },
    {
      "cell_type": "markdown",
      "source": [
        "## 2.1\tTensor and Vector"
      ],
      "metadata": {
        "id": "b5apiHw_iaFz"
      }
    },
    {
      "cell_type": "code",
      "source": [
        "vector = torch.tensor([2., 3., 4.])\n",
        "print(\"Vector:\", vector)"
      ],
      "metadata": {
        "id": "iZsECai-M31e",
        "outputId": "f99599aa-b1c0-4e0b-a6ca-95bf9abcfaf3",
        "colab": {
          "base_uri": "https://localhost:8080/"
        }
      },
      "execution_count": null,
      "outputs": [
        {
          "output_type": "stream",
          "name": "stdout",
          "text": [
            "Vector: tensor([2., 3., 4.])\n"
          ]
        }
      ]
    },
    {
      "cell_type": "code",
      "source": [
        "torch.norm(vector)"
      ],
      "metadata": {
        "id": "c4mQ0fu8NHoc",
        "outputId": "d5e397e0-b9d2-4cf7-9789-be55c81517b0",
        "colab": {
          "base_uri": "https://localhost:8080/"
        }
      },
      "execution_count": null,
      "outputs": [
        {
          "output_type": "execute_result",
          "data": {
            "text/plain": [
              "tensor(5.3852)"
            ]
          },
          "metadata": {},
          "execution_count": 3
        }
      ]
    },
    {
      "cell_type": "code",
      "source": [
        "randint = torch.randint(-100, 100, (6,))\n",
        "randint"
      ],
      "metadata": {
        "colab": {
          "base_uri": "https://localhost:8080/"
        },
        "id": "EX_UFv8rDgtr",
        "outputId": "80d6d67b-6345-4651-a4db-2e7cbb71a885"
      },
      "execution_count": null,
      "outputs": [
        {
          "output_type": "execute_result",
          "data": {
            "text/plain": [
              "tensor([ 75,  18, -59,  52,  50, -24])"
            ]
          },
          "metadata": {},
          "execution_count": 4
        }
      ]
    },
    {
      "cell_type": "code",
      "source": [
        "empty = torch.empty(3)\n",
        "empty"
      ],
      "metadata": {
        "id": "cMd16YAPiOwt",
        "outputId": "05e23809-985e-425c-e380-d6f6b1f84598",
        "colab": {
          "base_uri": "https://localhost:8080/"
        }
      },
      "execution_count": null,
      "outputs": [
        {
          "output_type": "execute_result",
          "data": {
            "text/plain": [
              "tensor([2.6416e+11, 3.1102e-41, 1.5835e-42])"
            ]
          },
          "metadata": {},
          "execution_count": 5
        }
      ]
    },
    {
      "cell_type": "code",
      "source": [
        "arange = torch.arange(5)\n",
        "arange"
      ],
      "metadata": {
        "colab": {
          "base_uri": "https://localhost:8080/"
        },
        "id": "OGftfMlvEVN6",
        "outputId": "115c431d-662b-4f7e-f0b9-7d43072db292"
      },
      "execution_count": null,
      "outputs": [
        {
          "output_type": "execute_result",
          "data": {
            "text/plain": [
              "tensor([0, 1, 2, 3, 4])"
            ]
          },
          "metadata": {},
          "execution_count": 6
        }
      ]
    },
    {
      "cell_type": "code",
      "source": [
        "arange = torch.arange(start=0, end=5, step=1)\n",
        "arange"
      ],
      "metadata": {
        "id": "m5zgn8Ktie_Z",
        "outputId": "057dc8e0-a5f5-4986-f33c-ba1446a3d0ba",
        "colab": {
          "base_uri": "https://localhost:8080/"
        }
      },
      "execution_count": null,
      "outputs": [
        {
          "output_type": "execute_result",
          "data": {
            "text/plain": [
              "tensor([0, 1, 2, 3, 4])"
            ]
          },
          "metadata": {},
          "execution_count": 7
        }
      ]
    },
    {
      "cell_type": "code",
      "source": [
        "linspace = torch.linspace(3, 10, steps=5)\n",
        "linspace"
      ],
      "metadata": {
        "colab": {
          "base_uri": "https://localhost:8080/"
        },
        "id": "umYLX2rCEa43",
        "outputId": "614a8134-eb38-4891-b70c-19ab8531737e"
      },
      "execution_count": null,
      "outputs": [
        {
          "output_type": "execute_result",
          "data": {
            "text/plain": [
              "tensor([ 3.0000,  4.7500,  6.5000,  8.2500, 10.0000])"
            ]
          },
          "metadata": {},
          "execution_count": 8
        }
      ]
    },
    {
      "cell_type": "code",
      "source": [
        "logspace = torch.logspace(start=-10, end=10, steps=5)\n",
        "logspace"
      ],
      "metadata": {
        "colab": {
          "base_uri": "https://localhost:8080/"
        },
        "id": "F9olvEhCEsM9",
        "outputId": "b6f96aee-5149-4e02-ab72-affc24fc3a21"
      },
      "execution_count": null,
      "outputs": [
        {
          "output_type": "execute_result",
          "data": {
            "text/plain": [
              "tensor([1.0000e-10, 1.0000e-05, 1.0000e+00, 1.0000e+05, 1.0000e+10])"
            ]
          },
          "metadata": {},
          "execution_count": 9
        }
      ]
    },
    {
      "cell_type": "markdown",
      "source": [
        "## 2.2\tTensor and Matrix"
      ],
      "metadata": {
        "id": "cMsgm10ihboG"
      }
    },
    {
      "cell_type": "code",
      "source": [
        "A = torch.tensor([[1., 2., 3., 4.],\n",
        "                  [2., 3., 4., 5.],\n",
        "                  [3., 4., 5., 6.]])\n",
        "A"
      ],
      "metadata": {
        "colab": {
          "base_uri": "https://localhost:8080/"
        },
        "id": "a-7Jyk9ZDsIu",
        "outputId": "0789fc4f-7038-453a-98c4-84ff2a427df8"
      },
      "execution_count": null,
      "outputs": [
        {
          "output_type": "execute_result",
          "data": {
            "text/plain": [
              "tensor([[1., 2., 3., 4.],\n",
              "        [2., 3., 4., 5.],\n",
              "        [3., 4., 5., 6.]])"
            ]
          },
          "metadata": {},
          "execution_count": 10
        }
      ]
    },
    {
      "cell_type": "code",
      "source": [
        "zeros = torch.zeros(3, 4)\n",
        "print(\"zeros =\", zeros)\n",
        "\n",
        "ones = torch.ones(3, 4)\n",
        "print(\"ones =\", ones)"
      ],
      "metadata": {
        "colab": {
          "base_uri": "https://localhost:8080/"
        },
        "id": "kZlmZzjrEEHV",
        "outputId": "34648968-c9a7-4366-d256-18e1915790f8"
      },
      "execution_count": null,
      "outputs": [
        {
          "output_type": "stream",
          "name": "stdout",
          "text": [
            "zeros = tensor([[0., 0., 0., 0.],\n",
            "        [0., 0., 0., 0.],\n",
            "        [0., 0., 0., 0.]])\n",
            "ones = tensor([[1., 1., 1., 1.],\n",
            "        [1., 1., 1., 1.],\n",
            "        [1., 1., 1., 1.]])\n"
          ]
        }
      ]
    },
    {
      "cell_type": "code",
      "source": [
        "empty = torch.empty(2, 3)\n",
        "print(\"empty =\", empty)"
      ],
      "metadata": {
        "colab": {
          "base_uri": "https://localhost:8080/"
        },
        "id": "0daib5w5ENj6",
        "outputId": "54388d80-cbee-471f-d4d3-318990af7598"
      },
      "execution_count": null,
      "outputs": [
        {
          "output_type": "stream",
          "name": "stdout",
          "text": [
            "empty = tensor([[2.6486e+11, 3.1102e-41, 2.6464e+11],\n",
            "        [3.1102e-41, 1.1210e-43, 0.0000e+00]])\n"
          ]
        }
      ]
    },
    {
      "cell_type": "code",
      "source": [
        "I = torch.eye(4)\n",
        "I"
      ],
      "metadata": {
        "colab": {
          "base_uri": "https://localhost:8080/"
        },
        "id": "KdtVndF_E7S-",
        "outputId": "74c3c421-2a6a-49f8-ac47-1a83d08d5c07"
      },
      "execution_count": null,
      "outputs": [
        {
          "output_type": "execute_result",
          "data": {
            "text/plain": [
              "tensor([[1., 0., 0., 0.],\n",
              "        [0., 1., 0., 0.],\n",
              "        [0., 0., 1., 0.],\n",
              "        [0., 0., 0., 1.]])"
            ]
          },
          "metadata": {},
          "execution_count": 13
        }
      ]
    },
    {
      "cell_type": "code",
      "source": [
        "lower_tri = torch.tril(torch.ones(5, 5))\n",
        "lower_tri"
      ],
      "metadata": {
        "colab": {
          "base_uri": "https://localhost:8080/"
        },
        "id": "o3XJ5RJFFgng",
        "outputId": "329320c1-5f49-4395-e1eb-ab52236d04cc"
      },
      "execution_count": null,
      "outputs": [
        {
          "output_type": "execute_result",
          "data": {
            "text/plain": [
              "tensor([[1., 0., 0., 0., 0.],\n",
              "        [1., 1., 0., 0., 0.],\n",
              "        [1., 1., 1., 0., 0.],\n",
              "        [1., 1., 1., 1., 0.],\n",
              "        [1., 1., 1., 1., 1.]])"
            ]
          },
          "metadata": {},
          "execution_count": 14
        }
      ]
    },
    {
      "cell_type": "code",
      "source": [
        "upper_tri = torch.triu(torch.ones(5, 5))\n",
        "upper_tri"
      ],
      "metadata": {
        "id": "wtkblxJAK3iQ",
        "outputId": "7ae89dc5-cf4f-4705-bb6a-2bf17d94795d",
        "colab": {
          "base_uri": "https://localhost:8080/"
        }
      },
      "execution_count": null,
      "outputs": [
        {
          "output_type": "execute_result",
          "data": {
            "text/plain": [
              "tensor([[1., 1., 1., 1., 1.],\n",
              "        [0., 1., 1., 1., 1.],\n",
              "        [0., 0., 1., 1., 1.],\n",
              "        [0., 0., 0., 1., 1.],\n",
              "        [0., 0., 0., 0., 1.]])"
            ]
          },
          "metadata": {},
          "execution_count": 15
        }
      ]
    },
    {
      "cell_type": "code",
      "source": [
        "a = torch.tensor([[1., 2., 3., 4.],\n",
        "                  [2., 3., 4., 5.],\n",
        "                  [3., 4., 5., 6.]])\n",
        "empty_like = torch.empty_like(a)\n",
        "empty_like"
      ],
      "metadata": {
        "colab": {
          "base_uri": "https://localhost:8080/"
        },
        "id": "XIWkl8GsIRwg",
        "outputId": "7fa1f65c-cc34-45be-abbe-a7233e79cfc6"
      },
      "execution_count": null,
      "outputs": [
        {
          "output_type": "execute_result",
          "data": {
            "text/plain": [
              "tensor([[3.8416e+10, 3.1102e-41, 2.8889e+10, 3.1102e-41],\n",
              "        [5.8554e+19, 4.3519e-41, 0.0000e+00, 0.0000e+00],\n",
              "        [0.0000e+00, 0.0000e+00, 0.0000e+00, 0.0000e+00]])"
            ]
          },
          "metadata": {},
          "execution_count": 16
        }
      ]
    },
    {
      "cell_type": "code",
      "source": [
        "# Define a probability tensor\n",
        "probabilities = torch.tensor([0.1, 0.9])  # means 10% chance to get a 0, and 90% chance to get a 1.\n",
        "samples = torch.multinomial(probabilities, num_samples=100, replacement=True)\n",
        "print(samples)"
      ],
      "metadata": {
        "id": "ihmR_tcrMMWt",
        "outputId": "2a053d96-ca0e-423e-86f3-36814093fa20",
        "colab": {
          "base_uri": "https://localhost:8080/"
        }
      },
      "execution_count": null,
      "outputs": [
        {
          "output_type": "stream",
          "name": "stdout",
          "text": [
            "tensor([1, 1, 1, 1, 1, 1, 1, 1, 1, 1, 1, 1, 1, 1, 1, 1, 1, 1, 1, 1, 1, 1, 1, 1,\n",
            "        1, 1, 1, 1, 1, 1, 1, 1, 1, 1, 1, 1, 1, 1, 1, 1, 1, 1, 1, 0, 1, 1, 1, 1,\n",
            "        1, 1, 1, 1, 1, 1, 0, 1, 1, 1, 1, 1, 1, 1, 1, 1, 1, 1, 1, 1, 0, 1, 1, 1,\n",
            "        1, 1, 1, 0, 1, 1, 1, 1, 1, 0, 1, 1, 1, 1, 1, 1, 0, 1, 1, 1, 1, 1, 1, 1,\n",
            "        1, 1, 1, 1])\n"
          ]
        }
      ]
    },
    {
      "cell_type": "code",
      "source": [
        "# concatenate two tensors\n",
        "A=torch.ones(2, 3)\n",
        "B=2*torch.ones(4, 3)\n",
        "C=torch.cat((A,B),dim=0)\n",
        "print(\"A= \", A)\n",
        "print(\"B =\", B)\n",
        "print(\"C =\", C)"
      ],
      "metadata": {
        "id": "ygByWWkmNONX",
        "outputId": "a43119ea-19fa-4838-cb95-e20563204dea",
        "colab": {
          "base_uri": "https://localhost:8080/"
        }
      },
      "execution_count": null,
      "outputs": [
        {
          "output_type": "stream",
          "name": "stdout",
          "text": [
            "A=  tensor([[1., 1., 1.],\n",
            "        [1., 1., 1.]])\n",
            "B = tensor([[2., 2., 2.],\n",
            "        [2., 2., 2.],\n",
            "        [2., 2., 2.],\n",
            "        [2., 2., 2.]])\n",
            "C = tensor([[1., 1., 1.],\n",
            "        [1., 1., 1.],\n",
            "        [2., 2., 2.],\n",
            "        [2., 2., 2.],\n",
            "        [2., 2., 2.],\n",
            "        [2., 2., 2.]])\n"
          ]
        }
      ]
    },
    {
      "cell_type": "code",
      "source": [
        "a = torch.tensor([1, 3, 5, 8])\n",
        "b = torch.tensor([2, 6, 7, 9])\n",
        "c = torch.tensor([5, 6, 3, 2])\n",
        "stacked = torch.stack([a, b, c], dim=0)\n",
        "stacked"
      ],
      "metadata": {
        "id": "ifhLshFMPX7o",
        "outputId": "58ab2ed6-7ae5-4d75-a2b5-86c46c38386f",
        "colab": {
          "base_uri": "https://localhost:8080/"
        }
      },
      "execution_count": null,
      "outputs": [
        {
          "output_type": "execute_result",
          "data": {
            "text/plain": [
              "tensor([[1, 3, 5, 8],\n",
              "        [2, 6, 7, 9],\n",
              "        [5, 6, 3, 2]])"
            ]
          },
          "metadata": {},
          "execution_count": 19
        }
      ]
    },
    {
      "cell_type": "code",
      "source": [
        "from torch.nn.utils.rnn import pad_sequence\n",
        "a = torch.tensor([1, 3, 5, 8])\n",
        "b = torch.tensor([2, 7, 9])\n",
        "c = torch.tensor([5, 2])\n",
        "padded = pad_sequence([a, b, c], batch_first=True)\n",
        "padded"
      ],
      "metadata": {
        "id": "W5MNkABo6ADn",
        "outputId": "7d065f46-3216-4c7b-eb23-6af776303927",
        "colab": {
          "base_uri": "https://localhost:8080/"
        }
      },
      "execution_count": null,
      "outputs": [
        {
          "output_type": "execute_result",
          "data": {
            "text/plain": [
              "tensor([[1, 3, 5, 8],\n",
              "        [2, 7, 9, 0],\n",
              "        [5, 2, 0, 0]])"
            ]
          },
          "metadata": {},
          "execution_count": 20
        }
      ]
    },
    {
      "cell_type": "code",
      "source": [
        "padding_mask = padded.eq(0)\n",
        "padding_mask"
      ],
      "metadata": {
        "id": "KAUUopCA97bn",
        "outputId": "06cd13e8-41bb-4ca6-bc07-505c376125e5",
        "colab": {
          "base_uri": "https://localhost:8080/"
        }
      },
      "execution_count": null,
      "outputs": [
        {
          "output_type": "execute_result",
          "data": {
            "text/plain": [
              "tensor([[False, False, False, False],\n",
              "        [False, False, False,  True],\n",
              "        [False, False,  True,  True]])"
            ]
          },
          "metadata": {},
          "execution_count": 21
        }
      ]
    },
    {
      "cell_type": "code",
      "source": [
        "A = torch.tensor([[1., 2., 3., 4.],\n",
        "                  [2., 3., 4., 5.],\n",
        "                  [3., 4., 5., 6.]])\n",
        "A_T = A.transpose(-2, -1)\n",
        "A_T"
      ],
      "metadata": {
        "id": "IGV3GEl-PKDI",
        "outputId": "c1d1ae54-3b3d-453d-80d8-f8e3dcee216f",
        "colab": {
          "base_uri": "https://localhost:8080/"
        }
      },
      "execution_count": null,
      "outputs": [
        {
          "output_type": "execute_result",
          "data": {
            "text/plain": [
              "tensor([[1., 2., 3.],\n",
              "        [2., 3., 4.],\n",
              "        [3., 4., 5.],\n",
              "        [4., 5., 6.]])"
            ]
          },
          "metadata": {},
          "execution_count": 22
        }
      ]
    },
    {
      "cell_type": "code",
      "source": [
        "import torch.nn as nn\n",
        "sample = torch.tensor([10., 10., 10., 10.])\n",
        "linear = nn.Linear(4, 3, bias=True)\n",
        "print(linear(sample))"
      ],
      "metadata": {
        "id": "7Ql-vbzaQAmd",
        "outputId": "6487f83d-d72f-4c67-c848-f67b2ad59a5e",
        "colab": {
          "base_uri": "https://localhost:8080/"
        }
      },
      "execution_count": null,
      "outputs": [
        {
          "output_type": "stream",
          "name": "stdout",
          "text": [
            "tensor([-6.9280,  4.7998, -0.2741], grad_fn=<ViewBackward0>)\n"
          ]
        }
      ]
    },
    {
      "cell_type": "markdown",
      "source": [
        "## 2.3 Dot Product"
      ],
      "metadata": {
        "id": "A09XQP7C7a7G"
      }
    },
    {
      "cell_type": "code",
      "source": [
        "a = torch.tensor([1, 2, 3])\n",
        "b = torch.tensor([4, 5, 6])\n",
        "dot_product = torch.dot(a, b)\n",
        "dot_product"
      ],
      "metadata": {
        "id": "szw0M0PwjNvO",
        "outputId": "48d7262c-37c0-48b9-ea55-de241680dbed",
        "colab": {
          "base_uri": "https://localhost:8080/"
        }
      },
      "execution_count": null,
      "outputs": [
        {
          "output_type": "execute_result",
          "data": {
            "text/plain": [
              "tensor(32)"
            ]
          },
          "metadata": {},
          "execution_count": 24
        }
      ]
    },
    {
      "cell_type": "code",
      "source": [
        "print(\"Dot Product:\", dot_product.item())"
      ],
      "metadata": {
        "id": "315oGvP9lqYA",
        "outputId": "68de1e65-64a6-4ada-9e2f-a8140ff01b8e",
        "colab": {
          "base_uri": "https://localhost:8080/"
        }
      },
      "execution_count": null,
      "outputs": [
        {
          "output_type": "stream",
          "name": "stdout",
          "text": [
            "Dot Product: 32\n"
          ]
        }
      ]
    },
    {
      "cell_type": "code",
      "source": [
        "a = torch.tensor([[1, 2],\n",
        "                  [3, 4],\n",
        "                  [5, 6]])\n",
        "b = torch.tensor([[7,   8,  9],\n",
        "                  [10, 11, 12]])\n",
        "# print( a @ b )\n",
        "print(torch.matmul(a, b))\n"
      ],
      "metadata": {
        "id": "XyLVfD5f7ZQ6",
        "outputId": "fa081f53-7fc7-48ad-b506-5a032d7299f9",
        "colab": {
          "base_uri": "https://localhost:8080/"
        }
      },
      "execution_count": null,
      "outputs": [
        {
          "output_type": "stream",
          "name": "stdout",
          "text": [
            "tensor([[ 27,  30,  33],\n",
            "        [ 61,  68,  75],\n",
            "        [ 95, 106, 117]])\n"
          ]
        }
      ]
    },
    {
      "cell_type": "markdown",
      "source": [
        "## 2.4 Softmax"
      ],
      "metadata": {
        "id": "9s1VlNkDwsHW"
      }
    },
    {
      "cell_type": "code",
      "source": [
        "logits = torch.tensor([2.0, 5.0, 3.0])\n",
        "softmax = nn.functional.softmax(logits, dim=0)\n",
        "print(\"Logits:\", logits)\n",
        "print(\"Softmax:\", softmax)"
      ],
      "metadata": {
        "id": "rV-GI5NiwwhK",
        "outputId": "23fd70c4-689b-4c28-d90b-13c4a38e270f",
        "colab": {
          "base_uri": "https://localhost:8080/"
        }
      },
      "execution_count": null,
      "outputs": [
        {
          "output_type": "stream",
          "name": "stdout",
          "text": [
            "Logits: tensor([2., 5., 3.])\n",
            "Softmax: tensor([0.0420, 0.8438, 0.1142])\n"
          ]
        }
      ]
    },
    {
      "cell_type": "code",
      "source": [
        "a = torch.tensor([0., float('-inf')])\n",
        "torch.exp(a)"
      ],
      "metadata": {
        "id": "FDWVjY0RBmAi",
        "outputId": "e2e97fe2-2c23-451c-dc42-d04ba4c29326",
        "colab": {
          "base_uri": "https://localhost:8080/"
        }
      },
      "execution_count": null,
      "outputs": [
        {
          "output_type": "execute_result",
          "data": {
            "text/plain": [
              "tensor([1., 0.])"
            ]
          },
          "metadata": {},
          "execution_count": 28
        }
      ]
    },
    {
      "cell_type": "code",
      "source": [
        "A = torch.zeros(5, 5)\n",
        "mask = torch.tril(torch.ones(5, 5))\n",
        "print(\"mask=\\n\", mask)\n",
        "A = A.masked_fill(mask==0, float('-inf'))\n",
        "print(\"A=\\n\", A)"
      ],
      "metadata": {
        "id": "ixkgmTPnONlY",
        "outputId": "704f1ebc-24fb-415e-be8a-6b1bc750da69",
        "colab": {
          "base_uri": "https://localhost:8080/"
        }
      },
      "execution_count": null,
      "outputs": [
        {
          "output_type": "stream",
          "name": "stdout",
          "text": [
            "mask=\n",
            " tensor([[1., 0., 0., 0., 0.],\n",
            "        [1., 1., 0., 0., 0.],\n",
            "        [1., 1., 1., 0., 0.],\n",
            "        [1., 1., 1., 1., 0.],\n",
            "        [1., 1., 1., 1., 1.]])\n",
            "A=\n",
            " tensor([[0., -inf, -inf, -inf, -inf],\n",
            "        [0., 0., -inf, -inf, -inf],\n",
            "        [0., 0., 0., -inf, -inf],\n",
            "        [0., 0., 0., 0., -inf],\n",
            "        [0., 0., 0., 0., 0.]])\n"
          ]
        }
      ]
    },
    {
      "cell_type": "code",
      "source": [
        "nn.functional.softmax(A, dim=1)"
      ],
      "metadata": {
        "id": "8BuCHVRc749h",
        "outputId": "8d5e81d2-6ff3-4471-8b6a-dbedf6e5cd1c",
        "colab": {
          "base_uri": "https://localhost:8080/"
        }
      },
      "execution_count": null,
      "outputs": [
        {
          "output_type": "execute_result",
          "data": {
            "text/plain": [
              "tensor([[1.0000, 0.0000, 0.0000, 0.0000, 0.0000],\n",
              "        [0.5000, 0.5000, 0.0000, 0.0000, 0.0000],\n",
              "        [0.3333, 0.3333, 0.3333, 0.0000, 0.0000],\n",
              "        [0.2500, 0.2500, 0.2500, 0.2500, 0.0000],\n",
              "        [0.2000, 0.2000, 0.2000, 0.2000, 0.2000]])"
            ]
          },
          "metadata": {},
          "execution_count": 30
        }
      ]
    }
  ]
}