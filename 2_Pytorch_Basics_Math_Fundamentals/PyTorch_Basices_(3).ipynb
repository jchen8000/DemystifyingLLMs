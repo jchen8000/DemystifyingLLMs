{
  "nbformat": 4,
  "nbformat_minor": 0,
  "metadata": {
    "colab": {
      "provenance": [],
      "gpuType": "T4",
      "authorship_tag": "ABX9TyMtvSLbV/+g+ieBjplQ90bp",
      "include_colab_link": true
    },
    "kernelspec": {
      "name": "python3",
      "display_name": "Python 3"
    },
    "language_info": {
      "name": "python"
    },
    "accelerator": "GPU"
  },
  "cells": [
    {
      "cell_type": "markdown",
      "metadata": {
        "id": "view-in-github",
        "colab_type": "text"
      },
      "source": [
        "<a href=\"https://colab.research.google.com/github/jchen8000/DemystifyingLLMs/blob/main/2_Pytorch_Basics_Math_Fundamentals/PyTorch_Basices_(3).ipynb\" target=\"_parent\"><img src=\"https://colab.research.google.com/assets/colab-badge.svg\" alt=\"Open In Colab\"/></a>"
      ]
    },
    {
      "cell_type": "markdown",
      "source": [
        "# 2. Pytorch Basics and Math Fundamentals (Part 3)\n",
        "\n",
        "*   2.9. Neural Network\n",
        "*   2.10\tBigram and N-gram Models\n",
        "*   2.11\tGreedy, Random Sampling and Beam\n",
        "\n",
        "\n",
        "\n"
      ],
      "metadata": {
        "id": "_6rV8iNjgMJf"
      }
    },
    {
      "cell_type": "code",
      "source": [
        "!pip install --upgrade pip\n",
        "!pip install torchtext --quiet\n",
        "!pip install torchdata --quiet\n",
        "!pip install transformers --quiet"
      ],
      "metadata": {
        "id": "0axC8kc2XKri",
        "outputId": "08604373-fad8-4407-efa9-2cbbc73c648c",
        "colab": {
          "base_uri": "https://localhost:8080/"
        }
      },
      "execution_count": 21,
      "outputs": [
        {
          "output_type": "stream",
          "name": "stdout",
          "text": [
            "Requirement already satisfied: pip in /usr/local/lib/python3.10/dist-packages (24.0)\n",
            "\u001b[33mWARNING: Running pip as the 'root' user can result in broken permissions and conflicting behaviour with the system package manager. It is recommended to use a virtual environment instead: https://pip.pypa.io/warnings/venv\u001b[0m\u001b[33m\n",
            "\u001b[0m\u001b[33mWARNING: Running pip as the 'root' user can result in broken permissions and conflicting behaviour with the system package manager. It is recommended to use a virtual environment instead: https://pip.pypa.io/warnings/venv\u001b[0m\u001b[33m\n",
            "\u001b[0m\u001b[33mWARNING: Running pip as the 'root' user can result in broken permissions and conflicting behaviour with the system package manager. It is recommended to use a virtual environment instead: https://pip.pypa.io/warnings/venv\u001b[0m\u001b[33m\n",
            "\u001b[0m\u001b[33mWARNING: Running pip as the 'root' user can result in broken permissions and conflicting behaviour with the system package manager. It is recommended to use a virtual environment instead: https://pip.pypa.io/warnings/venv\u001b[0m\u001b[33m\n",
            "\u001b[0m"
          ]
        }
      ]
    },
    {
      "cell_type": "markdown",
      "source": [
        "## 2.9\tNeural Network"
      ],
      "metadata": {
        "id": "CSxpvL9WgYzA"
      }
    },
    {
      "cell_type": "code",
      "execution_count": 22,
      "metadata": {
        "id": "vkiXpPXegU8o"
      },
      "outputs": [],
      "source": [
        "import numpy as np\n",
        "import torch\n",
        "import torch.nn as nn\n",
        "import torch.optim as optim\n",
        "from sklearn import datasets\n",
        "from sklearn.preprocessing import StandardScaler\n",
        "from sklearn.model_selection import train_test_split\n",
        "import matplotlib.pyplot as plt\n",
        "import time"
      ]
    },
    {
      "cell_type": "code",
      "source": [
        "device = 'cuda' if torch.cuda.is_available() else 'cpu'\n",
        "\n",
        "# Read data\n",
        "data = datasets.load_diabetes()\n",
        "X, y = data.data, data.target\n",
        "\n",
        "# Standardizing data\n",
        "scaler = StandardScaler()\n",
        "X = scaler.fit_transform(X)\n",
        "\n",
        "# train-test split for model evaluation\n",
        "X_train, X_test, y_train, y_test = train_test_split(X, y, train_size=0.8, shuffle=True)\n",
        "\n",
        "# Convert to 2D PyTorch tensors\n",
        "X_train = torch.tensor(X_train, dtype=torch.float32)\n",
        "y_train = torch.tensor(y_train, dtype=torch.float32).reshape(-1, 1)\n",
        "X_test = torch.tensor(X_test, dtype=torch.float32)\n",
        "y_test = torch.tensor(y_test, dtype=torch.float32).reshape(-1, 1)\n",
        "\n",
        "X_train = X_train.to(device)\n",
        "y_train = y_train.to(device)\n",
        "X_test = X_test.to(device)\n",
        "y_test = y_test.to(device)\n",
        "\n",
        "print(X_train.shape, y_train.shape)\n",
        "print(X_test.shape, y_test.shape)\n"
      ],
      "metadata": {
        "colab": {
          "base_uri": "https://localhost:8080/"
        },
        "id": "86C66GcLgnaQ",
        "outputId": "683e9773-e545-4a64-cf42-c48788d186d5"
      },
      "execution_count": 23,
      "outputs": [
        {
          "output_type": "stream",
          "name": "stdout",
          "text": [
            "torch.Size([353, 10]) torch.Size([353, 1])\n",
            "torch.Size([89, 10]) torch.Size([89, 1])\n"
          ]
        }
      ]
    },
    {
      "cell_type": "code",
      "source": [
        "class LinearRegression(nn.Module):\n",
        "\n",
        "  def __init__(self, input_dim: int, output_dim: int) -> None:\n",
        "    super(LinearRegression, self).__init__()\n",
        "    self.fc1 = nn.Linear(input_dim, 32)\n",
        "    self.fc2 = nn.Linear(32, 16)\n",
        "    self.fc3 = nn.Linear(16, output_dim)\n",
        "    self.relu = nn.ReLU()\n",
        "\n",
        "  def forward(self, x):\n",
        "    x = self.relu(self.fc1(x))\n",
        "    x = self.relu(self.fc2(x))\n",
        "    x = self.fc3(x)\n",
        "    return x\n",
        "\n",
        "model = LinearRegression(X_train.shape[1], y_train.shape[1])\n",
        "model.to(device)\n",
        "\n",
        "total_parameter = sum(p.numel() for p in model.parameters())\n",
        "print(f\"Total Parameters: {total_parameter:,}\")\n",
        "print(model)"
      ],
      "metadata": {
        "id": "wXO5BkJrpK00",
        "outputId": "598ee0e5-2d14-48b4-b865-2af5a29aff19",
        "colab": {
          "base_uri": "https://localhost:8080/"
        }
      },
      "execution_count": 24,
      "outputs": [
        {
          "output_type": "stream",
          "name": "stdout",
          "text": [
            "Total Parameters: 897\n",
            "LinearRegression(\n",
            "  (fc1): Linear(in_features=10, out_features=32, bias=True)\n",
            "  (fc2): Linear(in_features=32, out_features=16, bias=True)\n",
            "  (fc3): Linear(in_features=16, out_features=1, bias=True)\n",
            "  (relu): ReLU()\n",
            ")\n"
          ]
        }
      ]
    },
    {
      "cell_type": "code",
      "source": [
        "learning_rate = 1e-3\n",
        "epochs = 500  # number of epochs to run\n",
        "batch_size = 64  # size of each batch\n",
        "\n",
        "# loss function and optimizer\n",
        "loss_fn = nn.MSELoss()  # mean square error\n",
        "optimizer = optim.Adam(model.parameters(), lr=learning_rate)\n",
        "\n",
        "# Hold the best model\n",
        "best_mse = np.inf   # init to infinity\n",
        "history = []"
      ],
      "metadata": {
        "id": "L9slZkp7hD6t"
      },
      "execution_count": 25,
      "outputs": []
    },
    {
      "cell_type": "code",
      "source": [
        "start_time = time.time()\n",
        "for epoch in range(epochs):\n",
        "    model.train()\n",
        "    for i in range(0, len(X_train), batch_size):\n",
        "        # take a batch\n",
        "        X_batch = X_train[i:i+batch_size]\n",
        "        y_batch = y_train[i:i+batch_size]\n",
        "        # forward pass\n",
        "        y_pred = model(X_batch)\n",
        "        loss = loss_fn(y_pred, y_batch)\n",
        "        # backward pass\n",
        "        optimizer.zero_grad()\n",
        "        loss.backward()\n",
        "        # update weights\n",
        "        optimizer.step()\n",
        "    # evaluate accuracy at end of each epoch\n",
        "    model.eval()\n",
        "    y_pred = model(X_test)\n",
        "    mse = loss_fn(y_pred, y_test)\n",
        "    mse = float(mse)\n",
        "    history.append(mse)\n",
        "    if epoch % 10 == 0:\n",
        "      print(f\"Epoch {epoch}: Loss {mse:.8f}, time elapsed {(time.time()-start_time):.4f}s\")\n",
        "    if mse < best_mse:\n",
        "        best_mse = mse\n",
        "\n",
        "end_time = time.time()\n",
        "print(f\"Time spent: {(end_time-start_time):.8f}\")"
      ],
      "metadata": {
        "id": "iqxE8QUFhVQ2",
        "outputId": "f6f9d65d-574d-437f-df78-bff9f586dcf4",
        "colab": {
          "base_uri": "https://localhost:8080/"
        }
      },
      "execution_count": 26,
      "outputs": [
        {
          "output_type": "stream",
          "name": "stdout",
          "text": [
            "Epoch 0: Loss 28360.67773438, time elapsed 0.0134s\n",
            "Epoch 10: Loss 28030.70898438, time elapsed 0.1019s\n",
            "Epoch 20: Loss 26578.67968750, time elapsed 0.1996s\n",
            "Epoch 30: Loss 22370.58203125, time elapsed 0.2912s\n",
            "Epoch 40: Loss 15333.47460938, time elapsed 0.3781s\n",
            "Epoch 50: Loss 9548.17578125, time elapsed 0.4682s\n",
            "Epoch 60: Loss 7442.72753906, time elapsed 0.5990s\n",
            "Epoch 70: Loss 6501.94091797, time elapsed 0.7111s\n",
            "Epoch 80: Loss 5875.80859375, time elapsed 0.8693s\n",
            "Epoch 90: Loss 5427.30468750, time elapsed 1.0954s\n",
            "Epoch 100: Loss 5095.76269531, time elapsed 1.3166s\n",
            "Epoch 110: Loss 4838.29345703, time elapsed 1.4834s\n",
            "Epoch 120: Loss 4632.90625000, time elapsed 1.6477s\n",
            "Epoch 130: Loss 4479.14404297, time elapsed 1.7814s\n",
            "Epoch 140: Loss 4362.22119141, time elapsed 1.9065s\n",
            "Epoch 150: Loss 4277.31689453, time elapsed 2.0310s\n",
            "Epoch 160: Loss 4226.60449219, time elapsed 2.1534s\n",
            "Epoch 170: Loss 4184.08349609, time elapsed 2.2389s\n",
            "Epoch 180: Loss 4156.26855469, time elapsed 2.3226s\n",
            "Epoch 190: Loss 4138.01074219, time elapsed 2.4095s\n",
            "Epoch 200: Loss 4128.02929688, time elapsed 2.4999s\n",
            "Epoch 210: Loss 4121.04785156, time elapsed 2.5901s\n",
            "Epoch 220: Loss 4115.17822266, time elapsed 2.6800s\n",
            "Epoch 230: Loss 4109.98095703, time elapsed 2.8047s\n",
            "Epoch 240: Loss 4105.57958984, time elapsed 2.9264s\n",
            "Epoch 250: Loss 4102.97802734, time elapsed 3.0458s\n",
            "Epoch 260: Loss 4103.09863281, time elapsed 3.1336s\n",
            "Epoch 270: Loss 4102.85693359, time elapsed 3.2265s\n",
            "Epoch 280: Loss 4102.71679688, time elapsed 3.3130s\n",
            "Epoch 290: Loss 4101.90576172, time elapsed 3.3998s\n",
            "Epoch 300: Loss 4101.15087891, time elapsed 3.4873s\n",
            "Epoch 310: Loss 4102.89501953, time elapsed 3.5744s\n",
            "Epoch 320: Loss 4106.82812500, time elapsed 3.6633s\n",
            "Epoch 330: Loss 4110.80371094, time elapsed 3.7547s\n",
            "Epoch 340: Loss 4114.94482422, time elapsed 3.8439s\n",
            "Epoch 350: Loss 4118.55468750, time elapsed 3.9355s\n",
            "Epoch 360: Loss 4123.35107422, time elapsed 4.0307s\n",
            "Epoch 370: Loss 4129.05664062, time elapsed 4.1204s\n",
            "Epoch 380: Loss 4132.74511719, time elapsed 4.2100s\n",
            "Epoch 390: Loss 4135.72216797, time elapsed 4.3005s\n",
            "Epoch 400: Loss 4138.74707031, time elapsed 4.3874s\n",
            "Epoch 410: Loss 4142.55859375, time elapsed 4.4779s\n",
            "Epoch 420: Loss 4146.14697266, time elapsed 4.5681s\n",
            "Epoch 430: Loss 4150.32324219, time elapsed 4.6532s\n",
            "Epoch 440: Loss 4154.30126953, time elapsed 4.7500s\n",
            "Epoch 450: Loss 4159.34863281, time elapsed 4.8388s\n",
            "Epoch 460: Loss 4164.29394531, time elapsed 4.9253s\n",
            "Epoch 470: Loss 4166.31591797, time elapsed 5.0250s\n",
            "Epoch 480: Loss 4167.80664062, time elapsed 5.1198s\n",
            "Epoch 490: Loss 4169.48828125, time elapsed 5.2054s\n",
            "Time spent: 5.28737831\n"
          ]
        }
      ]
    },
    {
      "cell_type": "code",
      "source": [
        "print(\"MSE: %.2f\" % best_mse)\n",
        "print(\"RMSE: %.2f\" % np.sqrt(best_mse))\n",
        "plt.title('Loss vs Epoch')\n",
        "plt.plot(history, lw=2, c='k')\n",
        "plt.savefig(\"logistic_regression_training_result.svg\", format=\"svg\", transparent=True, bbox_inches='tight')\n",
        "plt.show()"
      ],
      "metadata": {
        "id": "Wb3MUJYPiqpf",
        "outputId": "897a6bea-0cce-4c58-eccd-f4095579a51a",
        "colab": {
          "base_uri": "https://localhost:8080/",
          "height": 487
        }
      },
      "execution_count": 27,
      "outputs": [
        {
          "output_type": "stream",
          "name": "stdout",
          "text": [
            "MSE: 4100.86\n",
            "RMSE: 64.04\n"
          ]
        },
        {
          "output_type": "display_data",
          "data": {
            "text/plain": [
              "<Figure size 640x480 with 1 Axes>"
            ],
            "image/png": "[encoded data removed]"
          },
          "metadata": {}
        }
      ]
    },
    {
      "cell_type": "markdown",
      "source": [
        "## 2.10\tBigram and N-gram Models"
      ],
      "metadata": {
        "id": "C8TlmTv7hDkp"
      }
    },
    {
      "cell_type": "code",
      "source": [
        "!pip install 'portalocker>=2.0.0'"
      ],
      "metadata": {
        "id": "cZuVWU3_hCsa",
        "outputId": "f97dc730-8719-4966-fd5f-a7aa9b0f41dc",
        "colab": {
          "base_uri": "https://localhost:8080/"
        }
      },
      "execution_count": 28,
      "outputs": [
        {
          "output_type": "stream",
          "name": "stdout",
          "text": [
            "Requirement already satisfied: portalocker>=2.0.0 in /usr/local/lib/python3.10/dist-packages (2.8.2)\n",
            "\u001b[33mWARNING: Running pip as the 'root' user can result in broken permissions and conflicting behaviour with the system package manager. It is recommended to use a virtual environment instead: https://pip.pypa.io/warnings/venv\u001b[0m\u001b[33m\n",
            "\u001b[0m"
          ]
        }
      ]
    },
    {
      "cell_type": "markdown",
      "source": [
        "Loading and preparing text data"
      ],
      "metadata": {
        "id": "6nEbaGgXhRZw"
      }
    },
    {
      "cell_type": "code",
      "source": [
        "import re\n",
        "from torchtext.datasets import IMDB\n",
        "\n",
        "train_iter = IMDB(split='train')"
      ],
      "metadata": {
        "id": "iB0hAUw9hJnJ"
      },
      "execution_count": 29,
      "outputs": []
    },
    {
      "cell_type": "code",
      "source": [
        "def tokenize(label, line):\n",
        "    line = re.sub('\\s{2,}', ' ', line)              # convert multiple spaces to single space\n",
        "    line = line.replace('\"', '')                    # remove \"\n",
        "    line = re.sub('\\<[^)]*\\>', '', line)            # remove everything inside < >\n",
        "    line = '<SOS> ' + line.replace('.', ' .')       # add a space to do and add a dot to the begining of the text\n",
        "    return line.split()\n",
        "\n",
        "words = []\n",
        "for label, line in train_iter:\n",
        "    words += tokenize(label, line)"
      ],
      "metadata": {
        "id": "Goz8MlpqhYZb"
      },
      "execution_count": 30,
      "outputs": []
    },
    {
      "cell_type": "markdown",
      "source": [
        "Create a dictionary to record what words are following a given word"
      ],
      "metadata": {
        "id": "QbLN8Cl7hkCx"
      }
    },
    {
      "cell_type": "code",
      "source": [
        "import random\n",
        "bgrams = {}                       # dictionary to store word counts\n",
        "\n",
        "# words = text.split()\n",
        "for i in range(len(words)-2):\n",
        "  w1 = words[i]                   # first word\n",
        "  w2 = words[i+1]                 # second word\n",
        "  if not w1 in bgrams:\n",
        "    bgrams[w1] = {}\n",
        "  if not w2 in bgrams[w1]:\n",
        "    bgrams[w1][w2] = 1\n",
        "  else:\n",
        "    bgrams[w1][w2] += 1\n",
        "print('Total words:', len(words))"
      ],
      "metadata": {
        "id": "a4T_kIf1hd7o",
        "outputId": "cebf183f-953e-42a3-d1f5-44c5d1928f94",
        "colab": {
          "base_uri": "https://localhost:8080/"
        }
      },
      "execution_count": 31,
      "outputs": [
        {
          "output_type": "stream",
          "name": "stdout",
          "text": [
            "Total words: 4602543\n"
          ]
        }
      ]
    },
    {
      "cell_type": "code",
      "source": [
        "## Top 10 words after '<SOS>'\n",
        "# dict(sorted(bgrams['<SOS>'].items(), key=lambda x:x[1], reverse=True)[:10])\n",
        "# dict(sorted(bgrams['<SOS>'].items(), key=lambda x:-x[1])[:10])"
      ],
      "metadata": {
        "id": "LBN8XcpBht_o"
      },
      "execution_count": 32,
      "outputs": []
    },
    {
      "cell_type": "markdown",
      "source": [
        "Sorting and calculating probabilities"
      ],
      "metadata": {
        "id": "27ngvS3Uh6yc"
      }
    },
    {
      "cell_type": "code",
      "source": [
        "for w in bgrams:\n",
        "  bgrams[w] = dict(sorted(bgrams[w].items(), key=lambda item: -item[1])[:10])\n",
        "  total = sum(bgrams[w].values())\n",
        "  bgrams[w] = dict([(k, bgrams[w][k]/total) for k in bgrams[w]])"
      ],
      "metadata": {
        "id": "8A2zAYwHh38T"
      },
      "execution_count": 33,
      "outputs": []
    },
    {
      "cell_type": "markdown",
      "source": [
        "Generating words and sentences"
      ],
      "metadata": {
        "id": "b_CihLG3iIkt"
      }
    },
    {
      "cell_type": "code",
      "source": [
        "import random\n",
        "random.seed(8888)\n",
        "# this function takes a word and returns the next word.\n",
        "def next_word(word):\n",
        "  vars = bgrams[word]   #list of probable words for the given word\n",
        "  # vars.keys() : list of possible words to choose from\n",
        "  # vars.values() : list of probabilities for each possible words\n",
        "  return random.choices(list(vars.keys()), weights=vars.values())[0]\n",
        "\n",
        "\n",
        "def sentence(max_word=50):\n",
        "  words = []\n",
        "  w = '<SOS>'                 # first word is always '<SOS>'\n",
        "  for i in range(max_word):         # limit max words to generate\n",
        "    w = next_word(w)\n",
        "    if w == '.':              # stop generating words by '.'\n",
        "      break\n",
        "    words.append(w)\n",
        "  # return (' '.join(words) + '. ').capitalize()    # join all words to a sentence and add a dot at the end,\n",
        "  return (' '.join(words) + '. ')"
      ],
      "metadata": {
        "id": "s1GacwFsiF79"
      },
      "execution_count": 34,
      "outputs": []
    },
    {
      "cell_type": "code",
      "source": [
        "for i in range(20):\n",
        "  print(sentence())"
      ],
      "metadata": {
        "id": "sQu5Zf4giWNu",
        "outputId": "3a93eaee-cd53-46cd-d7e2-bf9136baf348",
        "colab": {
          "base_uri": "https://localhost:8080/"
        }
      },
      "execution_count": 35,
      "outputs": [
        {
          "output_type": "stream",
          "name": "stdout",
          "text": [
            "This is the movie was in their lines. \n",
            "I have to a good as a movie is a movie. \n",
            "This movie was very good. \n",
            "This is a lot about it would love this movie, and I had a few things and the film that the first time. \n",
            "I would like a little bit of a good job is a film for the other films of the film. \n",
            "This isn't a film is a great in the best. \n",
            "I have a movie. \n",
            "This is a very well. \n",
            "I was a lot of this film is a great deal. \n",
            "As a good film. \n",
            "The script. \n",
            "I don't even if you are not a good and a bit. \n",
            "This movie was the first half the film was a few of it was the movie was one of the film in this movie with the movie was a film. \n",
            "This is so much of the movie is a little too bad guy with some of the movie is a lot to watch it was in this film has a lot of his life. \n",
            "I have a lot of the worst of a lot of the same way the first time on the movie. \n",
            "This film has the film with a little more than it is a film that they are just about this is not as the film for his father is the movie. \n",
            "If you don't have no reason I have a lot. \n",
            "A few days. \n",
            "I think the movie is not a few people who was made in a few years of the movie I have a film is the first saw it, you are a great job as an excellent and I don't know why it was a lot to the story with his. \n",
            "The plot to see it is that it was not. \n"
          ]
        }
      ]
    },
    {
      "cell_type": "markdown",
      "source": [
        "## 2.11\tGreedy, Random Sampling and Beam\n",
        "\n",
        "Greedy:"
      ],
      "metadata": {
        "id": "dG3A6Y6t1Bef"
      }
    },
    {
      "cell_type": "code",
      "source": [
        "def greedy_search(probabilities):\n",
        "    return torch.argmax(probabilities, dim=-1)\n",
        "\n",
        "vocab = [\"h\", \"e\", \"l\", \"o\"]  # vocabulary\n",
        "probabilities = torch.tensor([\n",
        "    [0.4, 0.3, 0.1, 0.2],\n",
        "    [0.1, 0.7, 0.2, 0.0],\n",
        "    [0.1, 0.2, 0.5, 0.2],\n",
        "    [0.1, 0.1, 0.6, 0.2],\n",
        "    [0.2, 0.1, 0.1, 0.6]\n",
        "])\n",
        "\n",
        "output = greedy_search(probabilities)\n",
        "print(output)\n",
        "generated_word = \"\".join([vocab[i] for i in output])\n",
        "print(generated_word)"
      ],
      "metadata": {
        "id": "t9iqjgvrzvAq",
        "outputId": "b9d79b5d-ca13-4482-d581-7037caf464a4",
        "colab": {
          "base_uri": "https://localhost:8080/"
        }
      },
      "execution_count": 36,
      "outputs": [
        {
          "output_type": "stream",
          "name": "stdout",
          "text": [
            "tensor([0, 1, 2, 2, 3])\n",
            "hello\n"
          ]
        }
      ]
    },
    {
      "cell_type": "markdown",
      "source": [
        "Random Sampling:"
      ],
      "metadata": {
        "id": "xGwJ-0YB2e3g"
      }
    },
    {
      "cell_type": "code",
      "source": [
        "import torch.nn.functional as F\n",
        "\n",
        "def random_sampling(logits, top_k):\n",
        "    top_k_probs, _ = torch.topk(logits, top_k, dim=-1)\n",
        "    kth_highest_prob = top_k_probs[:, -1].unsqueeze(-1)\n",
        "    mask = logits < kth_highest_prob\n",
        "    probs = logits.masked_fill(mask, float('-inf'))\n",
        "    probabilities = F.softmax(probs, dim=-1)\n",
        "    output = torch.multinomial(probabilities, 1).squeeze(-1)\n",
        "    return output\n",
        "\n",
        "vocab = [\"h\", \"e\", \"l\", \"o\"]  # Vocabulary\n",
        "logits = torch.tensor([\n",
        "    [3.0, 1.0, 0.5, 0.1],\n",
        "    [0.6, 3.5, 2.5, 0.2],\n",
        "    [1.0, 0.2, 3.5, 1.5],\n",
        "    [0.3, 2.5, 4.1, 0.4],\n",
        "    [0.3, 1.0, 0.1, 4.4]\n",
        "  ])\n",
        "\n",
        "output = random_sampling(logits, top_k=2)\n",
        "print(output)\n",
        "generated_word = \"\".join([vocab[i] for i in output])\n",
        "print(generated_word)"
      ],
      "metadata": {
        "id": "RgMHJRFV1Q1W",
        "outputId": "b6f58e91-e3db-4bbd-d94d-5effd2ada9d7",
        "colab": {
          "base_uri": "https://localhost:8080/"
        }
      },
      "execution_count": 37,
      "outputs": [
        {
          "output_type": "stream",
          "name": "stdout",
          "text": [
            "tensor([0, 1, 2, 1, 3])\n",
            "heleo\n"
          ]
        }
      ]
    },
    {
      "cell_type": "markdown",
      "source": [
        "Beam:"
      ],
      "metadata": {
        "id": "B959de3k40Mb"
      }
    },
    {
      "cell_type": "code",
      "source": [
        "from transformers import GPT2LMHeadModel, GPT2Tokenizer\n",
        "\n",
        "# Load pre-trained model and tokenizer\n",
        "model = GPT2LMHeadModel.from_pretrained('gpt2')\n",
        "tokenizer = GPT2Tokenizer.from_pretrained('gpt2')"
      ],
      "metadata": {
        "id": "eSxgQP-65GDT"
      },
      "execution_count": 38,
      "outputs": []
    },
    {
      "cell_type": "code",
      "source": [
        "input_text = \"The quick brown fox\"\n",
        "input_ids = tokenizer.encode(input_text, return_tensors='pt')\n",
        "\n",
        "attention_mask = torch.ones(input_ids.shape, dtype=torch.long)\n",
        "\n",
        "# Generate sequences\n",
        "outputs = model.generate(\n",
        "  input_ids,\n",
        "  max_length=50,\n",
        "  num_beams=5,\n",
        "  early_stopping=True,\n",
        "  attention_mask=attention_mask,\n",
        "  pad_token_id=tokenizer.eos_token_id\n",
        ")\n",
        "\n",
        "# Decode generated sequences\n",
        "print(tokenizer.decode(outputs[0], skip_special_tokens=True))"
      ],
      "metadata": {
        "id": "bF3zULj14n7d",
        "outputId": "7d876fb8-5e4c-492c-e8b8-62fbc944ae3e",
        "colab": {
          "base_uri": "https://localhost:8080/"
        }
      },
      "execution_count": 39,
      "outputs": [
        {
          "output_type": "stream",
          "name": "stdout",
          "text": [
            "The quick brown foxes have been known to eat a variety of foods, including meat, fish, eggs, nuts, seeds, nuts, seeds, nuts, seeds, nuts, seeds, nuts, seeds, nuts, seeds, nuts, seeds,\n"
          ]
        }
      ]
    }
  ]
}