{
  "nbformat": 4,
  "nbformat_minor": 0,
  "metadata": {
    "colab": {
      "provenance": [],
      "authorship_tag": "ABX9TyOIrQ7nS3wzftp6nzY4hUiK",
      "include_colab_link": true
    },
    "kernelspec": {
      "name": "python3",
      "display_name": "Python 3"
    },
    "language_info": {
      "name": "python"
    }
  },
  "cells": [
    {
      "cell_type": "markdown",
      "metadata": {
        "id": "view-in-github",
        "colab_type": "text"
      },
      "source": [
        "<a href=\"https://colab.research.google.com/github/jchen8000/GenerativeAI/blob/main/2_Pytorch_Basics_Math_Fundamentals/PyTorch_Basices_(3).ipynb\" target=\"_parent\"><img src=\"https://colab.research.google.com/assets/colab-badge.svg\" alt=\"Open In Colab\"/></a>"
      ]
    },
    {
      "cell_type": "markdown",
      "source": [
        "# 2. Pytorch Basics and Math Fundamentals (Part 3)\n",
        "\n",
        "*   2.9. Neural Network\n",
        "*   2.10\tBigram and N-gram Models\n",
        "*   2.11\tGreedy, Random Sampling and Beam\n",
        "\n",
        "\n",
        "\n"
      ],
      "metadata": {
        "id": "_6rV8iNjgMJf"
      }
    },
    {
      "cell_type": "markdown",
      "source": [
        "## 2.9\tNeural Network"
      ],
      "metadata": {
        "id": "CSxpvL9WgYzA"
      }
    },
    {
      "cell_type": "code",
      "execution_count": 36,
      "metadata": {
        "id": "vkiXpPXegU8o"
      },
      "outputs": [],
      "source": [
        "import numpy as np\n",
        "import torch\n",
        "import torch.nn as nn\n",
        "import torch.optim as optim\n",
        "from sklearn import datasets\n",
        "from sklearn.preprocessing import StandardScaler\n",
        "from sklearn.model_selection import train_test_split\n",
        "import matplotlib.pyplot as plt\n",
        "import time"
      ]
    },
    {
      "cell_type": "code",
      "source": [
        "device = 'cuda' if torch.cuda.is_available() else 'cpu'\n",
        "\n",
        "# Read data\n",
        "data = datasets.load_diabetes()\n",
        "X, y = data.data, data.target\n",
        "\n",
        "# Standardizing data\n",
        "scaler = StandardScaler()\n",
        "X = scaler.fit_transform(X)\n",
        "\n",
        "# train-test split for model evaluation\n",
        "X_train, X_test, y_train, y_test = train_test_split(X, y, train_size=0.8, shuffle=True)\n",
        "\n",
        "# Convert to 2D PyTorch tensors\n",
        "X_train = torch.tensor(X_train, dtype=torch.float32)\n",
        "y_train = torch.tensor(y_train, dtype=torch.float32).reshape(-1, 1)\n",
        "X_test = torch.tensor(X_test, dtype=torch.float32)\n",
        "y_test = torch.tensor(y_test, dtype=torch.float32).reshape(-1, 1)\n",
        "\n",
        "X_train = X_train.to(device)\n",
        "y_train = y_train.to(device)\n",
        "X_test = X_test.to(device)\n",
        "y_test = y_test.to(device)\n",
        "\n",
        "print(X_train.shape, y_train.shape)\n",
        "print(X_test.shape, y_test.shape)\n"
      ],
      "metadata": {
        "colab": {
          "base_uri": "https://localhost:8080/"
        },
        "id": "86C66GcLgnaQ",
        "outputId": "4d285036-5a63-41af-914e-b3c3348503e2"
      },
      "execution_count": 37,
      "outputs": [
        {
          "output_type": "stream",
          "name": "stdout",
          "text": [
            "torch.Size([353, 10]) torch.Size([353, 1])\n",
            "torch.Size([89, 10]) torch.Size([89, 1])\n"
          ]
        }
      ]
    },
    {
      "cell_type": "code",
      "source": [
        "class LinearRegression(nn.Module):\n",
        "\n",
        "  def __init__(self, input_dim: int, output_dim: int) -> None:\n",
        "    super(LinearRegression, self).__init__()\n",
        "    self.fc1 = nn.Linear(input_dim, 32)\n",
        "    self.fc2 = nn.Linear(32, 16)\n",
        "    self.fc3 = nn.Linear(16, output_dim)\n",
        "    self.relu = nn.ReLU()\n",
        "\n",
        "  def forward(self, x):\n",
        "    x = self.relu(self.fc1(x))\n",
        "    x = self.relu(self.fc2(x))\n",
        "    x = self.fc3(x)\n",
        "    return x\n",
        "\n",
        "model = LinearRegression(X_train.shape[1], y_train.shape[1])\n",
        "model.to(device)\n",
        "\n",
        "total_parameter = sum(p.numel() for p in model.parameters())\n",
        "print(f\"Total Parameters: {total_parameter:,}\")\n",
        "print(model)"
      ],
      "metadata": {
        "id": "wXO5BkJrpK00",
        "outputId": "4a6634c3-fa61-4792-bc59-d223d0ed261f",
        "colab": {
          "base_uri": "https://localhost:8080/"
        }
      },
      "execution_count": 38,
      "outputs": [
        {
          "output_type": "stream",
          "name": "stdout",
          "text": [
            "Total Parameters: 897\n",
            "LinearRegression(\n",
            "  (fc1): Linear(in_features=10, out_features=32, bias=True)\n",
            "  (fc2): Linear(in_features=32, out_features=16, bias=True)\n",
            "  (fc3): Linear(in_features=16, out_features=1, bias=True)\n",
            "  (relu): ReLU()\n",
            ")\n"
          ]
        }
      ]
    },
    {
      "cell_type": "code",
      "source": [
        "learning_rate = 1e-3\n",
        "epochs = 500  # number of epochs to run\n",
        "batch_size = 64  # size of each batch\n",
        "\n",
        "# loss function and optimizer\n",
        "loss_fn = nn.MSELoss()  # mean square error\n",
        "optimizer = optim.Adam(model.parameters(), lr=learning_rate)\n",
        "\n",
        "# Hold the best model\n",
        "best_mse = np.inf   # init to infinity\n",
        "history = []"
      ],
      "metadata": {
        "id": "L9slZkp7hD6t"
      },
      "execution_count": 39,
      "outputs": []
    },
    {
      "cell_type": "code",
      "source": [
        "start_time = time.time()\n",
        "for epoch in range(epochs):\n",
        "    model.train()\n",
        "    for i in range(0, len(X_train), batch_size):\n",
        "        # take a batch\n",
        "        X_batch = X_train[i:i+batch_size]\n",
        "        y_batch = y_train[i:i+batch_size]\n",
        "        # forward pass\n",
        "        y_pred = model(X_batch)\n",
        "        loss = loss_fn(y_pred, y_batch)\n",
        "        # backward pass\n",
        "        optimizer.zero_grad()\n",
        "        loss.backward()\n",
        "        # update weights\n",
        "        optimizer.step()\n",
        "    # evaluate accuracy at end of each epoch\n",
        "    model.eval()\n",
        "    y_pred = model(X_test)\n",
        "    mse = loss_fn(y_pred, y_test)\n",
        "    mse = float(mse)\n",
        "    history.append(mse)\n",
        "    if epoch % 10 == 0:\n",
        "      print(f\"Epoch {epoch}: Loss {mse:.8f}, time elapsed {(time.time()-start_time):.4f}s\")\n",
        "    if mse < best_mse:\n",
        "        best_mse = mse\n",
        "\n",
        "end_time = time.time()\n",
        "print(f\"Time spent: {(end_time-start_time):.8f}\")"
      ],
      "metadata": {
        "id": "iqxE8QUFhVQ2",
        "outputId": "cbe3e15b-64be-4062-8f97-1d5c02af80de",
        "colab": {
          "base_uri": "https://localhost:8080/"
        }
      },
      "execution_count": 40,
      "outputs": [
        {
          "output_type": "stream",
          "name": "stdout",
          "text": [
            "Epoch 0: Loss 30898.65234375, time elapsed 0.0276s\n",
            "Epoch 10: Loss 30337.72460938, time elapsed 0.1730s\n",
            "Epoch 20: Loss 27818.98046875, time elapsed 0.2953s\n",
            "Epoch 30: Loss 20765.67382812, time elapsed 0.4740s\n",
            "Epoch 40: Loss 11429.64648438, time elapsed 0.7742s\n",
            "Epoch 50: Loss 6457.73876953, time elapsed 1.0733s\n",
            "Epoch 60: Loss 4967.37792969, time elapsed 1.2243s\n",
            "Epoch 70: Loss 4307.88085938, time elapsed 1.3727s\n",
            "Epoch 80: Loss 3916.96875000, time elapsed 1.5100s\n",
            "Epoch 90: Loss 3657.63696289, time elapsed 1.6476s\n",
            "Epoch 100: Loss 3463.76904297, time elapsed 1.7749s\n",
            "Epoch 110: Loss 3314.11035156, time elapsed 1.9053s\n",
            "Epoch 120: Loss 3205.07519531, time elapsed 2.0736s\n",
            "Epoch 130: Loss 3121.10961914, time elapsed 2.2060s\n",
            "Epoch 140: Loss 3057.96142578, time elapsed 2.3337s\n",
            "Epoch 150: Loss 3014.09936523, time elapsed 2.4461s\n",
            "Epoch 160: Loss 2983.92797852, time elapsed 2.5802s\n",
            "Epoch 170: Loss 2967.08325195, time elapsed 2.8195s\n",
            "Epoch 180: Loss 2957.85595703, time elapsed 2.9380s\n",
            "Epoch 190: Loss 2954.36157227, time elapsed 3.0951s\n",
            "Epoch 200: Loss 2954.60595703, time elapsed 3.2049s\n",
            "Epoch 210: Loss 2958.74853516, time elapsed 3.3358s\n",
            "Epoch 220: Loss 2964.25024414, time elapsed 3.5007s\n",
            "Epoch 230: Loss 2968.69067383, time elapsed 3.6215s\n",
            "Epoch 240: Loss 2971.26098633, time elapsed 3.7342s\n",
            "Epoch 250: Loss 2972.93457031, time elapsed 3.8413s\n",
            "Epoch 260: Loss 2976.23339844, time elapsed 3.9679s\n",
            "Epoch 270: Loss 2978.53198242, time elapsed 4.1321s\n",
            "Epoch 280: Loss 2979.86938477, time elapsed 4.2814s\n",
            "Epoch 290: Loss 2981.48974609, time elapsed 4.4293s\n",
            "Epoch 300: Loss 2982.25976562, time elapsed 4.5507s\n",
            "Epoch 310: Loss 2981.13842773, time elapsed 4.7256s\n",
            "Epoch 320: Loss 2979.16430664, time elapsed 4.8424s\n",
            "Epoch 330: Loss 2978.27172852, time elapsed 4.9520s\n",
            "Epoch 340: Loss 2978.49829102, time elapsed 5.0595s\n",
            "Epoch 350: Loss 2977.38305664, time elapsed 5.2008s\n",
            "Epoch 360: Loss 2975.97656250, time elapsed 5.3198s\n",
            "Epoch 370: Loss 2973.94970703, time elapsed 5.4350s\n",
            "Epoch 380: Loss 2972.45971680, time elapsed 5.6104s\n",
            "Epoch 390: Loss 2970.93676758, time elapsed 5.7222s\n",
            "Epoch 400: Loss 2968.51757812, time elapsed 5.8596s\n",
            "Epoch 410: Loss 2966.24414062, time elapsed 5.9826s\n",
            "Epoch 420: Loss 2964.96069336, time elapsed 6.1065s\n",
            "Epoch 430: Loss 2964.62011719, time elapsed 6.3329s\n",
            "Epoch 440: Loss 2964.77172852, time elapsed 6.5829s\n",
            "Epoch 450: Loss 2963.40771484, time elapsed 6.8425s\n",
            "Epoch 460: Loss 2961.81494141, time elapsed 7.0936s\n",
            "Epoch 470: Loss 2959.11230469, time elapsed 7.6793s\n",
            "Epoch 480: Loss 2956.92895508, time elapsed 8.0481s\n",
            "Epoch 490: Loss 2954.26098633, time elapsed 8.2966s\n",
            "Time spent: 8.46934152\n"
          ]
        }
      ]
    },
    {
      "cell_type": "code",
      "source": [
        "print(\"MSE: %.2f\" % best_mse)\n",
        "print(\"RMSE: %.2f\" % np.sqrt(best_mse))\n",
        "plt.title('Loss vs Epoch')\n",
        "plt.plot(history)\n",
        "plt.savefig(\"logistic_regression_training_result.svg\", format=\"svg\", transparent=True, bbox_inches='tight')\n",
        "plt.show()"
      ],
      "metadata": {
        "id": "Wb3MUJYPiqpf",
        "outputId": "ee3f55ae-36ec-41e6-bdd9-e84545e1cc17",
        "colab": {
          "base_uri": "https://localhost:8080/",
          "height": 487
        }
      },
      "execution_count": 41,
      "outputs": [
        {
          "output_type": "stream",
          "name": "stdout",
          "text": [
            "MSE: 2952.77\n",
            "RMSE: 54.34\n"
          ]
        },
        {
          "output_type": "display_data",
          "data": {
            "text/plain": [
              "<Figure size 640x480 with 1 Axes>"
            ],
            "image/png": "[encoded data removed]"
          },
          "metadata": {}
        }
      ]
    },
    {
      "cell_type": "markdown",
      "source": [
        "## 2.10\tBigram and N-gram Models"
      ],
      "metadata": {
        "id": "C8TlmTv7hDkp"
      }
    },
    {
      "cell_type": "code",
      "source": [
        "!pip install 'portalocker>=2.0.0'"
      ],
      "metadata": {
        "id": "cZuVWU3_hCsa",
        "outputId": "85d1a9cb-13c4-4b09-862e-76fc933e96d9",
        "colab": {
          "base_uri": "https://localhost:8080/"
        }
      },
      "execution_count": 42,
      "outputs": [
        {
          "output_type": "stream",
          "name": "stdout",
          "text": [
            "Requirement already satisfied: portalocker>=2.0.0 in /usr/local/lib/python3.10/dist-packages (2.8.2)\n"
          ]
        }
      ]
    },
    {
      "cell_type": "markdown",
      "source": [
        "Loading and preparing text data"
      ],
      "metadata": {
        "id": "6nEbaGgXhRZw"
      }
    },
    {
      "cell_type": "code",
      "source": [
        "import re\n",
        "from torchtext.datasets import IMDB\n",
        "\n",
        "train_iter = IMDB(split='train')"
      ],
      "metadata": {
        "id": "iB0hAUw9hJnJ"
      },
      "execution_count": 43,
      "outputs": []
    },
    {
      "cell_type": "code",
      "source": [
        "def tokenize(label, line):\n",
        "    line = re.sub('\\s{2,}', ' ', line)              # convert multiple spaces to single space\n",
        "    line = line.replace('\"', '')                    # remove \"\n",
        "    line = re.sub('\\<[^)]*\\>', '', line)            # remove everything inside < >\n",
        "    line = '<SOS> ' + line.replace('.', ' .')       # add a space to do and add a dot to the begining of the text\n",
        "    return line.split()\n",
        "\n",
        "words = []\n",
        "for label, line in train_iter:\n",
        "    words += tokenize(label, line)"
      ],
      "metadata": {
        "id": "Goz8MlpqhYZb"
      },
      "execution_count": 44,
      "outputs": []
    },
    {
      "cell_type": "markdown",
      "source": [
        "Create a dictionary to record what words are following a given word"
      ],
      "metadata": {
        "id": "QbLN8Cl7hkCx"
      }
    },
    {
      "cell_type": "code",
      "source": [
        "import random\n",
        "bgrams = {}                       # dictionary to store word counts\n",
        "\n",
        "# words = text.split()\n",
        "for i in range(len(words)-2):\n",
        "  w1 = words[i]                   # first word\n",
        "  w2 = words[i+1]                 # second word\n",
        "  if not w1 in bgrams:\n",
        "    bgrams[w1] = {}\n",
        "  if not w2 in bgrams[w1]:\n",
        "    bgrams[w1][w2] = 1\n",
        "  else:\n",
        "    bgrams[w1][w2] += 1\n",
        "print('Total words:', len(words))"
      ],
      "metadata": {
        "id": "a4T_kIf1hd7o",
        "outputId": "79b23112-ab61-4a40-b29b-bb2804a3cc6c",
        "colab": {
          "base_uri": "https://localhost:8080/"
        }
      },
      "execution_count": 45,
      "outputs": [
        {
          "output_type": "stream",
          "name": "stdout",
          "text": [
            "Total words: 4602543\n"
          ]
        }
      ]
    },
    {
      "cell_type": "code",
      "source": [
        "## Top 10 words after '<SOS>'\n",
        "# dict(sorted(bgrams['<SOS>'].items(), key=lambda x:x[1], reverse=True)[:10])\n",
        "# dict(sorted(bgrams['<SOS>'].items(), key=lambda x:-x[1])[:10])"
      ],
      "metadata": {
        "id": "LBN8XcpBht_o"
      },
      "execution_count": 46,
      "outputs": []
    },
    {
      "cell_type": "markdown",
      "source": [
        "Sorting and calculating probabilities"
      ],
      "metadata": {
        "id": "27ngvS3Uh6yc"
      }
    },
    {
      "cell_type": "code",
      "source": [
        "for w in bgrams:\n",
        "  bgrams[w] = dict(sorted(bgrams[w].items(), key=lambda item: -item[1])[:10])\n",
        "  total = sum(bgrams[w].values())\n",
        "  bgrams[w] = dict([(k, bgrams[w][k]/total) for k in bgrams[w]])"
      ],
      "metadata": {
        "id": "8A2zAYwHh38T"
      },
      "execution_count": 47,
      "outputs": []
    },
    {
      "cell_type": "markdown",
      "source": [
        "Generating words and sentences"
      ],
      "metadata": {
        "id": "b_CihLG3iIkt"
      }
    },
    {
      "cell_type": "code",
      "source": [
        "import random\n",
        "random.seed(8888)\n",
        "# this function takes a word and returns the next word.\n",
        "def next_word(word):\n",
        "  vars = bgrams[word]   #list of probable words for the given word\n",
        "  # vars.keys() : list of possible words to choose from\n",
        "  # vars.values() : list of probabilities for each possible words\n",
        "  return random.choices(list(vars.keys()), weights=vars.values())[0]\n",
        "\n",
        "\n",
        "def sentence(max_word=50):\n",
        "  words = []\n",
        "  w = '<SOS>'                 # first word is always '<SOS>'\n",
        "  for i in range(max_word):         # limit max words to generate\n",
        "    w = next_word(w)\n",
        "    if w == '.':              # stop generating words by '.'\n",
        "      break\n",
        "    words.append(w)\n",
        "  # return (' '.join(words) + '. ').capitalize()    # join all words to a sentence and add a dot at the end,\n",
        "  return (' '.join(words) + '. ')"
      ],
      "metadata": {
        "id": "s1GacwFsiF79"
      },
      "execution_count": 48,
      "outputs": []
    },
    {
      "cell_type": "code",
      "source": [
        "for i in range(20):\n",
        "  print(sentence())"
      ],
      "metadata": {
        "id": "sQu5Zf4giWNu",
        "outputId": "f31ee8d9-8bca-4798-a65e-78e373dd199c",
        "colab": {
          "base_uri": "https://localhost:8080/"
        }
      },
      "execution_count": 49,
      "outputs": [
        {
          "output_type": "stream",
          "name": "stdout",
          "text": [
            "This is the movie was in their lines. \n",
            "I have to a good as a movie is a movie. \n",
            "This movie was very good. \n",
            "This is a lot about it would love this movie, and I had a few things and the film that the first time. \n",
            "I would like a little bit of a good job is a film for the other films of the film. \n",
            "This isn't a film is a great in the best. \n",
            "I have a movie. \n",
            "This is a very well. \n",
            "I was a lot of this film is a great deal. \n",
            "As a good film. \n",
            "The script. \n",
            "I don't even if you are not a good and a bit. \n",
            "This movie was the first half the film was a few of it was the movie was one of the film in this movie with the movie was a film. \n",
            "This is so much of the movie is a little too bad guy with some of the movie is a lot to watch it was in this film has a lot of his life. \n",
            "I have a lot of the worst of a lot of the same way the first time on the movie. \n",
            "This film has the film with a little more than it is a film that they are just about this is not as the film for his father is the movie. \n",
            "If you don't have no reason I have a lot. \n",
            "A few days. \n",
            "I think the movie is not a few people who was made in a few years of the movie I have a film is the first saw it, you are a great job as an excellent and I don't know why it was a lot to the story with his. \n",
            "The plot to see it is that it was not. \n"
          ]
        }
      ]
    },
    {
      "cell_type": "markdown",
      "source": [
        "## 2.11\tGreedy, Random Sampling and Beam\n",
        "\n",
        "Greedy:"
      ],
      "metadata": {
        "id": "dG3A6Y6t1Bef"
      }
    },
    {
      "cell_type": "code",
      "source": [
        "def greedy_search(probabilities):\n",
        "    return torch.argmax(probabilities, dim=-1)\n",
        "\n",
        "vocab = [\"h\", \"e\", \"l\", \"o\"]  # vocabulary\n",
        "probabilities = torch.tensor([\n",
        "    [0.4, 0.3, 0.1, 0.2],\n",
        "    [0.1, 0.7, 0.2, 0.0],\n",
        "    [0.1, 0.2, 0.5, 0.2],\n",
        "    [0.1, 0.1, 0.6, 0.2],\n",
        "    [0.2, 0.1, 0.1, 0.6]\n",
        "])\n",
        "\n",
        "output = greedy_search(probabilities)\n",
        "print(output)\n",
        "generated_word = \"\".join([vocab[i] for i in output])\n",
        "print(generated_word)"
      ],
      "metadata": {
        "id": "t9iqjgvrzvAq",
        "outputId": "6bd90caf-fd10-4d95-9869-864d57ec1f21",
        "colab": {
          "base_uri": "https://localhost:8080/"
        }
      },
      "execution_count": 50,
      "outputs": [
        {
          "output_type": "stream",
          "name": "stdout",
          "text": [
            "tensor([0, 1, 2, 2, 3])\n",
            "hello\n"
          ]
        }
      ]
    },
    {
      "cell_type": "markdown",
      "source": [
        "Random Sampling:"
      ],
      "metadata": {
        "id": "xGwJ-0YB2e3g"
      }
    },
    {
      "cell_type": "code",
      "source": [
        "import torch.nn.functional as F\n",
        "\n",
        "def random_sampling(logits, top_k):\n",
        "    top_k_probs, _ = torch.topk(logits, top_k, dim=-1)\n",
        "    kth_highest_prob = top_k_probs[:, -1].unsqueeze(-1)\n",
        "    mask = logits < kth_highest_prob\n",
        "    probs = logits.masked_fill(mask, float('-inf'))\n",
        "    probabilities = F.softmax(probs, dim=-1)\n",
        "    output = torch.multinomial(probabilities, 1).squeeze(-1)\n",
        "    return output\n",
        "\n",
        "vocab = [\"h\", \"e\", \"l\", \"o\"]  # Vocabulary\n",
        "logits = torch.tensor([\n",
        "    [3.0, 1.0, 0.5, 0.1],\n",
        "    [0.6, 3.5, 2.5, 0.2],\n",
        "    [1.0, 0.2, 3.5, 1.5],\n",
        "    [0.3, 2.5, 4.1, 0.4],\n",
        "    [0.3, 1.0, 0.1, 4.4]\n",
        "  ])\n",
        "\n",
        "output = random_sampling(logits, top_k=2)\n",
        "print(output)\n",
        "generated_word = \"\".join([vocab[i] for i in output])\n",
        "print(generated_word)"
      ],
      "metadata": {
        "id": "RgMHJRFV1Q1W",
        "outputId": "213fec96-4abb-4186-8dd1-a83f4fb12fea",
        "colab": {
          "base_uri": "https://localhost:8080/"
        }
      },
      "execution_count": 51,
      "outputs": [
        {
          "output_type": "stream",
          "name": "stdout",
          "text": [
            "tensor([0, 1, 2, 2, 3])\n",
            "hello\n"
          ]
        }
      ]
    },
    {
      "cell_type": "markdown",
      "source": [
        "Beam:"
      ],
      "metadata": {
        "id": "B959de3k40Mb"
      }
    },
    {
      "cell_type": "code",
      "source": [
        "from transformers import GPT2LMHeadModel, GPT2Tokenizer\n",
        "\n",
        "# Load pre-trained model and tokenizer\n",
        "model = GPT2LMHeadModel.from_pretrained('gpt2')\n",
        "tokenizer = GPT2Tokenizer.from_pretrained('gpt2')"
      ],
      "metadata": {
        "id": "eSxgQP-65GDT",
        "outputId": "38348509-f752-4843-ef97-8e77d09a4f0d",
        "colab": {
          "base_uri": "https://localhost:8080/"
        }
      },
      "execution_count": 52,
      "outputs": [
        {
          "output_type": "stream",
          "name": "stderr",
          "text": [
            "/usr/local/lib/python3.10/dist-packages/huggingface_hub/utils/_token.py:88: UserWarning: \n",
            "The secret `HF_TOKEN` does not exist in your Colab secrets.\n",
            "To authenticate with the Hugging Face Hub, create a token in your settings tab (https://huggingface.co/settings/tokens), set it as secret in your Google Colab and restart your session.\n",
            "You will be able to reuse this secret in all of your notebooks.\n",
            "Please note that authentication is recommended but still optional to access public models or datasets.\n",
            "  warnings.warn(\n"
          ]
        }
      ]
    },
    {
      "cell_type": "code",
      "source": [
        "input_text = \"The quick brown fox\"\n",
        "input_ids = tokenizer.encode(input_text, return_tensors='pt')\n",
        "\n",
        "attention_mask = torch.ones(input_ids.shape, dtype=torch.long)\n",
        "\n",
        "# Generate sequences\n",
        "outputs = model.generate(\n",
        "  input_ids,\n",
        "  max_length=50,\n",
        "  num_beams=5,\n",
        "  early_stopping=True,\n",
        "  attention_mask=attention_mask,\n",
        "  pad_token_id=tokenizer.eos_token_id\n",
        ")\n",
        "\n",
        "# Decode generated sequences\n",
        "print(tokenizer.decode(outputs[0], skip_special_tokens=True))"
      ],
      "metadata": {
        "id": "bF3zULj14n7d",
        "outputId": "d2cdb3ec-fd38-45b2-c799-016759f33dc0",
        "colab": {
          "base_uri": "https://localhost:8080/"
        }
      },
      "execution_count": 53,
      "outputs": [
        {
          "output_type": "stream",
          "name": "stdout",
          "text": [
            "The quick brown foxes have been known to eat a variety of foods, including meat, fish, eggs, nuts, seeds, nuts, seeds, nuts, seeds, nuts, seeds, nuts, seeds, nuts, seeds, nuts, seeds,\n"
          ]
        }
      ]
    }
  ]
}