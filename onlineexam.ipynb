{
  "nbformat": 4,
  "nbformat_minor": 0,
  "metadata": {
    "colab": {
      "provenance": [],
      "authorship_tag": "ABX9TyNlkixQs1LepJ1hMy4xF6aF",
      "include_colab_link": true
    },
    "kernelspec": {
      "name": "python3",
      "display_name": "Python 3"
    },
    "language_info": {
      "name": "python"
    }
  },
  "cells": [
    {
      "cell_type": "markdown",
      "metadata": {
        "id": "view-in-github",
        "colab_type": "text"
      },
      "source": [
        "<a href=\"https://colab.research.google.com/github/jchen8000/DemystifyingLLMs/blob/main/onlineexam.ipynb\" target=\"_parent\"><img src=\"https://colab.research.google.com/assets/colab-badge.svg\" alt=\"Open In Colab\"/></a>"
      ]
    },
    {
      "cell_type": "markdown",
      "source": [
        "# 1. Alignerr Exam"
      ],
      "metadata": {
        "id": "jOG4mTjZ7cku"
      }
    },
    {
      "cell_type": "markdown",
      "source": [
        "## Rotate Image clockwise and/or counter-clockwise\n",
        "\n",
        "\n",
        "Reference LeetCode 48. Rotate Image\n",
        "\n",
        "**Rotate clockwise:**\n",
        "1.   Flipping the matrix upside down.\n",
        "2.   Flipping the matrix along its main diagonal.\n",
        "\n",
        "**Rotate counter-clockwise:**\n",
        "1.   Flipping the matrix along its main diagonal.\n",
        "2.   Flipping the matrix upside down.\n"
      ],
      "metadata": {
        "id": "ztgRB6J0VwmD"
      }
    },
    {
      "cell_type": "code",
      "source": [
        "# An Inplace function to rotate\n",
        "# N x N matrix by 90 degrees in\n",
        "# anti-clockwise direction\n",
        "\n",
        "\n",
        "def rotate_counterclockwise(matrix):\n",
        "    size = len(matrix)\n",
        "    # Perform a diagonal flip of the matrix, which is equivalent\n",
        "    # to transposing the matrix\n",
        "    for i in range(size):\n",
        "        for j in range(i):\n",
        "            # Swap the elements across the diagonal\n",
        "            matrix[i][j], matrix[j][i] = matrix[j][i], matrix[i][j]\n",
        "\n",
        "    # Perform a vertical flip of the matrix\n",
        "    for i in range(size >> 1):  # size >> 1 is a faster way to do size // 2\n",
        "        for j in range(size):\n",
        "            # Swap the top and bottom elements in the column\n",
        "            matrix[i][j], matrix[size - i - 1][j] = matrix[size - i - 1][j], matrix[i][j]\n",
        "\n",
        "\n",
        "def rotate_clockwise(matrix):\n",
        "    # Determine the size of the matrix\n",
        "    size = len(matrix)\n",
        "\n",
        "    # Perform a vertical flip of the matrix\n",
        "    for i in range(size >> 1):  # size >> 1 is a faster way to do size // 2\n",
        "        for j in range(size):\n",
        "            # Swap the top and bottom elements in the column\n",
        "            matrix[i][j], matrix[size - i - 1][j] = matrix[size - i - 1][j], matrix[i][j]\n",
        "\n",
        "    # Perform a diagonal flip of the matrix, which is equivalent\n",
        "    # to transposing the matrix\n",
        "    for i in range(size):\n",
        "        for j in range(i):\n",
        "            # Swap the elements across the diagonal\n",
        "            matrix[i][j], matrix[j][i] = matrix[j][i], matrix[i][j]\n",
        "\n",
        "# Function to print the matrix\n",
        "def displayMatrix(matrix):\n",
        "    size = len(matrix)\n",
        "    for i in range(0, size):\n",
        "        for j in range(0, size):\n",
        "            print(mat[i][j], end=' ')\n",
        "        print(\"\")\n",
        "\n",
        "mat = [[1, 2, 3],\n",
        "       [4, 5, 6],\n",
        "       [7, 8, 9],\n",
        "      ]\n",
        "\n",
        "# mat = [[5, 1, 9, 11],\n",
        "#        [2, 4, 8, 10],\n",
        "#        [13, 3, 6, 7],\n",
        "#        [15, 14, 12, 16],\n",
        "#       ]\n",
        "\n",
        "\n",
        "\n",
        "print(\"Original Matrix:\")\n",
        "displayMatrix(mat)\n",
        "\n",
        "\n",
        "print(\"\\nClockwise Rotated Matrix:\")\n",
        "rotate_clockwise(mat)\n",
        "displayMatrix(mat)\n",
        "\n",
        "# print(\"\\ncounter-clockwise Rotated Matrix:\")\n",
        "# rotate_counterclockwise(mat)\n",
        "# displayMatrix(mat)"
      ],
      "metadata": {
        "colab": {
          "base_uri": "https://localhost:8080/"
        },
        "id": "u1CmDYaqUHS9",
        "outputId": "5aa51186-a94c-41d8-ecff-59a1da768b61"
      },
      "execution_count": null,
      "outputs": [
        {
          "output_type": "stream",
          "name": "stdout",
          "text": [
            "Original Matrix:\n",
            "1 2 3 \n",
            "4 5 6 \n",
            "7 8 9 \n",
            "\n",
            "Clockwise Rotated Matrix:\n",
            "7 4 1 \n",
            "8 5 2 \n",
            "9 6 3 \n"
          ]
        }
      ]
    },
    {
      "cell_type": "markdown",
      "source": [
        "## Implement Caesar Cipher\n",
        "\n",
        "Given a word in plain text. e.g. \"plans\"\n",
        "\n",
        "If the encryped text includes the above encrypted text, then decrypt it:\n",
        "Encryped text: \"Khdowk fduh surylghuv duh uhfrpphqghg wr ghyhors sodqv wr pdqdjh wkh vlwxdwlrq\"\n",
        "\n"
      ],
      "metadata": {
        "id": "3QdwepC7tVkL"
      }
    },
    {
      "cell_type": "code",
      "source": [
        "def caesar_cipher(text, shift):\n",
        "    result = \"\"\n",
        "    for char in text:\n",
        "        if char.isalpha():\n",
        "            ascii_offset = ord('A') if char.isupper() else ord('a')\n",
        "            result += chr((ord(char) - ascii_offset + shift) % 26 + ascii_offset)\n",
        "        else:\n",
        "            result += char\n",
        "    return result\n",
        "\n",
        "def decrypt_caesar_cipher(encrypted_text, plain_text):\n",
        "    for shift in range(26):\n",
        "        decrypted_text = caesar_cipher(encrypted_text, -shift)\n",
        "        if plain_text in decrypted_text:\n",
        "            return decrypted_text\n",
        "    return \"No valid decryption found.\"\n",
        "\n",
        "# This is the encrypted text where the plain text might be present\n",
        "encrypted_text = \"Khdowk fduh surylghuv duh uhfrpphqghg wr ghyhors sodqv wr pdqdjh wkh vlwxdwlrq\"\n",
        "plain_text = \"plans\"  # This is the plain text we are looking for in the encrypted text\n",
        "decrypted_text = decrypt_caesar_cipher(encrypted_text, plain_text)\n",
        "print(decrypted_text)"
      ],
      "metadata": {
        "colab": {
          "base_uri": "https://localhost:8080/"
        },
        "id": "QOI3TrC1wtJp",
        "outputId": "ef22a64a-43e5-4e89-e120-9106c32cbc99"
      },
      "execution_count": null,
      "outputs": [
        {
          "output_type": "stream",
          "name": "stdout",
          "text": [
            "Health care providers are recommended to develop plans to manage the situation\n"
          ]
        }
      ]
    },
    {
      "cell_type": "markdown",
      "source": [
        "# 2. Exam of Founding Teams: Lead AI / ML / Data Science Engineer - Canada\n",
        "\n",
        "Total 4 questions, by https://coderbyte.com/"
      ],
      "metadata": {
        "id": "6vJKBUa1zp0w"
      }
    },
    {
      "cell_type": "markdown",
      "source": [
        "## 1. LeetCode - 121. Best Time to Buy and Sell Stock\n",
        "\n",
        "https://leetcode.com/problems/best-time-to-buy-and-sell-stock/description/"
      ],
      "metadata": {
        "id": "wzPcC9ok7_zR"
      }
    },
    {
      "cell_type": "code",
      "source": [
        "def maxProfit(prices):\n",
        "    max_profit = 0\n",
        "    min_price = float('inf')\n",
        "\n",
        "    for price in prices:\n",
        "        min_price = min(min_price, price)\n",
        "        profit = price - min_price\n",
        "        max_profit = max(max_profit, profit)\n",
        "\n",
        "    return max_profit\n",
        "\n",
        "# prices = [7,1,5,3,6,4]\n",
        "prices = [7,6,4,3,1]\n",
        "print(maxProfit(prices))"
      ],
      "metadata": {
        "id": "LVzPk5KKzpG2",
        "colab": {
          "base_uri": "https://localhost:8080/"
        },
        "outputId": "7dc7bc5c-3821-4a79-f6bf-606c20c4a641"
      },
      "execution_count": null,
      "outputs": [
        {
          "output_type": "stream",
          "name": "stdout",
          "text": [
            "0\n"
          ]
        }
      ]
    },
    {
      "cell_type": "markdown",
      "source": [
        "## 2. Load a csv file, and count the number of \"Age\" >= 50\n",
        "\n",
        "The CSV file is character based, the contents are like:\n",
        "\n",
        "```\n",
        "Name = John\n",
        "Age = 51\n",
        "Name = Smith\n",
        "Age = 35\n",
        "Name = Tom\n",
        "Age = 60\n",
        "...\n",
        "```\n",
        "When load it to pandas datafram, it appears as charactor:\n",
        "```\n",
        "N\n",
        "a\n",
        "m\n",
        "e\n",
        "=\n",
        "J\n",
        "o\n",
        "h\n",
        "n\n",
        "\n",
        "A\n",
        "g\n",
        "e\n",
        "=\n",
        "5\n",
        "1\n",
        "...\n",
        "```\n"
      ],
      "metadata": {
        "id": "j9JO1TID_x3e"
      }
    },
    {
      "cell_type": "markdown",
      "source": [
        "## 3. Build a neural network with Dense layer\n",
        "\n",
        "It loaded the data with 4 features(?), build a Keras Sequencial network with 2 Dense layers, print out the model, compile and run the model."
      ],
      "metadata": {
        "id": "dI2F5SGOA11i"
      }
    },
    {
      "cell_type": "markdown",
      "source": [
        "## 4. Build a neural network to predict stock\n",
        "\n",
        "Use Keras two LSTM layer, with Dropout(0.2) layers.\n",
        "The dataset is loaded and processed, using a stock historical data, only Open value column is used. Use a 50-days timeframe."
      ],
      "metadata": {
        "id": "TaHiXIK-BYhr"
      }
    },
    {
      "cell_type": "markdown",
      "source": [
        "# 3. G2i on DevSkiller"
      ],
      "metadata": {
        "id": "ouMv6AZu58VH"
      }
    },
    {
      "cell_type": "markdown",
      "source": [
        "User Prompt: \"i need code that takes in a number and returns the opposite of that numbe so wirttan backwards\""
      ],
      "metadata": {
        "id": "qo0fpu046K6D"
      }
    },
    {
      "cell_type": "markdown",
      "source": [
        "Response 1:"
      ],
      "metadata": {
        "id": "XS4X6OcU6YWX"
      }
    },
    {
      "cell_type": "code",
      "source": [
        "def reverse_number(num):\n",
        "  # Reverse the number\n",
        "  reverse = num[::-1]\n",
        "  # Return the number\n",
        "  return reverse\n",
        "\n",
        "## Example usage:\n",
        "print(reverse_number(1223)) # Output: 3221\n",
        "print(reverse_number(987654321)) # Output: 123456789"
      ],
      "metadata": {
        "colab": {
          "base_uri": "https://localhost:8080/"
        },
        "id": "-viW5g9c6dLy",
        "outputId": "22dc59fb-936f-4d79-a90b-9307ba09784b"
      },
      "execution_count": null,
      "outputs": [
        {
          "output_type": "stream",
          "name": "stdout",
          "text": [
            "3221\n",
            "123456789\n"
          ]
        }
      ]
    },
    {
      "cell_type": "markdown",
      "source": [
        "Response 2:"
      ],
      "metadata": {
        "id": "b6ezyxCx6VcO"
      }
    },
    {
      "cell_type": "code",
      "source": [
        "\n",
        "#\n",
        "# AI: Sure!\n",
        "# You can create a function that takes in a number and returns its opposite.\n",
        "# Here's how you can do it:\n",
        "#\n",
        "\n",
        "def oppositeNumber(num):\n",
        "    return -num\n",
        "\n",
        "# Example usage:\n",
        "print(oppositeNumber(5)) # Output: -5\n",
        "print(oppositeNumber(-7)) # Output: 7"
      ],
      "metadata": {
        "id": "4d8b8PhG6QaN"
      },
      "execution_count": null,
      "outputs": []
    },
    {
      "cell_type": "markdown",
      "source": [
        "Response 1 is better however need fix, this is not correct:\n",
        "```\n",
        "reverse = num[::-1]\n",
        "```\n",
        "It should be replace by:\n",
        "```\n",
        "  num_str = str(num)\n",
        "  reverse_str = num_str[::-1]\n",
        "  reverse = int(reverse_str)\n",
        "```\n"
      ],
      "metadata": {
        "id": "HJJ8CaJ665AW"
      }
    },
    {
      "cell_type": "code",
      "source": [
        "# The right answer:\n",
        "# 1. opposite\n",
        "# 2. backwards or reverse\n",
        "\n",
        "def opposite_reversed(num):\n",
        "\n",
        "    # Convert the number to a string\n",
        "    str_opposite = str(abs(num))\n",
        "\n",
        "    # Reverse the string\n",
        "    reversed_str = str_opposite[::-1]\n",
        "\n",
        "    # Convert the reversed string back to an integer\n",
        "    result = int(reversed_str)\n",
        "\n",
        "    # If the original number was positive, the result should be negative\n",
        "    if num > 0:\n",
        "        return -result\n",
        "    else:\n",
        "        return result\n",
        "\n",
        "# Example usage:\n",
        "num = int(input(\"Enter a number: \"))\n",
        "print(opposite_reversed(num))"
      ],
      "metadata": {
        "id": "N9_jmrIh9uLP",
        "outputId": "10a1db87-d81f-451b-cfa0-fe40ae9244ec",
        "colab": {
          "base_uri": "https://localhost:8080/"
        }
      },
      "execution_count": 5,
      "outputs": [
        {
          "output_type": "stream",
          "name": "stdout",
          "text": [
            "Enter a number: -125698\n",
            "896521\n"
          ]
        }
      ]
    }
  ]
}