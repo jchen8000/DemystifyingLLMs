{
  "nbformat": 4,
  "nbformat_minor": 0,
  "metadata": {
    "colab": {
      "provenance": [],
      "authorship_tag": "ABX9TyODFyWkjIGbG+WoSFlK0fZ8",
      "include_colab_link": true
    },
    "kernelspec": {
      "name": "python3",
      "display_name": "Python 3"
    },
    "language_info": {
      "name": "python"
    }
  },
  "cells": [
    {
      "cell_type": "markdown",
      "metadata": {
        "id": "view-in-github",
        "colab_type": "text"
      },
      "source": [
        "<a href=\"https://colab.research.google.com/github/jchen8000/GenerativeAI/blob/main/5_Fine-Tuning/Q_Learning_Reinforcement_Learning.ipynb\" target=\"_parent\"><img src=\"https://colab.research.google.com/assets/colab-badge.svg\" alt=\"Open In Colab\"/></a>"
      ]
    },
    {
      "cell_type": "markdown",
      "source": [
        "# 5.7 Reinforcement Learning\n",
        "\n",
        "An example of Q-Learning algorithm"
      ],
      "metadata": {
        "id": "Oxe5gE1B3363"
      }
    },
    {
      "cell_type": "code",
      "source": [
        "import torch\n",
        "import torch.nn as nn\n",
        "import torch.optim as optim\n",
        "import random\n",
        "import numpy as np"
      ],
      "metadata": {
        "id": "-vLeuq3_k5db"
      },
      "execution_count": 1,
      "outputs": []
    },
    {
      "cell_type": "code",
      "source": [
        "state_size = 6  # One-hot encoded state size\n",
        "action_size = 2  # Two possible actions: \"left\" and \"right\"\n",
        "epochs = 1000  # Number of epochs to train\n",
        "gamma = 0.6  # Discount rate for future rewards\n",
        "epsilon = 0.1  # Exploration rate\n",
        "alpha = 0.1  # Learning rate"
      ],
      "metadata": {
        "id": "mg9b3qo5k_Ot"
      },
      "execution_count": 2,
      "outputs": []
    },
    {
      "cell_type": "code",
      "source": [
        "# Define the Q-network model\n",
        "class QNetwork(nn.Module):\n",
        "    def __init__(self, state_size, action_size):\n",
        "        super(QNetwork, self).__init__()\n",
        "        self.fc = nn.Linear(state_size, action_size)\n",
        "\n",
        "    def forward(self, state):\n",
        "        return self.fc(state)"
      ],
      "metadata": {
        "id": "K-Tpy_Wyk8Cj"
      },
      "execution_count": 3,
      "outputs": []
    },
    {
      "cell_type": "code",
      "source": [
        "net = QNetwork(state_size, action_size)\n",
        "optimizer = optim.Adam(net.parameters(), lr=alpha)\n",
        "loss_fn = nn.MSELoss()\n"
      ],
      "metadata": {
        "id": "o80eSZjlh5ND"
      },
      "execution_count": 4,
      "outputs": []
    },
    {
      "cell_type": "code",
      "source": [
        "for epoch in range(epochs):\n",
        "    state = torch.zeros(state_size)  # Initialize state as a one-hot encoded tensor\n",
        "    state[0] = 1  # Set the initial state to state 0\n",
        "    done = False\n",
        "\n",
        "    while not done:\n",
        "        if random.random() < epsilon:\n",
        "            action = random.randrange(action_size)\n",
        "        else:\n",
        "            q_values = net(state)\n",
        "            action = torch.argmax(q_values).item()\n",
        "\n",
        "        next_state = torch.zeros(state_size)\n",
        "        if action == 1 and torch.argmax(state).item() < state_size - 1:\n",
        "            next_state[torch.argmax(state).item() + 1] = 1\n",
        "        else:\n",
        "            next_state[torch.argmax(state).item()] = 1\n",
        "\n",
        "        reward = 0\n",
        "        next_state_max = torch.argmax(next_state).item()\n",
        "        if next_state_max == state_size - 1:\n",
        "            reward = 1\n",
        "            done = True\n",
        "\n",
        "        predicted_q_values = net(state)\n",
        "        target_q_value = reward + gamma * torch.max(net(next_state)).detach()\n",
        "        target_q_values = predicted_q_values.clone()\n",
        "        target_q_values[action] = target_q_value\n",
        "\n",
        "        optimizer.zero_grad()\n",
        "        loss = loss_fn(predicted_q_values, target_q_values)\n",
        "        loss.backward()\n",
        "        optimizer.step()\n",
        "\n",
        "        state = next_state\n",
        "print(\"Training complete\")"
      ],
      "metadata": {
        "colab": {
          "base_uri": "https://localhost:8080/"
        },
        "id": "7UOoh9nnlGO2",
        "outputId": "0d295697-5f7c-4ef8-9105-b4aa962b0cc0"
      },
      "execution_count": 5,
      "outputs": [
        {
          "output_type": "stream",
          "name": "stdout",
          "text": [
            "Training complete\n"
          ]
        }
      ]
    },
    {
      "cell_type": "code",
      "source": [
        "torch.set_printoptions(precision=3, sci_mode=False)\n",
        "# Display trained Q-values (weights)\n",
        "print(\"\\nLearned Q-values:\")\n",
        "for idx, param in enumerate(net.parameters()):\n",
        "    if param.requires_grad:\n",
        "        print(\"Layer {}:\\n {}\".format(idx, param.data))\n",
        "\n",
        "# Derive the policy from Q-values\n",
        "policy = {}\n",
        "for state_idx in range(state_size):\n",
        "    state = torch.zeros(state_size)\n",
        "    state[state_idx] = 1\n",
        "    q_values = net(state)\n",
        "    action = torch.argmax(q_values).item()\n",
        "    policy[state_idx] = 'right' if action == 1 else 'left'\n",
        "\n",
        "print(\"\\nDerived policy:\")\n",
        "for state in range(state_size):\n",
        "    print(f\"State {state}: Move {policy[state]}\")"
      ],
      "metadata": {
        "colab": {
          "base_uri": "https://localhost:8080/"
        },
        "id": "GPXF_ezVlKrV",
        "outputId": "1cbc69e2-c03b-46d9-e69a-c71e830b761b"
      },
      "execution_count": 6,
      "outputs": [
        {
          "output_type": "stream",
          "name": "stdout",
          "text": [
            "\n",
            "Learned Q-values:\n",
            "Layer 0:\n",
            " tensor([[-1.482, -0.744, -1.178, -0.290, -0.014,  0.112],\n",
            "        [-0.453, -0.300,  0.005,  0.358,  0.890, -0.096]])\n",
            "Layer 1:\n",
            " tensor([0.700, 0.575])\n",
            "\n",
            "Derived policy:\n",
            "State 0: Move right\n",
            "State 1: Move right\n",
            "State 2: Move right\n",
            "State 3: Move right\n",
            "State 4: Move right\n",
            "State 5: Move left\n"
          ]
        }
      ]
    }
  ]
}