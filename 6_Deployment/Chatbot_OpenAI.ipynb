{
  "nbformat": 4,
  "nbformat_minor": 0,
  "metadata": {
    "colab": {
      "provenance": [],
      "authorship_tag": "ABX9TyN8p9w9zrGPhOjvTfudEkpC",
      "include_colab_link": true
    },
    "kernelspec": {
      "name": "python3",
      "display_name": "Python 3"
    },
    "language_info": {
      "name": "python"
    }
  },
  "cells": [
    {
      "cell_type": "markdown",
      "metadata": {
        "id": "view-in-github",
        "colab_type": "text"
      },
      "source": [
        "<a href=\"https://colab.research.google.com/github/jchen8000/GenerativeAI/blob/main/6_Deployment/Chatbot_OpenAI.ipynb\" target=\"_parent\"><img src=\"https://colab.research.google.com/assets/colab-badge.svg\" alt=\"Open In Colab\"/></a>"
      ]
    },
    {
      "cell_type": "markdown",
      "source": [
        "# 6.11 Chatbot, Example of LLM-Powered Application\n",
        "\n",
        "## Chatbot interact with OpenAI"
      ],
      "metadata": {
        "id": "fhz4K0QKzINw"
      }
    },
    {
      "cell_type": "code",
      "execution_count": null,
      "metadata": {
        "colab": {
          "base_uri": "https://localhost:8080/"
        },
        "id": "720799z46O3X",
        "outputId": "4179521c-69d2-45a3-daf6-5f96b1550882"
      },
      "outputs": [
        {
          "output_type": "stream",
          "name": "stdout",
          "text": [
            "Collecting openai\n",
            "  Downloading openai-1.16.1-py3-none-any.whl (266 kB)\n",
            "\u001b[2K     \u001b[90m━━━━━━━━━━━━━━━━━━━━━━━━━━━━━━━━━━━━━━━━\u001b[0m \u001b[32m266.9/266.9 kB\u001b[0m \u001b[31m2.1 MB/s\u001b[0m eta \u001b[36m0:00:00\u001b[0m\n",
            "\u001b[?25hRequirement already satisfied: anyio<5,>=3.5.0 in /usr/local/lib/python3.10/dist-packages (from openai) (3.7.1)\n",
            "Requirement already satisfied: distro<2,>=1.7.0 in /usr/lib/python3/dist-packages (from openai) (1.7.0)\n",
            "Collecting httpx<1,>=0.23.0 (from openai)\n",
            "  Downloading httpx-0.27.0-py3-none-any.whl (75 kB)\n",
            "\u001b[2K     \u001b[90m━━━━━━━━━━━━━━━━━━━━━━━━━━━━━━━━━━━━━━━━\u001b[0m \u001b[32m75.6/75.6 kB\u001b[0m \u001b[31m6.1 MB/s\u001b[0m eta \u001b[36m0:00:00\u001b[0m\n",
            "\u001b[?25hRequirement already satisfied: pydantic<3,>=1.9.0 in /usr/local/lib/python3.10/dist-packages (from openai) (2.6.4)\n",
            "Requirement already satisfied: sniffio in /usr/local/lib/python3.10/dist-packages (from openai) (1.3.1)\n",
            "Requirement already satisfied: tqdm>4 in /usr/local/lib/python3.10/dist-packages (from openai) (4.66.2)\n",
            "Requirement already satisfied: typing-extensions<5,>=4.7 in /usr/local/lib/python3.10/dist-packages (from openai) (4.10.0)\n",
            "Requirement already satisfied: idna>=2.8 in /usr/local/lib/python3.10/dist-packages (from anyio<5,>=3.5.0->openai) (3.6)\n",
            "Requirement already satisfied: exceptiongroup in /usr/local/lib/python3.10/dist-packages (from anyio<5,>=3.5.0->openai) (1.2.0)\n",
            "Requirement already satisfied: certifi in /usr/local/lib/python3.10/dist-packages (from httpx<1,>=0.23.0->openai) (2024.2.2)\n",
            "Collecting httpcore==1.* (from httpx<1,>=0.23.0->openai)\n",
            "  Downloading httpcore-1.0.5-py3-none-any.whl (77 kB)\n",
            "\u001b[2K     \u001b[90m━━━━━━━━━━━━━━━━━━━━━━━━━━━━━━━━━━━━━━━━\u001b[0m \u001b[32m77.9/77.9 kB\u001b[0m \u001b[31m3.0 MB/s\u001b[0m eta \u001b[36m0:00:00\u001b[0m\n",
            "\u001b[?25hCollecting h11<0.15,>=0.13 (from httpcore==1.*->httpx<1,>=0.23.0->openai)\n",
            "  Downloading h11-0.14.0-py3-none-any.whl (58 kB)\n",
            "\u001b[2K     \u001b[90m━━━━━━━━━━━━━━━━━━━━━━━━━━━━━━━━━━━━━━━━\u001b[0m \u001b[32m58.3/58.3 kB\u001b[0m \u001b[31m2.2 MB/s\u001b[0m eta \u001b[36m0:00:00\u001b[0m\n",
            "\u001b[?25hRequirement already satisfied: annotated-types>=0.4.0 in /usr/local/lib/python3.10/dist-packages (from pydantic<3,>=1.9.0->openai) (0.6.0)\n",
            "Requirement already satisfied: pydantic-core==2.16.3 in /usr/local/lib/python3.10/dist-packages (from pydantic<3,>=1.9.0->openai) (2.16.3)\n",
            "Installing collected packages: h11, httpcore, httpx, openai\n",
            "Successfully installed h11-0.14.0 httpcore-1.0.5 httpx-0.27.0 openai-1.16.1\n"
          ]
        }
      ],
      "source": [
        "!pip install openai"
      ]
    },
    {
      "cell_type": "code",
      "source": [
        "from openai import OpenAI\n",
        "\n",
        "client = OpenAI(\n",
        "    # organization='org-xxxxxx',\n",
        "    api_key='sk-xxxxxxxxx',\n",
        ")"
      ],
      "metadata": {
        "id": "vUVB16arAcyN"
      },
      "execution_count": null,
      "outputs": []
    },
    {
      "cell_type": "code",
      "source": [
        "def ask_chatgpt(input_text):\n",
        "    stream = client.chat.completions.create(\n",
        "        model=\"gpt-3.5-turbo\",\n",
        "        messages=[{\"role\": \"You\", \"content\": input_text}],\n",
        "        stream=True,\n",
        "    )\n",
        "    response = None\n",
        "    for chunk in stream:\n",
        "        if chunk.choices[0].message.content is not None:\n",
        "            response = chunk.choices[0].message.content\n",
        "    return response\n"
      ],
      "metadata": {
        "id": "EKVkOMMdAekb"
      },
      "execution_count": null,
      "outputs": []
    },
    {
      "cell_type": "markdown",
      "source": [
        "The response from OpanAI's service is something like:\n",
        "\n",
        "```\n",
        "{\n",
        "    \"id\": \"chatcmpl-abc123\",\n",
        "    \"object\": \"chat.completion\",\n",
        "    \"created\": 1677858242,\n",
        "    \"model\": \"gpt-3.5-turbo-0613\",\n",
        "    \"usage\": {\n",
        "        \"prompt_tokens\": 13,\n",
        "        \"completion_tokens\": 7,\n",
        "        \"total_tokens\": 20\n",
        "    },\n",
        "    \"choices\": [\n",
        "        {\n",
        "            \"message\": {\n",
        "                \"role\": \"assistant\",\n",
        "                \"content\": \"\\n\\nThis is a test!\"\n",
        "            },\n",
        "            \"logprobs\": null,\n",
        "            \"finish_reason\": \"stop\",\n",
        "            \"index\": 0\n",
        "        }\n",
        "    ]\n",
        "}\n",
        "```\n",
        "\n"
      ],
      "metadata": {
        "id": "jySmjMS_RQn0"
      }
    },
    {
      "cell_type": "code",
      "source": [
        "print(\"Chatbot: How can I help you? (type 'quit' to stop)!\\n\")\n",
        "\n",
        "while True:\n",
        "    user_input = input(\"You: \")\n",
        "\n",
        "    if user_input.lower() == \"quit\":\n",
        "        break\n",
        "\n",
        "    response = ask_chatgpt(user_input)\n",
        "    print(f\"Chatbot: {response}\\n\")\n"
      ],
      "metadata": {
        "id": "I0Ar_qjPAirc"
      },
      "execution_count": null,
      "outputs": []
    },
    {
      "cell_type": "markdown",
      "source": [
        "*Reference:*\n",
        "\n",
        "\n",
        "*   https://platform.openai.com/docs/api-reference/introduction\n",
        "\n",
        "\n"
      ],
      "metadata": {
        "id": "PJ3Bd_lSErmt"
      }
    }
  ]
}