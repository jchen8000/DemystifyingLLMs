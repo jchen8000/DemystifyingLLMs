{
  "nbformat": 4,
  "nbformat_minor": 0,
  "metadata": {
    "colab": {
      "provenance": [],
      "gpuType": "T4",
      "authorship_tag": "ABX9TyNpfma6X67K1cBrXOyS+mU8",
      "include_colab_link": true
    },
    "kernelspec": {
      "name": "python3",
      "display_name": "Python 3"
    },
    "language_info": {
      "name": "python"
    },
    "accelerator": "GPU"
  },
  "cells": [
    {
      "cell_type": "markdown",
      "metadata": {
        "id": "view-in-github",
        "colab_type": "text"
      },
      "source": [
        "<a href=\"https://colab.research.google.com/github/jchen8000/GenerativeAI/blob/main/6_Deployment/Chatbot_FLAN_T5_LoRA.ipynb\" target=\"_parent\"><img src=\"https://colab.research.google.com/assets/colab-badge.svg\" alt=\"Open In Colab\"/></a>"
      ]
    },
    {
      "cell_type": "markdown",
      "source": [
        "# 6.11 Chatbot, Example of LLM-Powered Application\n",
        "\n",
        "## Chatbot built with local LLM, flan-t5-base plus LoRA."
      ],
      "metadata": {
        "id": "wc1wmPFS2tfq"
      }
    },
    {
      "cell_type": "markdown",
      "source": [
        "Make sure flan-t5-base_lora model is in the output folder"
      ],
      "metadata": {
        "id": "f0m2YXNX2zsh"
      }
    },
    {
      "cell_type": "code",
      "source": [
        "!pip install torch torchvision torchaudio --quiet\n",
        "!pip install transformers --quiet\n",
        "!pip install peft --quiet\n",
        "!pip install sentencepiece --quiet"
      ],
      "metadata": {
        "colab": {
          "base_uri": "https://localhost:8080/"
        },
        "id": "SDi0rf5XC2V-",
        "outputId": "f7ec846a-49dd-485f-b512-46a94f29ea3e"
      },
      "execution_count": null,
      "outputs": [
        {
          "output_type": "stream",
          "name": "stdout",
          "text": [
            "\u001b[2K     \u001b[90m━━━━━━━━━━━━━━━━━━━━━━━━━━━━━━━━━━━━━━━━\u001b[0m \u001b[32m23.7/23.7 MB\u001b[0m \u001b[31m49.6 MB/s\u001b[0m eta \u001b[36m0:00:00\u001b[0m\n",
            "\u001b[2K     \u001b[90m━━━━━━━━━━━━━━━━━━━━━━━━━━━━━━━━━━━━━━━━\u001b[0m \u001b[32m823.6/823.6 kB\u001b[0m \u001b[31m45.9 MB/s\u001b[0m eta \u001b[36m0:00:00\u001b[0m\n",
            "\u001b[2K     \u001b[90m━━━━━━━━━━━━━━━━━━━━━━━━━━━━━━━━━━━━━━━━\u001b[0m \u001b[32m14.1/14.1 MB\u001b[0m \u001b[31m64.3 MB/s\u001b[0m eta \u001b[36m0:00:00\u001b[0m\n",
            "\u001b[2K     \u001b[90m━━━━━━━━━━━━━━━━━━━━━━━━━━━━━━━━━━━━━━━━\u001b[0m \u001b[32m731.7/731.7 MB\u001b[0m \u001b[31m1.3 MB/s\u001b[0m eta \u001b[36m0:00:00\u001b[0m\n",
            "\u001b[2K     \u001b[90m━━━━━━━━━━━━━━━━━━━━━━━━━━━━━━━━━━━━━━━━\u001b[0m \u001b[32m410.6/410.6 MB\u001b[0m \u001b[31m3.2 MB/s\u001b[0m eta \u001b[36m0:00:00\u001b[0m\n",
            "\u001b[2K     \u001b[90m━━━━━━━━━━━━━━━━━━━━━━━━━━━━━━━━━━━━━━━━\u001b[0m \u001b[32m121.6/121.6 MB\u001b[0m \u001b[31m8.4 MB/s\u001b[0m eta \u001b[36m0:00:00\u001b[0m\n",
            "\u001b[2K     \u001b[90m━━━━━━━━━━━━━━━━━━━━━━━━━━━━━━━━━━━━━━━━\u001b[0m \u001b[32m56.5/56.5 MB\u001b[0m \u001b[31m11.6 MB/s\u001b[0m eta \u001b[36m0:00:00\u001b[0m\n",
            "\u001b[2K     \u001b[90m━━━━━━━━━━━━━━━━━━━━━━━━━━━━━━━━━━━━━━━━\u001b[0m \u001b[32m124.2/124.2 MB\u001b[0m \u001b[31m8.1 MB/s\u001b[0m eta \u001b[36m0:00:00\u001b[0m\n",
            "\u001b[2K     \u001b[90m━━━━━━━━━━━━━━━━━━━━━━━━━━━━━━━━━━━━━━━━\u001b[0m \u001b[32m196.0/196.0 MB\u001b[0m \u001b[31m2.2 MB/s\u001b[0m eta \u001b[36m0:00:00\u001b[0m\n",
            "\u001b[2K     \u001b[90m━━━━━━━━━━━━━━━━━━━━━━━━━━━━━━━━━━━━━━━━\u001b[0m \u001b[32m166.0/166.0 MB\u001b[0m \u001b[31m7.3 MB/s\u001b[0m eta \u001b[36m0:00:00\u001b[0m\n",
            "\u001b[2K     \u001b[90m━━━━━━━━━━━━━━━━━━━━━━━━━━━━━━━━━━━━━━━━\u001b[0m \u001b[32m99.1/99.1 kB\u001b[0m \u001b[31m14.2 MB/s\u001b[0m eta \u001b[36m0:00:00\u001b[0m\n",
            "\u001b[2K     \u001b[90m━━━━━━━━━━━━━━━━━━━━━━━━━━━━━━━━━━━━━━━━\u001b[0m \u001b[32m21.1/21.1 MB\u001b[0m \u001b[31m77.7 MB/s\u001b[0m eta \u001b[36m0:00:00\u001b[0m\n",
            "\u001b[2K     \u001b[90m━━━━━━━━━━━━━━━━━━━━━━━━━━━━━━━━━━━━━━━━\u001b[0m \u001b[32m199.1/199.1 kB\u001b[0m \u001b[31m3.1 MB/s\u001b[0m eta \u001b[36m0:00:00\u001b[0m\n",
            "\u001b[2K     \u001b[90m━━━━━━━━━━━━━━━━━━━━━━━━━━━━━━━━━━━━━━━━\u001b[0m \u001b[32m290.1/290.1 kB\u001b[0m \u001b[31m28.7 MB/s\u001b[0m eta \u001b[36m0:00:00\u001b[0m\n",
            "\u001b[?25h"
          ]
        }
      ]
    },
    {
      "cell_type": "code",
      "source": [
        "import torch\n",
        "from transformers import T5Tokenizer\n",
        "from transformers import T5ForConditionalGeneration\n",
        "from transformers import GenerationConfig\n",
        "from peft import PeftModel, PeftConfig"
      ],
      "metadata": {
        "id": "2QP9787zD3SX"
      },
      "execution_count": null,
      "outputs": []
    },
    {
      "cell_type": "code",
      "source": [
        "# Load the FLAN-T5-Base model and tokenizer\n",
        "base_model_name = 'google/flan-t5-base'\n",
        "lora_model_name = 'outputs/flan-t5-base_lora'\n",
        "\n",
        "def load_model(base_model_name, lora_model_name):\n",
        "    tokenizer = T5Tokenizer.from_pretrained(base_model_name)\n",
        "    base_model = T5ForConditionalGeneration.from_pretrained(base_model_name,\n",
        "                                                       torch_dtype=torch.bfloat16)\n",
        "    model = PeftModel.from_pretrained(base_model,\n",
        "                                      lora_model_name,\n",
        "                                      torch_dtype=torch.bfloat16,\n",
        "                                      is_trainnable=False)\n",
        "\n",
        "    return tokenizer, model\n",
        "\n",
        "def generate_output(tokenizer, model, input_text, max_length=200):\n",
        "    # Tokenize the input text and generate the model's output\n",
        "    input_ids = tokenizer(input_text, return_tensors=\"pt\").input_ids\n",
        "    outputs = model.generate(\n",
        "        input_ids=input_ids,\n",
        "        generation_config=GenerationConfig(max_new_tokens=200, num_beams=1) )\n",
        "\n",
        "    # Decode the generated tokens to a string\n",
        "    response = tokenizer.decode(outputs[0], skip_special_tokens=True)\n",
        "    return response\n",
        "\n",
        "tokenizer, model = load_model(base_model_name, lora_model_name)\n",
        "\n",
        "\n",
        "total_parameter = sum(p.numel() for p in model.parameters())\n",
        "print(f\"Parameters of the model: {total_parameter:,}\")"
      ],
      "metadata": {
        "colab": {
          "base_uri": "https://localhost:8080/"
        },
        "id": "MxrMp5UEDVBB",
        "outputId": "f9564f5a-0854-4927-971a-cdec7a3d08c8"
      },
      "execution_count": null,
      "outputs": [
        {
          "output_type": "stream",
          "name": "stderr",
          "text": [
            "Special tokens have been added in the vocabulary, make sure the associated word embeddings are fine-tuned or trained.\n"
          ]
        },
        {
          "output_type": "stream",
          "name": "stdout",
          "text": [
            "Parameters of the model: 249,347,328\n"
          ]
        }
      ]
    },
    {
      "cell_type": "code",
      "execution_count": null,
      "metadata": {
        "colab": {
          "base_uri": "https://localhost:8080/"
        },
        "id": "-oZgb7feCrRQ",
        "outputId": "e1668263-03f7-419a-8aff-46c4f9cafb87"
      },
      "outputs": [
        {
          "name": "stdout",
          "output_type": "stream",
          "text": [
            "Chatbot initialized. You can start chatting now (type 'quit' to stop)!\n",
            "\n",
            "You: How are you doing today\n",
            "Chatbot: You are doing well today.\n",
            "\n",
            "You: Summarize: Tesco please bring security back to the Hall Green store. The store is getting a more an more uncomfortable vibe, not alone on this either! <BR> Hi there, sorry to be a pain but can you confirm which Hall Green store this is? TY Reece <BR> Tesco Its the Hall Green store right next to the train station. Hoping you havent removed security from the others too now. <BR> Hi, can you please confirm what you mean by uncomfortable vibe? Nick <BR> Tesco Well theres pretty obvious shop lifters regularly, and today we had a man clearly intoxicated screaming and randomly asking people things. <BR> Thanks for taking the time to provide these details, can you just confirm its the Express store? TYPhil <BR> Tesco Yes the express store! Thanks aswell. Id review the CCTV from when security were removed. If customers can see the changes you will too! <BR> Hi there. I have spoken to the store. They have had a few problems recently and are looking into improving security. Thanks Ian <BR> Tesco Thank you again. I often worry for the staff as it is becoming a hot spot for undesirables. The homeless arent the issue to save confusion! <BR> Hi there, thank you for bringing this to our attention the last thing we want is our customers to feel unsafe. Thank you Brooke <BR> Tesco No thank you for taking it seriously heres hoping the store gets back to normal soon! <BR> Hi there, Im glad one of my colleagues has dealt with the issue. Enjoy the rest of your weekend Rian <BR>\n",
            "Chatbot: Customer is complaining about the security of the store. Agent is asking for the customer to contact the store.\n",
            "\n",
            "You: Summarize: LondonMidland you didnt even. Ask me to pass on an apology to my friend for this farce <LINK> <BR> Im sorry if your tweet was missed and for the problems yesterday evening. <BR> LondonMidland You had Fucked off home leaving your passengers stranded for three hours its appalling <BR> I appreciate the frustration but I would ask you to not continue swearing at me thank you <BR> LondonMidland ok explain why you LEFT for the day leaving your customers stranded? <BR> our standard hours currently are 7am 7pm Monday to Friday. We work to those hours <BR> LondonMidland So you dont do overtime if it means your customers need help? Do you not care about your customers? <BR> at the current time, we are contracted to those hours any updates from then would be made at stations <BR> If you would like a full response as its very difficult on here due to character limit please email us email <BR> LondonMidland You cannot just be selfish and sod off home like this TOC tends to do. Its shocking really <BR>\n",
            "Chatbot: Customer is complaining about the delay in the service and the alleged to be a selfish and sod off home like this TOC tends to do.\n",
            "\n",
            "You: quit\n"
          ]
        }
      ],
      "source": [
        "def chatbot():\n",
        "\n",
        "    print(\"Chatbot initialized. You can start chatting now (type 'quit' to stop)!\\n\")\n",
        "\n",
        "    while True:\n",
        "        # Get user input\n",
        "        user_input = input(\"You: \")\n",
        "\n",
        "        # Check if the user wants to quit\n",
        "        if user_input.lower() == \"quit\":\n",
        "            break\n",
        "\n",
        "        response = generate_output(tokenizer, model, user_input)\n",
        "\n",
        "        # Print the generated text\n",
        "        print(f\"Chatbot: {response}\\n\")\n",
        "\n",
        "# Run the chatbot\n",
        "chatbot()"
      ]
    }
  ]
}