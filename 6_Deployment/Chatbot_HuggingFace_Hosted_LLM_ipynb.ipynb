{
  "nbformat": 4,
  "nbformat_minor": 0,
  "metadata": {
    "colab": {
      "provenance": [],
      "authorship_tag": "ABX9TyOiWKv5MTpnwBXioFdaEtO2",
      "include_colab_link": true
    },
    "kernelspec": {
      "name": "python3",
      "display_name": "Python 3"
    },
    "language_info": {
      "name": "python"
    }
  },
  "cells": [
    {
      "cell_type": "markdown",
      "metadata": {
        "id": "view-in-github",
        "colab_type": "text"
      },
      "source": [
        "<a href=\"https://colab.research.google.com/github/jchen8000/DemystifyingLLMs/blob/main/6_Deployment/Chatbot_HuggingFace_Hosted_LLM_ipynb.ipynb\" target=\"_parent\"><img src=\"https://colab.research.google.com/assets/colab-badge.svg\" alt=\"Open In Colab\"/></a>"
      ]
    },
    {
      "cell_type": "markdown",
      "source": [
        "# 6.11 Chatbot, Example of LLM-Powered Application\n",
        "\n",
        "## Chatbot built on a HuggingFace hosted model.\n",
        "\n",
        "Inference with an LLM can be compute-intensive, HuggingFace hosts a lot of publicly accessible LLMs on its infrastructure for test and evaluation for free.\n",
        "\n",
        "The Huggingface_hub library provides an easy way to call a service that runs inference for hosted models. Here we use *InferenceClient* to do the inference.\n",
        "\n",
        "[Mistralai/Mistral-7B-Instruct-v0.3](https://huggingface.co/mistralai/Mistral-7B-Instruct-v0.3) model is used for this example. We pass the chat history together with prompt for inference.\n",
        "\n",
        "A [Huggingface Access Token](https://huggingface.co/docs/hub/en/security-tokens) is needed for this example.\n"
      ],
      "metadata": {
        "id": "BK74JIJAraMz"
      }
    },
    {
      "cell_type": "code",
      "source": [
        "from huggingface_hub import InferenceClient\n",
        "HuggingFaceToken = 'Huggingface Access Token'\n",
        "client = InferenceClient(\"mistralai/Mistral-7B-Instruct-v0.3\", token=HuggingFaceToken)"
      ],
      "metadata": {
        "id": "eRN563dwZz87"
      },
      "execution_count": null,
      "outputs": []
    },
    {
      "cell_type": "code",
      "source": [
        "def format_prompt(message, history):\n",
        "    prompt = \"<s>\"\n",
        "    for user_prompt, bot_response in history:\n",
        "      prompt += f\"[INST] {user_prompt} [/INST]\"\n",
        "      prompt += f\" {bot_response}</s> \"\n",
        "    prompt += f\"[INST] {message} [/INST]\"\n",
        "    return prompt\n",
        "\n",
        "def ask_model(prompt, history, temperature=0.9, max_new_tokens=256, top_p=0.95, repetition_penalty=1.0):\n",
        "\n",
        "    generate_kwargs = dict(\n",
        "        temperature=temperature,\n",
        "        max_new_tokens=max_new_tokens,\n",
        "        top_p=top_p,\n",
        "        repetition_penalty=repetition_penalty,\n",
        "        do_sample=True,\n",
        "        seed=42,\n",
        "    )\n",
        "\n",
        "    formatted_prompt = format_prompt(prompt, history)\n",
        "\n",
        "    output = client.text_generation(formatted_prompt, **generate_kwargs)\n",
        "    return output\n"
      ],
      "metadata": {
        "id": "oE-IHnQym4Mu"
      },
      "execution_count": null,
      "outputs": []
    },
    {
      "cell_type": "code",
      "source": [
        "def chatbot():\n",
        "\n",
        "    print(\"Chatbot initialized. You can start chatting now (type 'quit' to stop)!\\n\")\n",
        "    history = []\n",
        "\n",
        "    while True:\n",
        "        # Get user input\n",
        "        user_input = input(\"You: \")\n",
        "\n",
        "        # Check if the user wants to quit\n",
        "        if user_input.lower() == \"quit\":\n",
        "            break\n",
        "\n",
        "        answer = ask_model(user_input, history)\n",
        "        history.append([user_input, answer])\n",
        "        # print(history)\n",
        "\n",
        "        print(f\"Chatbot: {answer}\\n\")\n",
        "\n",
        "# Run the chatbot\n",
        "chatbot()\n"
      ],
      "metadata": {
        "colab": {
          "base_uri": "https://localhost:8080/"
        },
        "id": "LMZQA2OqmRAI",
        "outputId": "21a36d2d-8e84-4e22-acc3-13f1f5bd8945"
      },
      "execution_count": null,
      "outputs": [
        {
          "name": "stdout",
          "output_type": "stream",
          "text": [
            "Chatbot initialized. You can start chatting now (type 'quit' to stop)!\n",
            "\n",
            "You: Hello\n",
            "Chatbot: Hello! How can I assist you today? If you have any questions or need help with something, feel free to ask. I'm here to help.\n",
            "\n",
            "You: How are you?\n",
            "Chatbot: I'm just a computer program, so I don't have feelings or emotions like humans do. I'm here to provide information and help you with your questions to the best of my ability. How can I assist you today?\n",
            "\n",
            "You: What are the top 5 biggest cities in Canada?\n",
            "Chatbot: The top 5 largest cities in Canada by population (as of 2021) are:\n",
            "\n",
            "1. Toronto (Toronto-Durham Region CMA) - 6,417,516\n",
            "2. Montreal (CMA) - 4,391,574\n",
            "3. Vancouver (CMA) - 2,642,811\n",
            "4. Calgary (CMA) - 1,388,988\n",
            "5. Ottawa-Gatineau (CMA) - 1,463,891 (split between Ontario and Quebec)\n",
            "\n",
            "These population numbers are for the entire metropolitan areas, not just the city proper. The cities themselves have smaller populations.\n",
            "\n",
            "You: What is the next biggies city?\n",
            "Chatbot: The city that is projected to become the sixth largest city in Canada by population in the near future is Edmonton, which currently has a population of about 1,392,616 (as of 2021). Edmonton is the capital city of Alberta and is located in the central part of the province. It is a major economic and cultural center in western Canada and has a growing population due to immigration and natural population growth. If Edmonton continues to grow at its current rate, it is expected to surpass Ottawa-Gatineau and become the sixth largest city in Canada in the coming years.\n",
            "\n",
            "You: What is its population, again?\n",
            "Chatbot: The population of Edmonton, Alberta, as of 2021, is approximately 1,392,616 people. It is the sixth largest city in Canada by population. As mentioned earlier, it is projected to surpass Ottawa-Gatineau and become the fifth largest city in the near future if it continues to grow at its current rate.\n",
            "\n",
            "You: quit\n"
          ]
        }
      ]
    }
  ]
}