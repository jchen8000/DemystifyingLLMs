{
  "cells": [
    {
      "cell_type": "markdown",
      "metadata": {
        "id": "view-in-github",
        "colab_type": "text"
      },
      "source": [
        "<a href=\"https://colab.research.google.com/github/jchen8000/DemystifyingLLMs/blob/main/3_Transformer/Transformer_From_Scratch.ipynb\" target=\"_parent\"><img src=\"https://colab.research.google.com/assets/colab-badge.svg\" alt=\"Open In Colab\"/></a>"
      ]
    },
    {
      "cell_type": "markdown",
      "metadata": {
        "id": "7pOZYVPlaZKc"
      },
      "source": [
        "# 3. Transformer\n",
        "\n",
        "**Implement a Transformer from scratch**\n",
        "\n",
        "*   3.1 Dataset and Tokenization\n",
        "*   3.3 Positional Encoding\n",
        "*   3.4 Layer Normalization\n",
        "*   3.5 Feed Forward\n",
        "*   3.6 Scaled Dot-Product Attention\n",
        "*   3.7 Mask\n",
        "*   3.8 Multi-Head Attention\n",
        "*   3.9 Encoder Layer and Encoder\n",
        "*   3.10 Decoder Layer and Decoder\n",
        "*   3.11 Transformer\n",
        "*   3.12 Training\n",
        "*   3.13 Inference\n",
        "\n",
        "\n",
        "\n"
      ]
    },
    {
      "cell_type": "code",
      "execution_count": null,
      "metadata": {
        "execution": {
          "iopub.execute_input": "2024-02-07T15:34:32.884111Z",
          "iopub.status.busy": "2024-02-07T15:34:32.883611Z",
          "iopub.status.idle": "2024-02-07T15:34:33.439490Z",
          "shell.execute_reply": "2024-02-07T15:34:33.438856Z",
          "shell.execute_reply.started": "2024-02-07T15:34:32.884070Z"
        },
        "id": "KEfH4u-FhLXL"
      },
      "outputs": [],
      "source": [
        "import math\n",
        "import torch\n",
        "import numpy as np\n",
        "import torch.nn as nn\n",
        "import torch.optim as optim\n",
        "import torch.utils.data as Data\n",
        "from torch.nn.utils.rnn import pad_sequence"
      ]
    },
    {
      "cell_type": "code",
      "execution_count": null,
      "metadata": {
        "execution": {
          "iopub.execute_input": "2024-02-07T15:34:33.441304Z",
          "iopub.status.busy": "2024-02-07T15:34:33.440944Z",
          "iopub.status.idle": "2024-02-07T15:34:33.626221Z",
          "shell.execute_reply": "2024-02-07T15:34:33.625190Z",
          "shell.execute_reply.started": "2024-02-07T15:34:33.441284Z"
        },
        "id": "lSmV26jwhZUp"
      },
      "outputs": [],
      "source": [
        "device = 'cuda:0' if torch.cuda.is_available() else 'cpu'\n",
        "epochs = 100\n",
        "torch.manual_seed(999)\n",
        "batch_size = 8\n",
        "learning_rate=1e-3\n",
        "d_model = 512\n",
        "d_ff = 2048\n",
        "d_k = d_v = 64\n",
        "n_layers = 6\n",
        "n_heads = 8"
      ]
    },
    {
      "cell_type": "markdown",
      "metadata": {
        "id": "Xi73ByZMhcS0"
      },
      "source": [
        "## 3.1\tDataset and Tokenization"
      ]
    },
    {
      "cell_type": "code",
      "execution_count": null,
      "metadata": {
        "execution": {
          "iopub.execute_input": "2024-02-07T15:34:33.627713Z",
          "iopub.status.busy": "2024-02-07T15:34:33.627404Z",
          "iopub.status.idle": "2024-02-07T15:34:33.637258Z",
          "shell.execute_reply": "2024-02-07T15:34:33.636562Z",
          "shell.execute_reply.started": "2024-02-07T15:34:33.627690Z"
        },
        "id": "2SzlBKRlDkge"
      },
      "outputs": [],
      "source": [
        "#\n",
        "# Question and Answer Dataset\n",
        "# https://www.kaggle.com/datasets/rtatman/questionanswer-dataset/\n",
        "# File: S08_question_answer_pairs.txt\n",
        "#\n",
        "question_answer = [\n",
        "  ['What are the similarities between the beetles and the grasshoppers?',  'Beetles have the mouthparts that are similar to those of the grasshoppers.'],\n",
        "  ['What land animal is larger than an elephant?',  'None, the elephant is the largest land animal in the world.'],\n",
        "  ['How often do turtles breed?',  'Every few years or more.'],\n",
        "  ['Where do sea turtles lay their eggs?',  'Holes dug into mud or sand.'],\n",
        "  ['How do otters keep themselves warm without blubber?',  'A layer of air trapped in their fur.'],\n",
        "  ['How much time to penguins spend on land?',  'They spend half of their life on land.'],\n",
        "  ['What are the three sections of a beetle?',  'The head, the thorax, and the abdomen.'],\n",
        "  ['Can polar bears be seen under infrared photography?',  'Polar bears are nearly invisible under infrared photography.'],\n",
        "  ['What do fossil and DNA evidence tell us?',  'The polar bear diverged from the brown bear roughly 200 thousand years ago.'],\n",
        "  ['On average are cougar males heavier than females?',\t'On average the cougar males are heavier than the females.'],\n",
        "  ['How are Isabelline penguins different from most penguins?',  'Because they are born with brown rather than black plumage.'],\n",
        "  ['What do beetles eat?',  'They often feed on plants and fungi, break down animal and plant debris, and eat other invertebrates.'],\n",
        "  ['What are the similarities between beetles and grasshoppers?',  'Beetles have mouthparts similar to those of grasshoppers.'],\n",
        "  ['How much do elephants weight at birth?',  'At birth it is common for an elephant calf to weigh 120 kilograms or 265 lb.'],\n",
        "  ['How do elephants communicate over long distances?',  'By producing and receiving low-frequency sound or infrasound.'],\n",
        "  ['What makes penguins so agile in the water?',  'Smooth plumage preserves a layer of air, ensuring buoyancy, wings are flippers.'],\n",
        "]\n",
        "\n",
        "texts = []\n",
        "for que_text, ans_text in question_answer:\n",
        "  text = que_text.replace('?', ' ?')\n",
        "  texts.extend(text.split())\n",
        "  text = ans_text.replace('.', ' .')\n",
        "  texts.extend(text.split())\n",
        "\n",
        "# Special tokens:\n",
        "#   <PAD>: Padding token\n",
        "#   <UNK>: Unknown token\n",
        "#   <SOS>: Start-of-Sequence token\n",
        "#   <EOS>: End-of-Sequence token\n",
        "words = sorted(list(set(texts)))\n",
        "words = ['<PAD>', '<UNK>','<SOS>','<EOS>'] + words\n",
        "\n",
        "class Tokenizer():\n",
        "    def __init__(self, vocabulary):\n",
        "      self.idx2word = {index:word for index, word in enumerate(vocabulary)}\n",
        "      self.word2idx = {word:index for index, word in enumerate(vocabulary)}\n",
        "\n",
        "    def get_vocab_size(self):\n",
        "      return len(self.idx2word)\n",
        "\n",
        "    def encode(self, text):\n",
        "      return [self.word2idx[w] for w in text.split()]\n",
        "\n",
        "    def encode_word(self, char):\n",
        "      return self.word2idx[char]\n",
        "\n",
        "    def decode(self, encoded_text):\n",
        "      return [self.idx2word[i] for i in encoded_text]\n",
        "\n",
        "    def decode_text(self, encoded_text):\n",
        "      s = self.decode(encoded_text)\n",
        "      return (\" \".join(s))\n",
        "\n",
        "tokenizer = Tokenizer(words)\n",
        "\n",
        "vocab_size = tokenizer.get_vocab_size()\n"
      ]
    },
    {
      "cell_type": "code",
      "execution_count": null,
      "metadata": {
        "execution": {
          "iopub.execute_input": "2024-02-07T15:34:33.638532Z",
          "iopub.status.busy": "2024-02-07T15:34:33.638202Z",
          "iopub.status.idle": "2024-02-07T15:34:33.645310Z",
          "shell.execute_reply": "2024-02-07T15:34:33.644692Z",
          "shell.execute_reply.started": "2024-02-07T15:34:33.638509Z"
        },
        "id": "DqYpyC-hx32X"
      },
      "outputs": [],
      "source": [
        "def make_data(sentences):\n",
        "    enc_inputs, dec_inputs, dec_outputs = [], [], []\n",
        "\n",
        "    for i in range(len(sentences)):\n",
        "        que_text = sentences[i][0].replace('?', ' ?')\n",
        "        ans_text_inp = '<SOS> ' + sentences[i][1].replace('.', ' .')\n",
        "        ans_text_out = sentences[i][1].replace('.', ' .') + ' <EOS>'\n",
        "\n",
        "        enc_input = tokenizer.encode(que_text)\n",
        "        dec_input = tokenizer.encode(ans_text_inp)\n",
        "        dec_output = tokenizer.encode(ans_text_out)\n",
        "\n",
        "        enc_inputs.append(torch.LongTensor(enc_input))\n",
        "        dec_inputs.append(torch.LongTensor(dec_input))\n",
        "        dec_outputs.append(torch.LongTensor(dec_output))\n",
        "\n",
        "    return pad_sequence(enc_inputs, batch_first=True), pad_sequence(dec_inputs, batch_first=True), pad_sequence(dec_outputs, batch_first=True)\n",
        "\n",
        "enc_inputs, dec_inputs, dec_outputs = make_data(question_answer)"
      ]
    },
    {
      "cell_type": "code",
      "execution_count": null,
      "metadata": {
        "execution": {
          "iopub.execute_input": "2024-02-07T15:34:33.646453Z",
          "iopub.status.busy": "2024-02-07T15:34:33.646190Z",
          "iopub.status.idle": "2024-02-07T15:34:33.651417Z",
          "shell.execute_reply": "2024-02-07T15:34:33.650722Z",
          "shell.execute_reply.started": "2024-02-07T15:34:33.646433Z"
        },
        "id": "FiCnFu94bLvR"
      },
      "outputs": [],
      "source": [
        "class DataSet(Data.Dataset):\n",
        "    def __init__(self, data):\n",
        "        super(DataSet, self).__init__()\n",
        "        self.data = data\n",
        "\n",
        "    def __len__(self):\n",
        "        return self.data[0].shape[0]\n",
        "\n",
        "    def __getitem__(self, idx):\n",
        "        return [x[idx] for x in self.data]\n",
        "\n",
        "loader = Data.DataLoader( DataSet([enc_inputs, dec_inputs, dec_outputs]), batch_size, True)"
      ]
    },
    {
      "cell_type": "markdown",
      "metadata": {
        "id": "wDNliX5jkzBW"
      },
      "source": [
        "## 3.3\tPositional Encoding\n",
        "\n",
        "Based on the paper [Attention Is All You Need](https://arxiv.org/pdf/1706.03762.pdf), Positional Encoding is defined as:\n",
        "\n",
        "$PE_{(pos, 2i)}=\\sin{\\left( \\frac{pos}{10000^{2i/d_{model}}} \\right)}$\n",
        "\n",
        "$PE_{pos, 2i+1}=\\cos{\\left( \\frac{pos}{10000^{2i/d_{model}}} \\right)}$\n",
        "\n",
        "where:\n",
        "\n",
        "$pos$: is the position of an item in the input sequence, $0 \\leqslant  pos \\lt  \\frac{len(input)}{2}$\n",
        "\n",
        "$d_{model}$: Dimension of the embedding space\n",
        "\n",
        "It's implemented as below:"
      ]
    },
    {
      "cell_type": "code",
      "execution_count": null,
      "metadata": {
        "execution": {
          "iopub.execute_input": "2024-02-07T15:34:33.657631Z",
          "iopub.status.busy": "2024-02-07T15:34:33.657382Z",
          "iopub.status.idle": "2024-02-07T15:34:33.663297Z",
          "shell.execute_reply": "2024-02-07T15:34:33.662715Z",
          "shell.execute_reply.started": "2024-02-07T15:34:33.657611Z"
        },
        "id": "THZpnXDWkzj8"
      },
      "outputs": [],
      "source": [
        "class PositionalEncoding(nn.Module):\n",
        "    def __init__(self, d_model, max_len=5000, dropout=0.1):\n",
        "        super(PositionalEncoding, self).__init__()\n",
        "        self.dropout = nn.Dropout(p=dropout)\n",
        "\n",
        "        pe = torch.zeros(max_len, d_model)\n",
        "        position = torch.arange(0, max_len).unsqueeze(1).float()\n",
        "        div_term = torch.exp(torch.arange(0, d_model, 2).float() * (-math.log(10000.0) / d_model))\n",
        "        pe[:, 0::2] = torch.sin(position * div_term)\n",
        "        pe[:, 1::2] = torch.cos(position * div_term)\n",
        "        pe = pe.unsqueeze(0)\n",
        "        self.register_buffer('pe_table', pe)\n",
        "\n",
        "    def forward(self, x):\n",
        "        x = x + self.pe_table[:, :x.size(1), :]\n",
        "        return self.dropout(x)"
      ]
    },
    {
      "cell_type": "markdown",
      "metadata": {
        "id": "eqMmq8I4qmPO"
      },
      "source": [
        "## 3.4\tLayer Normalization\n",
        "\n"
      ]
    },
    {
      "cell_type": "markdown",
      "metadata": {
        "id": "1jptWah-wgSv"
      },
      "source": [
        "**Layer Normalization** is based on the paper of [Layer Normalization](https://arxiv.org/abs/1607.06450), it can be implemented with *torch.nn.LayerNorm()*.\n",
        "\n",
        "Here we do our implementation, it is defined as:\n",
        "\n",
        "$$y = \\displaystyle \\frac{x-E\\left[ x \\right]}{\\sqrt{Var\\left[ x \\right]+\\epsilon}}\\ast \\gamma + \\beta$$\n",
        "\n",
        "\n",
        "\n",
        "$E$ is the mean of $x$,\n",
        "\n",
        "$Var$ is the standard-deviation of $x$\n",
        "\n",
        "Both mean and standard-deviation are calculated over the last dimension of $x$, and calculated by:\n",
        "\n",
        "```\n",
        "mean = x.mean(dim = -1, keepdim = True),\n",
        "std = x.std(dim = -1, keepdim = True)\n",
        "```\n",
        "\n",
        "$\\gamma$ and $\\beta$ are learnable parameters.\n",
        "\n",
        "$\\epsilon$ is to prevent dividing by zero or when std is near zero, default is 1e-5."
      ]
    },
    {
      "cell_type": "code",
      "execution_count": null,
      "metadata": {
        "execution": {
          "iopub.execute_input": "2024-02-07T15:34:33.664936Z",
          "iopub.status.busy": "2024-02-07T15:34:33.664262Z",
          "iopub.status.idle": "2024-02-07T15:34:33.671214Z",
          "shell.execute_reply": "2024-02-07T15:34:33.670509Z",
          "shell.execute_reply.started": "2024-02-07T15:34:33.664905Z"
        },
        "id": "sm4M8wj3wWXX"
      },
      "outputs": [],
      "source": [
        "class LayerNorm(nn.Module):\n",
        "\n",
        "    def __init__(self, features, eps=1e-5) -> None:\n",
        "        super(LayerNorm, self).__init__()\n",
        "        self.eps = eps\n",
        "        self.gamma = nn.Parameter(torch.ones(features)) # gamma is a learnable parameter\n",
        "        self.beta = nn.Parameter(torch.zeros(features)) # beta is a learnable parameter\n",
        "\n",
        "    def forward(self, x):\n",
        "        mean = x.mean(dim = -1, keepdim = True)\n",
        "        std = x.std(dim = -1, keepdim = True)\n",
        "        return self.gamma * (x - mean) / (std + self.eps) + self.beta"
      ]
    },
    {
      "cell_type": "markdown",
      "metadata": {
        "id": "BVdh0F150UG6"
      },
      "source": [
        "## 3.5\tFeed Forward"
      ]
    },
    {
      "cell_type": "markdown",
      "metadata": {
        "id": "Ts89I1gq10V6"
      },
      "source": [
        "**Position-wise Feed-Forward Networks**, based on the paper [Attention Is All You Need](https://arxiv.org/pdf/1706.03762.pdf), is defined as:\n",
        "\n",
        "$$FFN(x) = \\max(0, xW_1 + b_1)W_2 + b_2$$\n",
        "\n",
        "This consists of two linear transformations with a *ReLU* activation in between.\n",
        "\n"
      ]
    },
    {
      "cell_type": "code",
      "execution_count": null,
      "metadata": {
        "execution": {
          "iopub.execute_input": "2024-02-07T15:34:33.672527Z",
          "iopub.status.busy": "2024-02-07T15:34:33.672216Z",
          "iopub.status.idle": "2024-02-07T15:34:33.678661Z",
          "shell.execute_reply": "2024-02-07T15:34:33.677834Z",
          "shell.execute_reply.started": "2024-02-07T15:34:33.672498Z"
        },
        "id": "9kltvC5jq1vA"
      },
      "outputs": [],
      "source": [
        "class FeedForward(nn.Module):\n",
        "    def __init__(self, d_ff, dropout=0.2):\n",
        "        super(FeedForward, self).__init__()\n",
        "        self.fc = nn.Sequential(\n",
        "            nn.Linear(d_model, d_ff, bias=False),\n",
        "            nn.ReLU(),\n",
        "            nn.Dropout(dropout),\n",
        "            nn.Linear(d_ff, d_model, bias=False)\n",
        "        )\n",
        "        self.ln = LayerNorm(d_model)\n",
        "\n",
        "    def forward(self, x):\n",
        "        residual = x\n",
        "        output = self.fc(x)\n",
        "        return self.ln(output+residual)\n"
      ]
    },
    {
      "cell_type": "markdown",
      "metadata": {
        "id": "oZn6k7tg0c6W"
      },
      "source": [
        "## 3.6\tScaled Dot-Product Attention\n",
        "\n",
        "Based on the paper [Attention Is All You Need](https://arxiv.org/pdf/1706.03762.pdf), the input consists of queries and keys of dimension $d_k$, and values of dimension $d_v$. We compute the dot products of the query with all keys, divide each by $\\sqrt{d_k}$, and apply a softmax function to obtain the weights on the\n",
        "values.\n",
        "\n",
        "In practice, we compute the attention function on a set of queries simultaneously, packed together into a matrix $Q$. The keys and values are also packed together into matrices $K$ and $V$. We compute\n",
        "the matrix of outputs as:\n",
        "\n",
        "$$Attention(Q, K, V)=softmax \\left( \\frac{QK^T}{\\sqrt{d_k}} \\right) V$$\n",
        "\n",
        "\n"
      ]
    },
    {
      "cell_type": "code",
      "execution_count": null,
      "metadata": {
        "execution": {
          "iopub.execute_input": "2024-02-07T15:34:33.679878Z",
          "iopub.status.busy": "2024-02-07T15:34:33.679587Z",
          "iopub.status.idle": "2024-02-07T15:34:33.685676Z",
          "shell.execute_reply": "2024-02-07T15:34:33.685098Z",
          "shell.execute_reply.started": "2024-02-07T15:34:33.679858Z"
        },
        "id": "VSURuVsU0j7l"
      },
      "outputs": [],
      "source": [
        "class ScaledDotProductAttention(nn.Module):\n",
        "    def __init__(self, dropout=0.2):\n",
        "        super(ScaledDotProductAttention, self).__init__()\n",
        "        self.dropout = nn.Dropout(p=dropout)\n",
        "\n",
        "    def forward(self, Q, K, V, mask=None):\n",
        "        attn_logits = torch.matmul(Q, K.transpose(-1, -2)) / np.sqrt(d_k)\n",
        "        if mask is not None:\n",
        "            attn_logits = attn_logits.masked_fill_(mask, -float('inf'))\n",
        "        scores = nn.Softmax(dim=-1)(attn_logits)\n",
        "        scores = self.dropout(scores)\n",
        "        attention = torch.matmul(scores, V)\n",
        "        return attention, scores"
      ]
    },
    {
      "cell_type": "markdown",
      "source": [
        "## 3.7\tMask"
      ],
      "metadata": {
        "id": "4lYaxaPoVxjO"
      }
    },
    {
      "cell_type": "code",
      "source": [
        "class Mask(nn.Module):\n",
        "    def get_attn_pad_mask(self, seq_q, seq_k, pad=0):\n",
        "        batch_size, len_q = seq_q.size()\n",
        "        batch_size, len_k = seq_k.size()\n",
        "        pad_attn_mask = seq_k.data.eq(pad).unsqueeze(1)\n",
        "        return pad_attn_mask.expand(batch_size, len_q, len_k)\n",
        "\n",
        "    def get_attn_subsequence_mask(self, seq):\n",
        "        attn_shape = [seq.size(0), seq.size(1), seq.size(1)]\n",
        "        subsequence_mask = torch.triu(torch.ones(attn_shape), diagonal=1)\n",
        "        subsequence_mask.bool()\n",
        "        return subsequence_mask"
      ],
      "metadata": {
        "id": "hgCQGtwqVxO_"
      },
      "execution_count": null,
      "outputs": []
    },
    {
      "cell_type": "markdown",
      "metadata": {
        "id": "fiKOvwnl7QLO"
      },
      "source": [
        "## 3.8\tMulti-Head Attention\n",
        "\n",
        "Multi-head Attention is a module for attention mechanisms which runs through an attention mechanism several times in parallel. The independent attention outputs are then concatenated and linearly transformed into the expected dimension. It's defined as:\n",
        "\n",
        "$$Multihead(Q, K, V) = Concat(head_1, ..., head_h)\\cdot W$$\n",
        "\n",
        "where: $head_i = Attention(QW_i^Q, KW_i^K, VW_i^V)$\n",
        "\n"
      ]
    },
    {
      "cell_type": "code",
      "execution_count": null,
      "metadata": {
        "execution": {
          "iopub.execute_input": "2024-02-07T15:34:33.687237Z",
          "iopub.status.busy": "2024-02-07T15:34:33.686920Z",
          "iopub.status.idle": "2024-02-07T15:34:33.697511Z",
          "shell.execute_reply": "2024-02-07T15:34:33.696783Z",
          "shell.execute_reply.started": "2024-02-07T15:34:33.687207Z"
        },
        "id": "y0SecFdX7evW"
      },
      "outputs": [],
      "source": [
        "class MultiHeadAttention(nn.Module):\n",
        "    def __init__(self, d_model=d_model, n_heads=n_heads, d_k=d_k, d_v=d_v, dropout=0.2):\n",
        "        super(MultiHeadAttention, self).__init__()\n",
        "        self.d_model, self.n_heads = d_model, n_heads\n",
        "        self.d_k, self.d_v = d_k, d_v\n",
        "\n",
        "        self.W_Q = nn.Linear(d_model, self.d_k * self.n_heads, bias=False)\n",
        "        self.W_K = nn.Linear(d_model, self.d_k * self.n_heads, bias=False)\n",
        "        self.W_V = nn.Linear(d_model, self.d_v * self.n_heads, bias=False)\n",
        "\n",
        "        self.fc = nn.Linear(self.n_heads * self.d_v, d_model, bias=False)\n",
        "        self.ln = LayerNorm(self.d_model)\n",
        "        self.dropout = nn.Dropout(p=dropout)\n",
        "\n",
        "    def forward(self, input_Q, input_K, input_V, attn_mask):\n",
        "        n_heads, d_k, d_v = self.n_heads, self.d_k, self.d_v\n",
        "        residual, batch_size = input_Q, input_Q.size(0)\n",
        "        Q = self.W_Q(input_Q).view(batch_size, -1, n_heads, d_k).transpose(1, 2)\n",
        "        K = self.W_K(input_K).view(batch_size, -1, n_heads, d_k).transpose(1, 2)\n",
        "        V = self.W_V(input_V).view(batch_size, -1, n_heads, d_v).transpose(1, 2)\n",
        "\n",
        "        attn_mask = attn_mask.unsqueeze(1).repeat(1, n_heads, 1, 1)\n",
        "        context, attn = ScaledDotProductAttention()(Q, K, V, attn_mask)\n",
        "        context = context.transpose(1, 2).reshape(batch_size, -1, n_heads * d_v)\n",
        "        output = self.dropout(self.fc(context))\n",
        "        return self.ln(output + residual), attn\n"
      ]
    },
    {
      "cell_type": "markdown",
      "source": [
        "## 3.9\tEncoder Layer and Encoder"
      ],
      "metadata": {
        "id": "RJYWZb4FV-EB"
      }
    },
    {
      "cell_type": "code",
      "execution_count": null,
      "metadata": {
        "execution": {
          "iopub.execute_input": "2024-02-07T15:34:33.699189Z",
          "iopub.status.busy": "2024-02-07T15:34:33.698628Z",
          "iopub.status.idle": "2024-02-07T15:34:33.716025Z",
          "shell.execute_reply": "2024-02-07T15:34:33.715446Z",
          "shell.execute_reply.started": "2024-02-07T15:34:33.699158Z"
        },
        "id": "etGtAasoaRwK"
      },
      "outputs": [],
      "source": [
        "class EncoderLayer(nn.Module):\n",
        "    def __init__(self):\n",
        "        super(EncoderLayer, self).__init__()\n",
        "        self.enc_self_attn = MultiHeadAttention()\n",
        "        self.pos_ffn = FeedForward(d_ff)\n",
        "\n",
        "    def forward(self, enc_inputs, enc_self_attn_mask):\n",
        "        enc_outputs, _i = self.enc_self_attn(enc_inputs, enc_inputs, enc_inputs, enc_self_attn_mask)\n",
        "        enc_outputs = self.pos_ffn(enc_outputs)\n",
        "        return enc_outputs\n",
        "\n",
        "class Encoder(nn.Module):\n",
        "    def __init__(self):\n",
        "        super(Encoder, self).__init__()\n",
        "        self.src_emb = nn.Embedding(vocab_size, d_model)\n",
        "        self.pos_emb = PositionalEncoding( d_model, max_len = vocab_size )\n",
        "        self.layers = nn.ModuleList([EncoderLayer() for _ in range(n_layers)])\n",
        "        self.mask = Mask()\n",
        "\n",
        "    def forward(self, enc_inputs):\n",
        "        enc_outputs = self.src_emb(enc_inputs)\n",
        "        enc_outputs = self.pos_emb(enc_outputs).to(device)\n",
        "        enc_self_attn_mask = self.mask.get_attn_pad_mask(enc_inputs, enc_inputs).to(device)\n",
        "        for layer in self.layers:\n",
        "            enc_outputs = layer(enc_outputs, enc_self_attn_mask)\n",
        "        return enc_outputs\n"
      ]
    },
    {
      "cell_type": "markdown",
      "source": [
        "## 3.10\tDecoder Layer and Decoder"
      ],
      "metadata": {
        "id": "UrMQl7uwWLME"
      }
    },
    {
      "cell_type": "code",
      "source": [
        "class DecoderLayer(nn.Module):\n",
        "    def __init__(self):\n",
        "        super(DecoderLayer, self).__init__()\n",
        "        self.dec_self_attn = MultiHeadAttention()\n",
        "        self.dec_enc_attn = MultiHeadAttention()\n",
        "        self.pos_ffn = FeedForward(d_ff)\n",
        "\n",
        "    def forward(self, dec_inputs, enc_outputs, dec_self_attn_mask, dec_enc_attn_mask):\n",
        "        dec_outputs, _ = self.dec_self_attn(dec_inputs,\n",
        "                                            dec_inputs,\n",
        "                                            dec_inputs,\n",
        "                                            dec_self_attn_mask)\n",
        "\n",
        "        dec_outputs, _ = self.dec_enc_attn(dec_outputs,\n",
        "                                           enc_outputs,\n",
        "                                           enc_outputs,\n",
        "                                           dec_enc_attn_mask)\n",
        "\n",
        "        dec_outputs = self.pos_ffn(dec_outputs)\n",
        "        return dec_outputs\n",
        "\n",
        "\n",
        "class Decoder(nn.Module):\n",
        "    def __init__(self):\n",
        "        super(Decoder, self).__init__()\n",
        "        self.tgt_emb = nn.Embedding(vocab_size, d_model)\n",
        "        self.pos_emb = PositionalEncoding(d_model, max_len = vocab_size )\n",
        "        self.layers = nn.ModuleList([DecoderLayer() for _ in range(n_layers)])\n",
        "        self.mask = Mask()\n",
        "\n",
        "    def forward(self, dec_inputs, enc_inputs, enc_outputs):\n",
        "        dec_outputs = self.tgt_emb(dec_inputs)\n",
        "        dec_outputs = self.pos_emb(dec_outputs).to(device)\n",
        "        dec_self_attn_pad_mask = self.mask.get_attn_pad_mask(dec_inputs, dec_inputs).to(device)\n",
        "        dec_self_attn_subsequence_mask = self.mask.get_attn_subsequence_mask(dec_inputs).to(device)\n",
        "        dec_self_attn_mask = torch.gt((dec_self_attn_pad_mask + dec_self_attn_subsequence_mask), 0).to(device)\n",
        "        dec_enc_attn_mask = self.mask.get_attn_pad_mask(dec_inputs, enc_inputs)\n",
        "\n",
        "        for layer in self.layers:\n",
        "            dec_outputs = layer(dec_outputs, enc_outputs,\n",
        "                                dec_self_attn_mask, dec_enc_attn_mask)\n",
        "        return dec_outputs"
      ],
      "metadata": {
        "id": "PuVtlgbiWFPj"
      },
      "execution_count": null,
      "outputs": []
    },
    {
      "cell_type": "markdown",
      "source": [
        "## 3.11\tTransformer"
      ],
      "metadata": {
        "id": "X3b61_LmWTNF"
      }
    },
    {
      "cell_type": "code",
      "source": [
        "class Transformer(nn.Module):\n",
        "    def __init__(self):\n",
        "        super(Transformer, self).__init__()\n",
        "        self.encoder = Encoder().to(device)\n",
        "        self.decoder = Decoder().to(device)\n",
        "        self.projection = nn.Linear(\n",
        "            d_model, vocab_size, bias=False).to(device)\n",
        "        self.softmax = nn.Softmax(dim=-1)\n",
        "\n",
        "    def forward(self, enc_inputs, dec_inputs):\n",
        "        enc_outputs = self.encoder(enc_inputs)\n",
        "        dec_outputs = self.decoder(dec_inputs, enc_inputs, enc_outputs)\n",
        "        dec_logits = self.projection(dec_outputs)\n",
        "        return dec_logits.view(-1, dec_logits.size(-1))\n",
        "\n"
      ],
      "metadata": {
        "id": "FDEnH3ryWXBx"
      },
      "execution_count": null,
      "outputs": []
    },
    {
      "cell_type": "markdown",
      "metadata": {
        "id": "q_Gu656Lh-41"
      },
      "source": [
        "## 3.12\tTraining"
      ]
    },
    {
      "cell_type": "code",
      "execution_count": null,
      "metadata": {
        "colab": {
          "base_uri": "https://localhost:8080/"
        },
        "execution": {
          "iopub.execute_input": "2024-02-07T15:34:33.717475Z",
          "iopub.status.busy": "2024-02-07T15:34:33.716858Z",
          "iopub.status.idle": "2024-02-07T15:34:36.936404Z",
          "shell.execute_reply": "2024-02-07T15:34:36.935476Z",
          "shell.execute_reply.started": "2024-02-07T15:34:33.717442Z"
        },
        "id": "imxC3WKqsect",
        "outputId": "c7e3920a-2d3a-4726-8210-2ec01068f8f3"
      },
      "outputs": [
        {
          "output_type": "stream",
          "name": "stdout",
          "text": [
            "Parameters of the model: 44,324,352\n"
          ]
        }
      ],
      "source": [
        "model = Transformer().to(device)\n",
        "# print the number of parameters in the model\n",
        "total_parameter = sum(p.numel() for p in model.parameters())\n",
        "print(f\"Parameters of the model: {total_parameter:,}\")\n"
      ]
    },
    {
      "cell_type": "code",
      "source": [
        "# Print out the structure of the Transformer model\n",
        "print(model)"
      ],
      "metadata": {
        "id": "LETt98SbL2qg",
        "outputId": "33a07130-0ef6-40f4-e408-9196f6651fee",
        "colab": {
          "base_uri": "https://localhost:8080/"
        }
      },
      "execution_count": null,
      "outputs": [
        {
          "output_type": "stream",
          "name": "stdout",
          "text": [
            "Transformer(\n",
            "  (encoder): Encoder(\n",
            "    (src_emb): Embedding(165, 512)\n",
            "    (pos_emb): PositionalEncoding(\n",
            "      (dropout): Dropout(p=0.1, inplace=False)\n",
            "    )\n",
            "    (layers): ModuleList(\n",
            "      (0-5): 6 x EncoderLayer(\n",
            "        (enc_self_attn): MultiHeadAttention(\n",
            "          (W_Q): Linear(in_features=512, out_features=512, bias=False)\n",
            "          (W_K): Linear(in_features=512, out_features=512, bias=False)\n",
            "          (W_V): Linear(in_features=512, out_features=512, bias=False)\n",
            "          (fc): Linear(in_features=512, out_features=512, bias=False)\n",
            "          (ln): LayerNorm()\n",
            "          (dropout): Dropout(p=0.2, inplace=False)\n",
            "        )\n",
            "        (pos_ffn): FeedForward(\n",
            "          (fc): Sequential(\n",
            "            (0): Linear(in_features=512, out_features=2048, bias=False)\n",
            "            (1): ReLU()\n",
            "            (2): Dropout(p=0.2, inplace=False)\n",
            "            (3): Linear(in_features=2048, out_features=512, bias=False)\n",
            "          )\n",
            "          (ln): LayerNorm()\n",
            "        )\n",
            "      )\n",
            "    )\n",
            "    (mask): Mask()\n",
            "  )\n",
            "  (decoder): Decoder(\n",
            "    (tgt_emb): Embedding(165, 512)\n",
            "    (pos_emb): PositionalEncoding(\n",
            "      (dropout): Dropout(p=0.1, inplace=False)\n",
            "    )\n",
            "    (layers): ModuleList(\n",
            "      (0-5): 6 x DecoderLayer(\n",
            "        (dec_self_attn): MultiHeadAttention(\n",
            "          (W_Q): Linear(in_features=512, out_features=512, bias=False)\n",
            "          (W_K): Linear(in_features=512, out_features=512, bias=False)\n",
            "          (W_V): Linear(in_features=512, out_features=512, bias=False)\n",
            "          (fc): Linear(in_features=512, out_features=512, bias=False)\n",
            "          (ln): LayerNorm()\n",
            "          (dropout): Dropout(p=0.2, inplace=False)\n",
            "        )\n",
            "        (dec_enc_attn): MultiHeadAttention(\n",
            "          (W_Q): Linear(in_features=512, out_features=512, bias=False)\n",
            "          (W_K): Linear(in_features=512, out_features=512, bias=False)\n",
            "          (W_V): Linear(in_features=512, out_features=512, bias=False)\n",
            "          (fc): Linear(in_features=512, out_features=512, bias=False)\n",
            "          (ln): LayerNorm()\n",
            "          (dropout): Dropout(p=0.2, inplace=False)\n",
            "        )\n",
            "        (pos_ffn): FeedForward(\n",
            "          (fc): Sequential(\n",
            "            (0): Linear(in_features=512, out_features=2048, bias=False)\n",
            "            (1): ReLU()\n",
            "            (2): Dropout(p=0.2, inplace=False)\n",
            "            (3): Linear(in_features=2048, out_features=512, bias=False)\n",
            "          )\n",
            "          (ln): LayerNorm()\n",
            "        )\n",
            "      )\n",
            "    )\n",
            "    (mask): Mask()\n",
            "  )\n",
            "  (projection): Linear(in_features=512, out_features=165, bias=False)\n",
            "  (softmax): Softmax(dim=-1)\n",
            ")\n"
          ]
        }
      ]
    },
    {
      "cell_type": "code",
      "source": [
        "# Loss function to ignore the word \"<P>\" which marks the end of a sentance.\n",
        "criterion = nn.CrossEntropyLoss(ignore_index=tokenizer.encode_word(\"<PAD>\"))\n",
        "optimizer = optim.SGD(model.parameters(), lr=learning_rate, momentum=0.99)"
      ],
      "metadata": {
        "id": "cD3MvOPjLz0k"
      },
      "execution_count": null,
      "outputs": []
    },
    {
      "cell_type": "code",
      "execution_count": null,
      "metadata": {
        "colab": {
          "base_uri": "https://localhost:8080/"
        },
        "execution": {
          "iopub.execute_input": "2024-02-07T15:34:36.938024Z",
          "iopub.status.busy": "2024-02-07T15:34:36.937721Z",
          "iopub.status.idle": "2024-02-07T15:34:48.692417Z",
          "shell.execute_reply": "2024-02-07T15:34:48.691439Z",
          "shell.execute_reply.started": "2024-02-07T15:34:36.938000Z"
        },
        "id": "H3owjVGGh-TS",
        "outputId": "90cd30e9-07c9-44ca-f21d-e254cbe6e9af"
      },
      "outputs": [
        {
          "output_type": "stream",
          "name": "stdout",
          "text": [
            "Epoch: 1/1 loss = 5.287929\n",
            "Epoch: 2/1 loss = 5.311439\n",
            "Epoch: 1/2 loss = 5.269698\n",
            "Epoch: 2/2 loss = 5.221197\n",
            "Epoch: 1/3 loss = 5.091483\n",
            "Epoch: 2/3 loss = 4.971140\n",
            "Epoch: 1/4 loss = 4.875039\n",
            "Epoch: 2/4 loss = 4.724355\n",
            "Epoch: 1/5 loss = 4.603537\n",
            "Epoch: 2/5 loss = 4.648115\n",
            "Epoch: 1/6 loss = 4.632385\n",
            "Epoch: 2/6 loss = 4.540625\n",
            "Epoch: 1/7 loss = 4.617230\n",
            "Epoch: 2/7 loss = 4.416563\n",
            "Epoch: 1/8 loss = 4.468247\n",
            "Epoch: 2/8 loss = 4.396354\n",
            "Epoch: 1/9 loss = 4.325214\n",
            "Epoch: 2/9 loss = 4.272070\n",
            "Epoch: 1/10 loss = 4.106295\n",
            "Epoch: 2/10 loss = 4.223099\n",
            "Epoch: 1/11 loss = 4.048274\n",
            "Epoch: 2/11 loss = 4.176879\n",
            "Epoch: 1/12 loss = 4.253008\n",
            "Epoch: 2/12 loss = 4.038174\n",
            "Epoch: 1/13 loss = 4.061224\n",
            "Epoch: 2/13 loss = 4.140215\n",
            "Epoch: 1/14 loss = 3.923703\n",
            "Epoch: 2/14 loss = 4.102123\n",
            "Epoch: 1/15 loss = 4.010431\n",
            "Epoch: 2/15 loss = 3.888305\n",
            "Epoch: 1/16 loss = 3.996034\n",
            "Epoch: 2/16 loss = 3.572001\n",
            "Epoch: 1/17 loss = 3.788305\n",
            "Epoch: 2/17 loss = 3.476843\n",
            "Epoch: 1/18 loss = 3.626752\n",
            "Epoch: 2/18 loss = 3.450371\n",
            "Epoch: 1/19 loss = 3.259271\n",
            "Epoch: 2/19 loss = 3.525586\n",
            "Epoch: 1/20 loss = 3.184514\n",
            "Epoch: 2/20 loss = 3.315380\n",
            "Epoch: 1/21 loss = 3.204475\n",
            "Epoch: 2/21 loss = 3.051541\n",
            "Epoch: 1/22 loss = 2.770556\n",
            "Epoch: 2/22 loss = 3.142549\n",
            "Epoch: 1/23 loss = 2.992424\n",
            "Epoch: 2/23 loss = 2.556006\n",
            "Epoch: 1/24 loss = 2.799628\n",
            "Epoch: 2/24 loss = 2.494216\n",
            "Epoch: 1/25 loss = 2.573174\n",
            "Epoch: 2/25 loss = 2.489640\n",
            "Epoch: 1/26 loss = 2.568467\n",
            "Epoch: 2/26 loss = 2.206557\n",
            "Epoch: 1/27 loss = 2.247065\n",
            "Epoch: 2/27 loss = 2.220347\n",
            "Epoch: 1/28 loss = 2.101354\n",
            "Epoch: 2/28 loss = 2.117148\n",
            "Epoch: 1/29 loss = 1.886189\n",
            "Epoch: 2/29 loss = 2.059917\n",
            "Epoch: 1/30 loss = 1.845963\n",
            "Epoch: 2/30 loss = 1.808671\n",
            "Epoch: 1/31 loss = 1.640157\n",
            "Epoch: 2/31 loss = 1.772881\n",
            "Epoch: 1/32 loss = 1.456914\n",
            "Epoch: 2/32 loss = 1.630389\n",
            "Epoch: 1/33 loss = 1.648644\n",
            "Epoch: 2/33 loss = 1.219104\n",
            "Epoch: 1/34 loss = 1.518416\n",
            "Epoch: 2/34 loss = 1.245993\n",
            "Epoch: 1/35 loss = 1.187993\n",
            "Epoch: 2/35 loss = 1.340905\n",
            "Epoch: 1/36 loss = 1.176254\n",
            "Epoch: 2/36 loss = 1.143967\n",
            "Epoch: 1/37 loss = 1.191800\n",
            "Epoch: 2/37 loss = 1.022474\n",
            "Epoch: 1/38 loss = 1.088858\n",
            "Epoch: 2/38 loss = 0.804135\n",
            "Epoch: 1/39 loss = 0.937076\n",
            "Epoch: 2/39 loss = 0.855595\n",
            "Epoch: 1/40 loss = 0.896591\n",
            "Epoch: 2/40 loss = 0.824058\n",
            "Epoch: 1/41 loss = 0.784449\n",
            "Epoch: 2/41 loss = 0.779253\n",
            "Epoch: 1/42 loss = 0.661985\n",
            "Epoch: 2/42 loss = 0.729432\n",
            "Epoch: 1/43 loss = 0.687736\n",
            "Epoch: 2/43 loss = 0.533219\n",
            "Epoch: 1/44 loss = 0.522538\n",
            "Epoch: 2/44 loss = 0.603397\n",
            "Epoch: 1/45 loss = 0.489567\n",
            "Epoch: 2/45 loss = 0.555553\n",
            "Epoch: 1/46 loss = 0.472481\n",
            "Epoch: 2/46 loss = 0.501816\n",
            "Epoch: 1/47 loss = 0.474101\n",
            "Epoch: 2/47 loss = 0.461981\n",
            "Epoch: 1/48 loss = 0.431965\n",
            "Epoch: 2/48 loss = 0.425920\n",
            "Epoch: 1/49 loss = 0.360771\n",
            "Epoch: 2/49 loss = 0.440516\n",
            "Epoch: 1/50 loss = 0.353846\n",
            "Epoch: 2/50 loss = 0.361045\n",
            "Epoch: 1/51 loss = 0.322202\n",
            "Epoch: 2/51 loss = 0.346188\n",
            "Epoch: 1/52 loss = 0.329961\n",
            "Epoch: 2/52 loss = 0.269555\n",
            "Epoch: 1/53 loss = 0.316618\n",
            "Epoch: 2/53 loss = 0.235680\n",
            "Epoch: 1/54 loss = 0.276313\n",
            "Epoch: 2/54 loss = 0.236808\n",
            "Epoch: 1/55 loss = 0.256006\n",
            "Epoch: 2/55 loss = 0.285598\n",
            "Epoch: 1/56 loss = 0.254297\n",
            "Epoch: 2/56 loss = 0.250445\n",
            "Epoch: 1/57 loss = 0.260586\n",
            "Epoch: 2/57 loss = 0.194334\n",
            "Epoch: 1/58 loss = 0.208097\n",
            "Epoch: 2/58 loss = 0.194574\n",
            "Epoch: 1/59 loss = 0.206853\n",
            "Epoch: 2/59 loss = 0.175436\n",
            "Epoch: 1/60 loss = 0.192244\n",
            "Epoch: 2/60 loss = 0.142999\n",
            "Epoch: 1/61 loss = 0.197726\n",
            "Epoch: 2/61 loss = 0.128614\n",
            "Epoch: 1/62 loss = 0.131353\n",
            "Epoch: 2/62 loss = 0.162500\n",
            "Epoch: 1/63 loss = 0.157177\n",
            "Epoch: 2/63 loss = 0.128365\n",
            "Epoch: 1/64 loss = 0.134771\n",
            "Epoch: 2/64 loss = 0.119200\n",
            "Epoch: 1/65 loss = 0.146782\n",
            "Epoch: 2/65 loss = 0.128344\n",
            "Epoch: 1/66 loss = 0.144906\n",
            "Epoch: 2/66 loss = 0.114640\n",
            "Epoch: 1/67 loss = 0.124875\n",
            "Epoch: 2/67 loss = 0.120901\n",
            "Epoch: 1/68 loss = 0.128059\n",
            "Epoch: 2/68 loss = 0.103824\n",
            "Epoch: 1/69 loss = 0.104504\n",
            "Epoch: 2/69 loss = 0.123268\n",
            "Epoch: 1/70 loss = 0.079715\n",
            "Epoch: 2/70 loss = 0.120156\n",
            "Epoch: 1/71 loss = 0.099544\n",
            "Epoch: 2/71 loss = 0.096966\n",
            "Epoch: 1/72 loss = 0.099707\n",
            "Epoch: 2/72 loss = 0.084047\n",
            "Epoch: 1/73 loss = 0.110094\n",
            "Epoch: 2/73 loss = 0.074824\n",
            "Epoch: 1/74 loss = 0.072290\n",
            "Epoch: 2/74 loss = 0.092359\n",
            "Epoch: 1/75 loss = 0.114285\n",
            "Epoch: 2/75 loss = 0.058999\n",
            "Epoch: 1/76 loss = 0.092696\n",
            "Epoch: 2/76 loss = 0.060570\n",
            "Epoch: 1/77 loss = 0.069796\n",
            "Epoch: 2/77 loss = 0.067762\n",
            "Epoch: 1/78 loss = 0.060657\n",
            "Epoch: 2/78 loss = 0.064434\n",
            "Epoch: 1/79 loss = 0.043216\n",
            "Epoch: 2/79 loss = 0.078731\n",
            "Epoch: 1/80 loss = 0.066734\n",
            "Epoch: 2/80 loss = 0.051932\n",
            "Epoch: 1/81 loss = 0.055470\n",
            "Epoch: 2/81 loss = 0.052142\n",
            "Epoch: 1/82 loss = 0.057437\n",
            "Epoch: 2/82 loss = 0.056823\n",
            "Epoch: 1/83 loss = 0.043306\n",
            "Epoch: 2/83 loss = 0.070773\n",
            "Epoch: 1/84 loss = 0.044780\n",
            "Epoch: 2/84 loss = 0.051216\n",
            "Epoch: 1/85 loss = 0.070910\n",
            "Epoch: 2/85 loss = 0.036528\n",
            "Epoch: 1/86 loss = 0.058736\n",
            "Epoch: 2/86 loss = 0.032676\n",
            "Epoch: 1/87 loss = 0.048161\n",
            "Epoch: 2/87 loss = 0.039298\n",
            "Epoch: 1/88 loss = 0.044150\n",
            "Epoch: 2/88 loss = 0.045202\n",
            "Epoch: 1/89 loss = 0.050738\n",
            "Epoch: 2/89 loss = 0.037626\n",
            "Epoch: 1/90 loss = 0.038353\n",
            "Epoch: 2/90 loss = 0.035622\n",
            "Epoch: 1/91 loss = 0.044055\n",
            "Epoch: 2/91 loss = 0.033469\n",
            "Epoch: 1/92 loss = 0.032956\n",
            "Epoch: 2/92 loss = 0.049349\n",
            "Epoch: 1/93 loss = 0.029021\n",
            "Epoch: 2/93 loss = 0.042390\n",
            "Epoch: 1/94 loss = 0.052200\n",
            "Epoch: 2/94 loss = 0.028652\n",
            "Epoch: 1/95 loss = 0.024939\n",
            "Epoch: 2/95 loss = 0.033353\n",
            "Epoch: 1/96 loss = 0.036572\n",
            "Epoch: 2/96 loss = 0.049452\n",
            "Epoch: 1/97 loss = 0.029343\n",
            "Epoch: 2/97 loss = 0.036125\n",
            "Epoch: 1/98 loss = 0.030349\n",
            "Epoch: 2/98 loss = 0.026917\n",
            "Epoch: 1/99 loss = 0.022779\n",
            "Epoch: 2/99 loss = 0.037383\n",
            "Epoch: 1/100 loss = 0.033631\n",
            "Epoch: 2/100 loss = 0.024829\n"
          ]
        }
      ],
      "source": [
        "history_loss = []\n",
        "for epoch in range(epochs):\n",
        "    for i, [enc_inputs, dec_inputs, dec_outputs] in enumerate(loader):\n",
        "        enc_inputs =  enc_inputs.to(device)\n",
        "        dec_inputs =  dec_inputs.to(device)\n",
        "        dec_outputs = dec_outputs.to(device)\n",
        "        outputs = model(enc_inputs, dec_inputs)\n",
        "        loss = criterion(outputs, dec_outputs.view(-1))\n",
        "\n",
        "        print('Epoch:', '%d/%d' % (i+1, epoch+1), 'loss =', '{:.6f}'.format(loss))\n",
        "        history_loss.append(loss.item())\n",
        "\n",
        "        optimizer.zero_grad()\n",
        "        loss.backward()\n",
        "        optimizer.step()"
      ]
    },
    {
      "cell_type": "markdown",
      "metadata": {
        "id": "qKBRspyrDrgG"
      },
      "source": [
        "### Visualize the train losses"
      ]
    },
    {
      "cell_type": "code",
      "execution_count": null,
      "metadata": {
        "colab": {
          "base_uri": "https://localhost:8080/",
          "height": 564
        },
        "execution": {
          "iopub.execute_input": "2024-02-07T15:34:48.694683Z",
          "iopub.status.busy": "2024-02-07T15:34:48.693769Z",
          "iopub.status.idle": "2024-02-07T15:34:49.519319Z",
          "shell.execute_reply": "2024-02-07T15:34:49.518483Z",
          "shell.execute_reply.started": "2024-02-07T15:34:48.694651Z"
        },
        "id": "wUnc4Qq0gQc8",
        "outputId": "e022131b-f9dc-43b0-f893-8d98924040f9"
      },
      "outputs": [
        {
          "output_type": "display_data",
          "data": {
            "text/plain": [
              "<Figure size 800x600 with 1 Axes>"
            ],
            "image/png": "[encoded data removed]"
          },
          "metadata": {}
        }
      ],
      "source": [
        "import matplotlib.pyplot as plt\n",
        "plt.figure(figsize=(8, 6))\n",
        "plt.title(\"Loss During Training\")\n",
        "plt.plot(history_loss, label=\"Train Loss\", c='k', lw=2)\n",
        "plt.xlabel(\"iterations\")\n",
        "plt.ylabel(\"Loss\")\n",
        "plt.legend()\n",
        "plt.savefig(\"Training.svg\", format=\"svg\", dpi=150, transparent=True, bbox_inches='tight')\n",
        "plt.show()"
      ]
    },
    {
      "cell_type": "markdown",
      "metadata": {
        "id": "qYE6AmJKiFbO"
      },
      "source": [
        "## 3.13\tInference"
      ]
    },
    {
      "cell_type": "code",
      "execution_count": null,
      "metadata": {
        "execution": {
          "iopub.execute_input": "2024-02-07T15:34:49.521350Z",
          "iopub.status.busy": "2024-02-07T15:34:49.520543Z",
          "iopub.status.idle": "2024-02-07T15:34:49.528747Z",
          "shell.execute_reply": "2024-02-07T15:34:49.527950Z",
          "shell.execute_reply.started": "2024-02-07T15:34:49.521323Z"
        },
        "id": "1E5HTj2DexJq",
        "tags": []
      },
      "outputs": [],
      "source": [
        "def Greedy(logits):\n",
        "    return torch.argmax(logits, dim=-1, keepdim=False)\n",
        "\n",
        "def RandomSampling(logits, k=5):\n",
        "    top_k_probs, _ = torch.topk(logits, k, dim=-1)\n",
        "    kth_highest_prob = top_k_probs[:, -1].unsqueeze(-1)\n",
        "    mask = logits < kth_highest_prob\n",
        "    probs = logits.masked_fill(mask, 0)\n",
        "    return torch.multinomial(probs, num_samples=1).squeeze(-1)\n",
        "\n",
        "def Inference(model, enc_input, start_token, end_token, max_len=32, topk=None):\n",
        "    enc_outputs = model.encoder(enc_input)\n",
        "    dec_input = torch.zeros(1, 0).type_as(enc_input.data)\n",
        "    next_token = start_token\n",
        "    cnt = 0\n",
        "    while next_token != end_token and cnt < max_len:\n",
        "        dec_input = torch.cat([dec_input.to(device),\n",
        "                               torch.tensor([[next_token]], dtype=enc_input.dtype).to(device)], -1)\n",
        "        dec_outputs = model.decoder(dec_input, enc_input, enc_outputs)\n",
        "        projected = model.projection(dec_outputs)\n",
        "        projected = model.softmax(projected)\n",
        "        if topk == None:\n",
        "          prob = Greedy(projected.squeeze(0))\n",
        "        else:\n",
        "          prob = RandomSampling(projected.squeeze(0), topk)\n",
        "        next_word = prob.data[-1]\n",
        "        next_token = next_word\n",
        "        cnt += 1\n",
        "    return prob\n"
      ]
    },
    {
      "cell_type": "code",
      "execution_count": null,
      "metadata": {
        "colab": {
          "base_uri": "https://localhost:8080/"
        },
        "execution": {
          "iopub.execute_input": "2024-02-07T15:34:49.530069Z",
          "iopub.status.busy": "2024-02-07T15:34:49.529772Z",
          "iopub.status.idle": "2024-02-07T15:34:51.925457Z",
          "shell.execute_reply": "2024-02-07T15:34:51.924397Z",
          "shell.execute_reply.started": "2024-02-07T15:34:49.530050Z"
        },
        "id": "piRD2M7gbFFI",
        "outputId": "bc0cb590-9536-40dc-844b-a4f722dae055",
        "tags": []
      },
      "outputs": [
        {
          "output_type": "stream",
          "name": "stdout",
          "text": [
            "Where turtles lay eggs? -> Holes dug into mud or sand. \n",
            "How Isabelline penguins different? -> Because they are born with brown rather than black plumage. \n",
            "How do otters keep warm? -> A layer of air trapped in their fur. \n",
            "How similar between the beetles and the grasshoppers? -> Beetles have mouthparts mouthparts that are similar to those of the grasshoppers. \n",
            "Can infrared photography seen polar bears? -> Polar bears are nearly invisible under infrared photography. \n",
            "How long do penguins on land? -> They spend half of their life on land. \n",
            "DNA evidence and fossil tell us What? -> The polar bear diverged from the brown bear roughly 200 thousand years ago. \n",
            "What years do turtles breed? -> Every few years or more. \n",
            "are cougar males heavier than females? -> On average the cougar males are heavier than the females. \n",
            "Beetles eat What? -> They often feed on plants and fungi, break down animal and plant debris, and eat other invertebrates. \n",
            "How similar between beetles and grasshoppers? -> Beetles have mouthparts similar to those of grasshoppers. \n",
            "How do elephants communicate over distances? -> By producing and receiving low-frequency sound or infrasound. \n",
            "What do penguins agile in water? -> Smooth plumage preserves a layer of air, ensuring buoyancy, wings are flippers. \n",
            "What sections do beetles have? -> They often feed on plants and fungi, break down animal and plant debris, and eat other invertebrates. \n",
            "What animal larger than elephant? -> None, the elephant is the largest land animal in the world. \n",
            "What elephants weight at birth? -> At birth it is common for an elephant calf to weigh 120 kilograms or 265 lb. \n"
          ]
        }
      ],
      "source": [
        "evaluation = [\n",
        "  ['How similar between the beetles and the grasshoppers?', ''],\n",
        "  ['What animal larger than elephant?', ''],\n",
        "  ['What years do turtles breed?',  ''],\n",
        "  ['Where turtles lay eggs?', ''],\n",
        "  ['How do otters keep warm?', ''],\n",
        "  ['How long do penguins on land?', ''],\n",
        "  ['What sections do beetles have?', ''],\n",
        "  ['Can infrared photography seen polar bears?', ''],\n",
        "  ['DNA evidence and fossil tell us What?', ''],\n",
        "  ['are cougar males heavier than females?', ''],\n",
        "  ['How Isabelline penguins different?', ''],\n",
        "  ['Beetles eat What?', ''],\n",
        "  ['How similar between beetles and grasshoppers?', ''],\n",
        "  ['What elephants weight at birth?', ''],\n",
        "  ['How do elephants communicate over distances?', ''],\n",
        "  ['What do penguins agile in water?', ''],\n",
        "]\n",
        "\n",
        "evl_enc_inputs, _, _ = make_data(evaluation)\n",
        "evl_loader = Data.DataLoader(DataSet([evl_enc_inputs]), 16, True)\n",
        "[evl_enc_inputs] = next(iter(evl_loader))\n",
        "\n",
        "for i in range(len(evl_enc_inputs)):\n",
        "    predict = Inference(model,\n",
        "                        evl_enc_inputs[i].view(1, -1).to(device),\n",
        "                        start_token=tokenizer.encode_word(\"<SOS>\"),\n",
        "                        end_token=tokenizer.encode_word(\"<EOS>\"),\n",
        "                        topk=None)\n",
        "    q = evl_enc_inputs[i].tolist()\n",
        "    q = [x for x in q if x != tokenizer.encode_word(\"<PAD>\")]\n",
        "    question = tokenizer.decode_text(q)\n",
        "    answer = tokenizer.decode_text(predict.tolist())\n",
        "    question = question.replace(\" ?\", \"?\")\n",
        "    answer = answer.replace(\" .\", \".\").replace(\"<EOS>\", \"\")\n",
        "    print(question, '->', answer)"
      ]
    },
    {
      "cell_type": "markdown",
      "metadata": {
        "id": "UvV7q0mcreU9"
      },
      "source": [
        "## References:\n",
        "\n",
        "1.   *https://nlp.seas.harvard.edu/annotated-transformer/*\n",
        "1.   *https://github.com/jadore801120/attention-is-all-you-need-pytorch*\n",
        "2.   *https://github.com/JayParks/transformer*\n",
        "3.   *https://www.freecodecamp.org/news/how-to-build-a-large-language-model-from-scratch-using-python/*\n",
        "4.   *https://mdnice.com/writing/fc0b920d4ca84837a5712df1a46865d2*"
      ]
    }
  ],
  "metadata": {
    "accelerator": "GPU",
    "colab": {
      "gpuType": "T4",
      "provenance": [],
      "include_colab_link": true
    },
    "kernelspec": {
      "display_name": "saturn (Python 3)",
      "language": "python",
      "name": "python3"
    },
    "language_info": {
      "codemirror_mode": {
        "name": "ipython",
        "version": 3
      },
      "file_extension": ".py",
      "mimetype": "text/x-python",
      "name": "python",
      "nbconvert_exporter": "python",
      "pygments_lexer": "ipython3",
      "version": "3.9.15"
    }
  },
  "nbformat": 4,
  "nbformat_minor": 0
}