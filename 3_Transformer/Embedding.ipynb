{
  "nbformat": 4,
  "nbformat_minor": 0,
  "metadata": {
    "colab": {
      "provenance": [],
      "authorship_tag": "ABX9TyNsGDSWjasDzMO8VxRuuWzq",
      "include_colab_link": true
    },
    "kernelspec": {
      "name": "python3",
      "display_name": "Python 3"
    },
    "language_info": {
      "name": "python"
    }
  },
  "cells": [
    {
      "cell_type": "markdown",
      "metadata": {
        "id": "view-in-github",
        "colab_type": "text"
      },
      "source": [
        "<a href=\"https://colab.research.google.com/github/jchen8000/DemystifyingLLMs/blob/main/3_Transformer/Embedding.ipynb\" target=\"_parent\"><img src=\"https://colab.research.google.com/assets/colab-badge.svg\" alt=\"Open In Colab\"/></a>"
      ]
    },
    {
      "cell_type": "markdown",
      "source": [
        "# 3.2 Embedding"
      ],
      "metadata": {
        "id": "sMbmuEMeipPF"
      }
    },
    {
      "cell_type": "code",
      "source": [
        "import torch\n",
        "import torch.nn as nn\n",
        "\n",
        "vocab_size = 10000\n",
        "embed_dim = 512\n",
        "embedding = nn.Embedding(vocab_size, embed_dim)\n",
        "sequence = torch.LongTensor([15, 236, 21, 1281])\n",
        "embedded = embedding(sequence)\n",
        "print(embedded.size())\n",
        "print(embedded)\n"
      ],
      "metadata": {
        "colab": {
          "base_uri": "https://localhost:8080/"
        },
        "id": "UabQQDRttBSM",
        "outputId": "7ffbb966-71a0-4c51-e185-c3de8edf8e28"
      },
      "execution_count": 1,
      "outputs": [
        {
          "output_type": "stream",
          "name": "stdout",
          "text": [
            "torch.Size([4, 512])\n",
            "tensor([[-0.2716,  1.5815,  0.4259,  ..., -0.1273,  0.1381,  1.0240],\n",
            "        [-0.7515, -2.3710, -2.0227,  ...,  0.1216,  0.7332,  1.5626],\n",
            "        [ 1.8179, -2.1094, -0.8192,  ...,  0.6029,  0.5628,  1.5458],\n",
            "        [ 0.2772, -0.9236, -1.4062,  ..., -0.1270, -1.0789, -0.2516]],\n",
            "       grad_fn=<EmbeddingBackward0>)\n"
          ]
        }
      ]
    },
    {
      "cell_type": "code",
      "source": [
        "parameters = sum(p.numel() \\\n",
        "                for p in embedding.parameters())\n",
        "print(f\"Total Parameters: {parameters:,}\")\n"
      ],
      "metadata": {
        "colab": {
          "base_uri": "https://localhost:8080/"
        },
        "id": "Wr1yapejtcXz",
        "outputId": "c00c0f3c-7705-486d-c396-12d3e37449ab"
      },
      "execution_count": 2,
      "outputs": [
        {
          "output_type": "stream",
          "name": "stdout",
          "text": [
            "Total Parameters: 5,120,000\n"
          ]
        }
      ]
    }
  ]
}