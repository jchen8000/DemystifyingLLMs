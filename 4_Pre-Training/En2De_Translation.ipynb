{
  "cells": [
    {
      "cell_type": "markdown",
      "metadata": {
        "id": "view-in-github",
        "colab_type": "text"
      },
      "source": [
        "<a href=\"https://colab.research.google.com/github/jchen8000/DemystifyingLLMs/blob/main/4_Pre-Training/En2De_Translation.ipynb\" target=\"_parent\"><img src=\"https://colab.research.google.com/assets/colab-badge.svg\" alt=\"Open In Colab\"/></a>"
      ]
    },
    {
      "cell_type": "markdown",
      "metadata": {
        "id": "zqjtjHPgtaRA"
      },
      "source": [
        "# 4. Pre-Training\n",
        "\n",
        "**Machine Translation: English to German**\n",
        "\n",
        "*   4.01 Install and Import Libraries\n",
        "*   4.02 Global Parameters\n",
        "*   4.2 Dataset and Tokenization\n",
        "*   4.3 Load Data in Batch\n",
        "*   4.4 Pre-Training nn.Transformer Model\n",
        "*   4.5 Inference\n",
        "*   4.11 Evaluation\n",
        "\n",
        "\n",
        "This script is tested and working on Google Colab GPU T4 with below packages\n",
        "\n",
        "* torch==2.1.0+cu121\n",
        "* torchvision==0.16.0+cu121\n",
        "* torchaudio==2.1.0+cu121\n",
        "* datasets==2.18.0\n",
        "* spacy==3.7.4\n",
        "* nltk==3.8.1\n"
      ]
    },
    {
      "cell_type": "markdown",
      "metadata": {
        "id": "1m60biwItkZ3"
      },
      "source": [
        "## 4.01 Install and Import Libraries\n",
        "\n",
        "Make sure a folder named \"outputs\" exist before running.\n"
      ]
    },
    {
      "cell_type": "code",
      "execution_count": null,
      "metadata": {
        "colab": {
          "base_uri": "https://localhost:8080/"
        },
        "execution": {
          "iopub.execute_input": "2024-03-12T12:50:01.015106Z",
          "iopub.status.busy": "2024-03-12T12:50:01.014832Z",
          "iopub.status.idle": "2024-03-12T12:50:27.773060Z",
          "shell.execute_reply": "2024-03-12T12:50:27.772372Z",
          "shell.execute_reply.started": "2024-03-12T12:50:01.015084Z"
        },
        "id": "BvpcknmzNbm9",
        "outputId": "64c6342e-cf57-4ae1-a4c6-35d74058213b",
        "tags": []
      },
      "outputs": [
        {
          "output_type": "stream",
          "name": "stdout",
          "text": [
            "\u001b[2K     \u001b[90m━━━━━━━━━━━━━━━━━━━━━━━━━━━━━━━━━━━━━━━━\u001b[0m \u001b[32m510.5/510.5 kB\u001b[0m \u001b[31m3.9 MB/s\u001b[0m eta \u001b[36m0:00:00\u001b[0m\n",
            "\u001b[2K     \u001b[90m━━━━━━━━━━━━━━━━━━━━━━━━━━━━━━━━━━━━━━━━\u001b[0m \u001b[32m116.3/116.3 kB\u001b[0m \u001b[31m6.1 MB/s\u001b[0m eta \u001b[36m0:00:00\u001b[0m\n",
            "\u001b[2K     \u001b[90m━━━━━━━━━━━━━━━━━━━━━━━━━━━━━━━━━━━━━━━━\u001b[0m \u001b[32m194.1/194.1 kB\u001b[0m \u001b[31m10.4 MB/s\u001b[0m eta \u001b[36m0:00:00\u001b[0m\n",
            "\u001b[2K     \u001b[90m━━━━━━━━━━━━━━━━━━━━━━━━━━━━━━━━━━━━━━━━\u001b[0m \u001b[32m134.8/134.8 kB\u001b[0m \u001b[31m9.8 MB/s\u001b[0m eta \u001b[36m0:00:00\u001b[0m\n",
            "\u001b[2K     \u001b[90m━━━━━━━━━━━━━━━━━━━━━━━━━━━━━━━━━━━━━━━━\u001b[0m \u001b[32m12.8/12.8 MB\u001b[0m \u001b[31m27.9 MB/s\u001b[0m eta \u001b[36m0:00:00\u001b[0m\n",
            "\u001b[?25h\u001b[38;5;2m✔ Download and installation successful\u001b[0m\n",
            "You can now load the package via spacy.load('en_core_web_sm')\n",
            "\u001b[38;5;3m⚠ Restart to reload dependencies\u001b[0m\n",
            "If you are in a Jupyter or Colab notebook, you may need to restart Python in\n",
            "order to load all the package's dependencies. You can do this by selecting the\n",
            "'Restart kernel' or 'Restart runtime' option.\n",
            "\u001b[2K     \u001b[90m━━━━━━━━━━━━━━━━━━━━━━━━━━━━━━━━━━━━━━━━\u001b[0m \u001b[32m14.6/14.6 MB\u001b[0m \u001b[31m30.1 MB/s\u001b[0m eta \u001b[36m0:00:00\u001b[0m\n",
            "\u001b[?25h\u001b[38;5;2m✔ Download and installation successful\u001b[0m\n",
            "You can now load the package via spacy.load('de_core_news_sm')\n",
            "\u001b[38;5;3m⚠ Restart to reload dependencies\u001b[0m\n",
            "If you are in a Jupyter or Colab notebook, you may need to restart Python in\n",
            "order to load all the package's dependencies. You can do this by selecting the\n",
            "'Restart kernel' or 'Restart runtime' option.\n"
          ]
        }
      ],
      "source": [
        "!pip install torch torchvision torchaudio  --quiet\n",
        "!pip install datasets  --quiet\n",
        "!pip install spacy  --quiet\n",
        "!pip install nltk --quiet\n",
        "!python -m spacy download en_core_web_sm  --quiet\n",
        "!python -m spacy download de_core_news_sm  --quiet"
      ]
    },
    {
      "cell_type": "code",
      "execution_count": null,
      "metadata": {
        "execution": {
          "iopub.execute_input": "2024-03-12T12:50:27.774855Z",
          "iopub.status.busy": "2024-03-12T12:50:27.774525Z",
          "iopub.status.idle": "2024-03-12T12:50:31.711120Z",
          "shell.execute_reply": "2024-03-12T12:50:31.710525Z",
          "shell.execute_reply.started": "2024-03-12T12:50:27.774819Z"
        },
        "id": "wrQUoFZ9lnhD",
        "tags": []
      },
      "outputs": [],
      "source": [
        "import torch\n",
        "from torch import nn, optim\n",
        "from torch.nn.utils.rnn import pad_sequence\n",
        "from torch.utils.data import DataLoader, Dataset\n",
        "from datasets import load_dataset\n",
        "import spacy\n",
        "import random\n",
        "import time\n",
        "import math\n",
        "import matplotlib.pyplot as plt"
      ]
    },
    {
      "cell_type": "markdown",
      "metadata": {
        "id": "Mow92ThUtuC3"
      },
      "source": [
        "## 4.02 Global Parameters"
      ]
    },
    {
      "cell_type": "code",
      "execution_count": null,
      "metadata": {
        "execution": {
          "iopub.execute_input": "2024-03-12T12:50:31.712464Z",
          "iopub.status.busy": "2024-03-12T12:50:31.712002Z",
          "iopub.status.idle": "2024-03-12T12:50:31.717788Z",
          "shell.execute_reply": "2024-03-12T12:50:31.716934Z",
          "shell.execute_reply.started": "2024-03-12T12:50:31.712440Z"
        },
        "id": "7QG2lwdNr5rT",
        "tags": []
      },
      "outputs": [],
      "source": [
        "device = 'cuda:0' if torch.cuda.is_available() else 'cpu'\n",
        "epochs = 100\n",
        "torch.manual_seed(8888)\n",
        "batch_size = 128\n",
        "learning_rate=1e-3\n",
        "\n",
        "PAD_IDX = 0\n",
        "SOS_IDX = 1\n",
        "EOS_IDX = 2\n",
        "D_MODEL = 256\n",
        "NHEAD = 4\n",
        "NENC_LAYER = 3\n",
        "NDEC_LAYER = 3\n",
        "FFN_DIM = 256\n",
        "DROPOUT = 0.25\n",
        "MAX_LENGTH = 256\n",
        "MODEL_PATH = 'outputs/en2de_checkpoint_100epochs.pth'"
      ]
    },
    {
      "cell_type": "markdown",
      "metadata": {
        "id": "v7fB3fuWpGCz"
      },
      "source": [
        "## 4.2 Dataset and Tokenization"
      ]
    },
    {
      "cell_type": "code",
      "execution_count": null,
      "metadata": {
        "execution": {
          "iopub.execute_input": "2024-03-12T12:50:31.719136Z",
          "iopub.status.busy": "2024-03-12T12:50:31.718940Z",
          "iopub.status.idle": "2024-03-12T12:50:34.696389Z",
          "shell.execute_reply": "2024-03-12T12:50:34.695665Z",
          "shell.execute_reply.started": "2024-03-12T12:50:31.719118Z"
        },
        "id": "UoJOObh7lt79",
        "tags": []
      },
      "outputs": [],
      "source": [
        "# Load spacy models for tokenization\n",
        "spacy_de = spacy.load(\"de_core_news_sm\")\n",
        "spacy_en = spacy.load(\"en_core_web_sm\")\n",
        "\n",
        "# Tokenization functions\n",
        "def tokenize_de(text):\n",
        "    return [tok.text for tok in spacy_de.tokenizer(text)]\n",
        "\n",
        "def tokenize_en(text):\n",
        "    return [tok.text for tok in spacy_en.tokenizer(text)]\n",
        "\n",
        "# Load the dataset\n",
        "dataset = load_dataset(\"bentrevett/multi30k\")\n"
      ]
    },
    {
      "cell_type": "code",
      "execution_count": null,
      "metadata": {
        "colab": {
          "base_uri": "https://localhost:8080/"
        },
        "execution": {
          "iopub.execute_input": "2024-03-12T12:50:34.698405Z",
          "iopub.status.busy": "2024-03-12T12:50:34.698109Z",
          "iopub.status.idle": "2024-03-12T12:50:37.558479Z",
          "shell.execute_reply": "2024-03-12T12:50:37.557795Z",
          "shell.execute_reply.started": "2024-03-12T12:50:34.698382Z"
        },
        "id": "53zTGRJ-UunH",
        "outputId": "46e614a6-a977-41cf-f26a-3805d7c33f0f"
      },
      "outputs": [
        {
          "name": "stdout",
          "output_type": "stream",
          "text": [
            "EN vocab: 11158, max_length: 205\n",
            "DE vocab: 19953, max_length: 254\n"
          ]
        }
      ],
      "source": [
        "# Build vocabularies\n",
        "def build_vocab(texts, tokenizer):\n",
        "    vocabs = []\n",
        "    max_length = 0\n",
        "    for text in texts:\n",
        "        vocabs.extend(tokenizer(text))\n",
        "        if len(text) > max_length:\n",
        "          max_length = len(text)\n",
        "    return sorted(list(set(vocabs))), max_length\n",
        "\n",
        "# Special tokens\n",
        "PAD_TOKEN = \"<PAD>\"  # Padding token\n",
        "SOS_TOKEN = \"<SOS>\"  # Start-of-sentence token\n",
        "EOS_TOKEN = \"<EOS>\"  # End-of-sentence token\n",
        "UNK_TOKEN = \"<UNK>\"  # Unknown token\n",
        "\n",
        "# Add special tokens to the vocabularies\n",
        "en_vocab, en_max_len = build_vocab(dataset['train']['en'] + dataset['validation']['en'] + dataset['test']['en'], tokenize_en)\n",
        "en_vocab = [PAD_TOKEN, SOS_TOKEN, EOS_TOKEN, UNK_TOKEN] + en_vocab\n",
        "\n",
        "de_vocab, de_max_len = build_vocab(dataset['train']['de'] + dataset['validation']['de'] + dataset['test']['de'], tokenize_de)\n",
        "de_vocab = [PAD_TOKEN, SOS_TOKEN, EOS_TOKEN, UNK_TOKEN] + de_vocab\n",
        "\n",
        "SRC_VOCAB_SIZE = len(en_vocab)\n",
        "TRG_VOCAB_SIZE = len(de_vocab)\n",
        "\n",
        "print(\"EN vocab: %d, max_length: %d\" % (SRC_VOCAB_SIZE, en_max_len) )\n",
        "print(\"DE vocab: %d, max_length: %d\" % (TRG_VOCAB_SIZE, de_max_len) )"
      ]
    },
    {
      "cell_type": "code",
      "execution_count": null,
      "metadata": {
        "colab": {
          "base_uri": "https://localhost:8080/"
        },
        "execution": {
          "iopub.execute_input": "2024-03-12T12:50:37.559675Z",
          "iopub.status.busy": "2024-03-12T12:50:37.559421Z",
          "iopub.status.idle": "2024-03-12T12:50:37.592166Z",
          "shell.execute_reply": "2024-03-12T12:50:37.591512Z",
          "shell.execute_reply.started": "2024-03-12T12:50:37.559654Z"
        },
        "id": "2KHHCj5SyJqP",
        "outputId": "9e01f0f2-6e57-4011-e03a-14b445b905f9"
      },
      "outputs": [
        {
          "name": "stdout",
          "output_type": "stream",
          "text": [
            "Train size: 29000\n",
            "Validation size: 1014\n",
            "Test size: 1000\n"
          ]
        }
      ],
      "source": [
        "print(\"Train size:\", len(dataset['train']['en']))\n",
        "print(\"Validation size:\", len(dataset['validation']['en']))\n",
        "print(\"Test size:\", len(dataset['test']['en']))"
      ]
    },
    {
      "cell_type": "code",
      "execution_count": null,
      "metadata": {
        "execution": {
          "iopub.execute_input": "2024-03-12T12:50:37.593689Z",
          "iopub.status.busy": "2024-03-12T12:50:37.593262Z",
          "iopub.status.idle": "2024-03-12T12:50:37.614398Z",
          "shell.execute_reply": "2024-03-12T12:50:37.613630Z",
          "shell.execute_reply.started": "2024-03-12T12:50:37.593666Z"
        },
        "id": "3Bzf1BrSt693"
      },
      "outputs": [],
      "source": [
        "class VocabTokenizer(nn.Module):\n",
        "    def __init__(self, vocabulary):\n",
        "        super().__init__()\n",
        "        self.vocab_size = len(vocabulary)\n",
        "        self.idx2word = {index:word for index, word in enumerate(vocabulary)}\n",
        "        self.word2idx = {word:index for index, word in enumerate(vocabulary)}\n",
        "\n",
        "    def encode(self, text):\n",
        "        return [self.word2idx[w] for w in text]\n",
        "\n",
        "    def decode(self, token):\n",
        "        return [self.idx2word[i] for i in token]\n",
        "\n",
        "    def __call__(self, text, encode=True):\n",
        "        if encode:\n",
        "            return self.encode(text)\n",
        "        else:\n",
        "            return self.decode(text)\n",
        "\n",
        "\n",
        "vocab_tokenizers = {\n",
        "    'en': VocabTokenizer(en_vocab),\n",
        "    'de': VocabTokenizer(de_vocab),\n",
        "}"
      ]
    },
    {
      "cell_type": "markdown",
      "metadata": {
        "id": "EYDWrxQ1t-Vv"
      },
      "source": [
        "## 4.3 Load Data in Batch"
      ]
    },
    {
      "cell_type": "code",
      "execution_count": null,
      "metadata": {
        "execution": {
          "iopub.execute_input": "2024-03-12T12:50:37.615743Z",
          "iopub.status.busy": "2024-03-12T12:50:37.615314Z",
          "iopub.status.idle": "2024-03-12T12:50:37.624164Z",
          "shell.execute_reply": "2024-03-12T12:50:37.623471Z",
          "shell.execute_reply.started": "2024-03-12T12:50:37.615720Z"
        },
        "id": "0JUH_T1Drbgn"
      },
      "outputs": [],
      "source": [
        "class En2De_Dataset(Dataset):\n",
        "    def __init__(self, raw_dataset, src_tokenizer, trg_tokenizer, vocab_transforms):\n",
        "        self.raw_dataset = raw_dataset\n",
        "        self.src_tokenizer = src_tokenizer\n",
        "        self.trg_tokenizer = trg_tokenizer\n",
        "        self.vocab_transforms = vocab_transforms\n",
        "\n",
        "    def __len__(self):\n",
        "        return len(self.raw_dataset)\n",
        "\n",
        "    def __getitem__(self, idx):\n",
        "        src = self.src_tokenizer(self.raw_dataset[idx][\"en\"])\n",
        "        src = self.vocab_transforms[\"en\"](src)\n",
        "        tgt = self.trg_tokenizer(self.raw_dataset[idx][\"de\"])\n",
        "        tgt_in = self.vocab_transforms[\"de\"]([SOS_TOKEN] + tgt)\n",
        "        tgt_out = self.vocab_transforms[\"de\"](tgt + [EOS_TOKEN])\n",
        "        return src, tgt_in, tgt_out\n",
        "\n",
        "def padding(batch):\n",
        "    src = [torch.tensor(item[0]) for item in batch]\n",
        "    tgt_in = [torch.tensor(item[1]) for item in batch]\n",
        "    tgt_out = [torch.tensor(item[2]) for item in batch]\n",
        "    return  pad_sequence(src, padding_value=0, batch_first=True), \\\n",
        "            pad_sequence(tgt_in, padding_value=0, batch_first=True), \\\n",
        "            pad_sequence(tgt_out, padding_value=0, batch_first=True)\n",
        "\n",
        "# Create training and validation datasets\n",
        "train_data = En2De_Dataset(dataset['train'], tokenize_en, tokenize_de, vocab_tokenizers)\n",
        "val_data = En2De_Dataset(dataset['validation'], tokenize_en, tokenize_de, vocab_tokenizers)\n",
        "train_loader = DataLoader(train_data, batch_size=batch_size, collate_fn=padding, shuffle=True)\n",
        "val_loader = DataLoader(val_data, batch_size=batch_size, collate_fn=padding, shuffle=False)"
      ]
    },
    {
      "cell_type": "markdown",
      "metadata": {
        "id": "0UzbVmdSu8ON"
      },
      "source": [
        "## 4.4\tPre-Training nn.Transformer Model"
      ]
    },
    {
      "cell_type": "code",
      "execution_count": null,
      "metadata": {
        "execution": {
          "iopub.execute_input": "2024-03-12T12:50:37.625700Z",
          "iopub.status.busy": "2024-03-12T12:50:37.625307Z",
          "iopub.status.idle": "2024-03-12T12:50:40.596927Z",
          "shell.execute_reply": "2024-03-12T12:50:40.596107Z",
          "shell.execute_reply.started": "2024-03-12T12:50:37.625674Z"
        },
        "id": "Hc64mxasoVZ6",
        "tags": []
      },
      "outputs": [],
      "source": [
        "class PositionalEncoding(nn.Module):\n",
        "    def __init__(self, d_model, max_len=5000, dropout=DROPOUT):\n",
        "        super(PositionalEncoding, self).__init__()\n",
        "        self.dropout = nn.Dropout(p=dropout)\n",
        "        pe = torch.zeros(max_len, d_model)\n",
        "        position = torch.arange(0, max_len).unsqueeze(1).float()\n",
        "        div_term = torch.exp(torch.arange(0, d_model, 2).float() * (-math.log(10000.0) / d_model))\n",
        "        pe[:, 0::2] = torch.sin(position * div_term)\n",
        "        pe[:, 1::2] = torch.cos(position * div_term)\n",
        "        pe = pe.unsqueeze(0)\n",
        "        self.register_buffer('pe_table', pe)\n",
        "\n",
        "    def forward(self, x):\n",
        "        x = x + self.pe_table[:, :x.size(1), :]\n",
        "        return self.dropout(x)\n",
        "\n",
        "class TransformerModel(nn.Module):\n",
        "    def __init__(self, src_vocab_size, tgt_vocab_size, d_model, nhead, num_encoder_layers, num_decoder_layers, dim_feedforward, dropout=DROPOUT, max_seq_length=MAX_LENGTH):\n",
        "        super(TransformerModel, self).__init__()\n",
        "\n",
        "        self.source_embedding = nn.Embedding(src_vocab_size, d_model)\n",
        "        self.target_embedding = nn.Embedding(tgt_vocab_size, d_model)\n",
        "        self.positional_encoding = PositionalEncoding(d_model, max_seq_length)\n",
        "\n",
        "        self.transformer = nn.Transformer(\n",
        "            d_model=d_model,\n",
        "            nhead=nhead,\n",
        "            num_encoder_layers=num_encoder_layers,\n",
        "            num_decoder_layers=num_decoder_layers,\n",
        "            dim_feedforward=dim_feedforward,\n",
        "            dropout=dropout,\n",
        "            batch_first=True,\n",
        "        )\n",
        "        self.output_layer = nn.Linear(d_model, tgt_vocab_size)\n",
        "\n",
        "    def forward(self, src, tgt, src_mask, tgt_mask, src_padding_mask, tgt_padding_mask, memory_padding_mask):\n",
        "        src_emb = self.positional_encoding(self.source_embedding(src))\n",
        "        tgt_emb = self.positional_encoding(self.target_embedding(tgt))\n",
        "\n",
        "        output = self.transformer(\n",
        "            src_emb, tgt_emb,\n",
        "            src_mask, tgt_mask,\n",
        "            src_key_padding_mask=src_padding_mask,\n",
        "            tgt_key_padding_mask=tgt_padding_mask,\n",
        "            memory_key_padding_mask=memory_padding_mask)\n",
        "        return self.output_layer(output)\n",
        "\n",
        "    def encoder(self, src, src_mask):\n",
        "        return self.transformer.encoder(self.positional_encoding(self.source_embedding(src)), src_mask)\n",
        "\n",
        "    def decoder(self, tgt, memory, tgt_mask):\n",
        "        return self.transformer.decoder(self.positional_encoding(self.target_embedding(tgt)), memory, tgt_mask)\n",
        "\n",
        "# Instantiate the Transformer model\n",
        "model = TransformerModel(\n",
        "    src_vocab_size = SRC_VOCAB_SIZE,\n",
        "    tgt_vocab_size = TRG_VOCAB_SIZE,\n",
        "    d_model = D_MODEL,\n",
        "    nhead = NHEAD,\n",
        "    num_encoder_layers = NENC_LAYER,\n",
        "    num_decoder_layers = NDEC_LAYER,\n",
        "    dim_feedforward = FFN_DIM,\n",
        ").to(device)"
      ]
    },
    {
      "cell_type": "code",
      "execution_count": null,
      "metadata": {
        "colab": {
          "base_uri": "https://localhost:8080/"
        },
        "execution": {
          "iopub.execute_input": "2024-03-12T12:50:40.598135Z",
          "iopub.status.busy": "2024-03-12T12:50:40.597852Z",
          "iopub.status.idle": "2024-03-12T12:50:40.602934Z",
          "shell.execute_reply": "2024-03-12T12:50:40.602209Z",
          "shell.execute_reply.started": "2024-03-12T12:50:40.598113Z"
        },
        "id": "RauS0Bz-P526",
        "outputId": "bc457c41-0944-4e90-f015-f6cf4f4de820",
        "tags": []
      },
      "outputs": [
        {
          "name": "stdout",
          "output_type": "stream",
          "text": [
            "Parameters of the model: 16,259,057\n"
          ]
        }
      ],
      "source": [
        "total_parameter = sum(p.numel() for p in model.parameters())\n",
        "print(f\"Parameters of the model: {total_parameter:,}\")"
      ]
    },
    {
      "cell_type": "markdown",
      "metadata": {
        "id": "w5OkMfcTozPf"
      },
      "source": [
        "Create masks, loss function, and optimizer"
      ]
    },
    {
      "cell_type": "code",
      "execution_count": null,
      "metadata": {
        "execution": {
          "iopub.execute_input": "2024-03-12T12:50:40.604255Z",
          "iopub.status.busy": "2024-03-12T12:50:40.604026Z",
          "iopub.status.idle": "2024-03-12T12:50:40.609560Z",
          "shell.execute_reply": "2024-03-12T12:50:40.608880Z",
          "shell.execute_reply.started": "2024-03-12T12:50:40.604237Z"
        },
        "id": "AiHlyclGPqoh",
        "tags": []
      },
      "outputs": [],
      "source": [
        "def create_mask(src, tgt, pad_idx=PAD_IDX):\n",
        "    src_seq_len = src.shape[1]\n",
        "    tgt_seq_len = tgt.shape[1]\n",
        "\n",
        "    src_mask = torch.zeros((src_seq_len, src_seq_len),device=device).type(torch.bool)\n",
        "    tgt_mask = model.transformer.generate_square_subsequent_mask(tgt_seq_len)\n",
        "\n",
        "    src_padding_mask = (src == pad_idx)\n",
        "    tgt_padding_mask = (tgt == pad_idx)\n",
        "    return src_mask, tgt_mask, src_padding_mask, tgt_padding_mask\n",
        "\n",
        "criterion = nn.CrossEntropyLoss(ignore_index=PAD_IDX)\n",
        "optimizer = optim.Adam(model.parameters(), lr=learning_rate, betas=(0.9, 0.98), eps=1e-9)"
      ]
    },
    {
      "cell_type": "markdown",
      "metadata": {
        "id": "fced0RNgvcEN"
      },
      "source": [
        "Main training loop"
      ]
    },
    {
      "cell_type": "code",
      "execution_count": null,
      "metadata": {
        "colab": {
          "base_uri": "https://localhost:8080/"
        },
        "execution": {
          "iopub.execute_input": "2024-03-12T12:50:40.611157Z",
          "iopub.status.busy": "2024-03-12T12:50:40.610857Z",
          "iopub.status.idle": "2024-03-12T13:29:17.340415Z",
          "shell.execute_reply": "2024-03-12T13:29:17.339402Z",
          "shell.execute_reply.started": "2024-03-12T12:50:40.611117Z"
        },
        "id": "O-TYQVML2Z6L",
        "outputId": "28627e3b-3004-4f70-a41a-776a1cd158d4",
        "tags": []
      },
      "outputs": [
        {
          "name": "stdout",
          "output_type": "stream",
          "text": [
            "Epoch 1 Train loss = 4.960130; Validation loss = 4.115324\n",
            "Epoch 2 Train loss = 3.858024; Validation loss = 3.576563\n",
            "Epoch 3 Train loss = 3.414506; Validation loss = 3.259989\n",
            "Epoch 4 Train loss = 3.098718; Validation loss = 3.068064\n",
            "Epoch 5 Train loss = 2.853402; Validation loss = 2.880256\n",
            "Epoch 6 Train loss = 2.658215; Validation loss = 2.743590\n",
            "Epoch 7 Train loss = 2.490830; Validation loss = 2.669578\n",
            "Epoch 8 Train loss = 2.341820; Validation loss = 2.565256\n",
            "Epoch 9 Train loss = 2.211867; Validation loss = 2.486574\n",
            "Epoch 10 Train loss = 2.093264; Validation loss = 2.402130\n",
            "Epoch 11 Train loss = 1.984778; Validation loss = 2.393718\n",
            "Epoch 12 Train loss = 1.888311; Validation loss = 2.349503\n",
            "Epoch 13 Train loss = 1.798413; Validation loss = 2.340495\n",
            "Epoch 14 Train loss = 1.717178; Validation loss = 2.318586\n",
            "Epoch 15 Train loss = 1.647081; Validation loss = 2.286606\n",
            "Epoch 16 Train loss = 1.583832; Validation loss = 2.302268\n",
            "Epoch 17 Train loss = 1.523039; Validation loss = 2.297541\n",
            "Epoch 18 Train loss = 1.473023; Validation loss = 2.307335\n",
            "Epoch 19 Train loss = 1.426900; Validation loss = 2.306035\n",
            "Epoch 20 Train loss = 1.386495; Validation loss = 2.306218\n",
            "Epoch 21 Train loss = 1.345162; Validation loss = 2.304735\n",
            "Epoch 22 Train loss = 1.312200; Validation loss = 2.306171\n",
            "Epoch 23 Train loss = 1.280130; Validation loss = 2.310160\n",
            "Epoch 24 Train loss = 1.253141; Validation loss = 2.330274\n",
            "Epoch 25 Train loss = 1.224791; Validation loss = 2.311991\n",
            "Epoch 26 Train loss = 1.204459; Validation loss = 2.339340\n",
            "Epoch 27 Train loss = 1.178049; Validation loss = 2.296717\n",
            "Epoch 28 Train loss = 1.157328; Validation loss = 2.317797\n",
            "Epoch 29 Train loss = 1.139594; Validation loss = 2.299294\n",
            "Epoch 30 Train loss = 1.120083; Validation loss = 2.288694\n",
            "Epoch 31 Train loss = 1.106089; Validation loss = 2.288976\n",
            "Epoch 32 Train loss = 1.090947; Validation loss = 2.296714\n",
            "Epoch 33 Train loss = 1.077729; Validation loss = 2.284260\n",
            "Epoch 34 Train loss = 1.061360; Validation loss = 2.282913\n",
            "Epoch 35 Train loss = 1.048830; Validation loss = 2.282811\n",
            "Epoch 36 Train loss = 1.030212; Validation loss = 2.273375\n",
            "Epoch 37 Train loss = 1.019664; Validation loss = 2.257296\n",
            "Epoch 38 Train loss = 1.011324; Validation loss = 2.270233\n",
            "Epoch 39 Train loss = 0.998589; Validation loss = 2.238587\n",
            "Epoch 40 Train loss = 0.987344; Validation loss = 2.244348\n",
            "Epoch 41 Train loss = 0.977447; Validation loss = 2.247702\n",
            "Epoch 42 Train loss = 0.966047; Validation loss = 2.251615\n",
            "Epoch 43 Train loss = 0.957730; Validation loss = 2.267336\n",
            "Epoch 44 Train loss = 0.951641; Validation loss = 2.275319\n",
            "Epoch 45 Train loss = 0.939253; Validation loss = 2.257411\n",
            "Epoch 46 Train loss = 0.930345; Validation loss = 2.266291\n",
            "Epoch 47 Train loss = 0.921600; Validation loss = 2.250335\n",
            "Epoch 48 Train loss = 0.916493; Validation loss = 2.248481\n",
            "Epoch 49 Train loss = 0.907550; Validation loss = 2.266810\n",
            "Epoch 50 Train loss = 0.897295; Validation loss = 2.250540\n",
            "Epoch 51 Train loss = 0.889431; Validation loss = 2.254316\n",
            "Epoch 52 Train loss = 0.883107; Validation loss = 2.248299\n",
            "Epoch 53 Train loss = 0.876291; Validation loss = 2.243197\n",
            "Epoch 54 Train loss = 0.868734; Validation loss = 2.248017\n",
            "Epoch 55 Train loss = 0.860653; Validation loss = 2.249718\n",
            "Epoch 56 Train loss = 0.854600; Validation loss = 2.258052\n",
            "Epoch 57 Train loss = 0.849095; Validation loss = 2.264930\n",
            "Epoch 58 Train loss = 0.838991; Validation loss = 2.268102\n",
            "Epoch 59 Train loss = 0.835527; Validation loss = 2.274267\n",
            "Epoch 60 Train loss = 0.828907; Validation loss = 2.268230\n",
            "Epoch 61 Train loss = 0.823441; Validation loss = 2.272867\n",
            "Epoch 62 Train loss = 0.819517; Validation loss = 2.273236\n",
            "Epoch 63 Train loss = 0.811026; Validation loss = 2.273359\n",
            "Epoch 64 Train loss = 0.805832; Validation loss = 2.279130\n",
            "Epoch 65 Train loss = 0.797862; Validation loss = 2.273173\n",
            "Epoch 66 Train loss = 0.794072; Validation loss = 2.263840\n",
            "Epoch 67 Train loss = 0.785684; Validation loss = 2.274352\n",
            "Epoch 68 Train loss = 0.783700; Validation loss = 2.281961\n",
            "Epoch 69 Train loss = 0.778980; Validation loss = 2.299232\n",
            "Epoch 70 Train loss = 0.770210; Validation loss = 2.295298\n",
            "Epoch 71 Train loss = 0.767092; Validation loss = 2.294642\n",
            "Epoch 72 Train loss = 0.764418; Validation loss = 2.286141\n",
            "Epoch 73 Train loss = 0.755949; Validation loss = 2.284883\n",
            "Epoch 74 Train loss = 0.752609; Validation loss = 2.292464\n",
            "Epoch 75 Train loss = 0.748460; Validation loss = 2.313797\n",
            "Epoch 76 Train loss = 0.739884; Validation loss = 2.302670\n",
            "Epoch 77 Train loss = 0.737912; Validation loss = 2.287003\n",
            "Epoch 78 Train loss = 0.731951; Validation loss = 2.317867\n",
            "Epoch 79 Train loss = 0.728867; Validation loss = 2.318705\n",
            "Epoch 80 Train loss = 0.720055; Validation loss = 2.302879\n",
            "Epoch 81 Train loss = 0.718605; Validation loss = 2.315506\n",
            "Epoch 82 Train loss = 0.713655; Validation loss = 2.316171\n",
            "Epoch 83 Train loss = 0.710099; Validation loss = 2.323767\n",
            "Epoch 84 Train loss = 0.705747; Validation loss = 2.324632\n",
            "Epoch 85 Train loss = 0.702800; Validation loss = 2.326432\n",
            "Epoch 86 Train loss = 0.697079; Validation loss = 2.331809\n",
            "Epoch 87 Train loss = 0.694439; Validation loss = 2.327533\n",
            "Epoch 88 Train loss = 0.689643; Validation loss = 2.335218\n",
            "Epoch 89 Train loss = 0.684634; Validation loss = 2.325875\n",
            "Epoch 90 Train loss = 0.681733; Validation loss = 2.339446\n",
            "Epoch 91 Train loss = 0.676272; Validation loss = 2.353511\n",
            "Epoch 92 Train loss = 0.673900; Validation loss = 2.338996\n",
            "Epoch 93 Train loss = 0.671980; Validation loss = 2.354824\n",
            "Epoch 94 Train loss = 0.665486; Validation loss = 2.357978\n",
            "Epoch 95 Train loss = 0.661671; Validation loss = 2.359203\n",
            "Epoch 96 Train loss = 0.658225; Validation loss = 2.353139\n",
            "Epoch 97 Train loss = 0.656157; Validation loss = 2.366307\n",
            "Epoch 98 Train loss = 0.650643; Validation loss = 2.362823\n",
            "Epoch 99 Train loss = 0.647833; Validation loss = 2.372330\n",
            "Epoch 100 Train loss = 0.648825; Validation loss = 2.373083\n",
            "Training time: 2316.71759701 seconds\n"
          ]
        }
      ],
      "source": [
        "history_loss = []\n",
        "history_val = []\n",
        "\n",
        "start_time = time.time()\n",
        "for epoch in range(epochs):\n",
        "    model.train()\n",
        "    train_batches = len(train_loader)\n",
        "    train_losses = 0\n",
        "    for i, [src, tgt_in, tgt_out] in enumerate(train_loader):\n",
        "        src =  src.to(device)\n",
        "        tgt_in =  tgt_in.to(device)\n",
        "        tgt_out = tgt_out.to(device)\n",
        "        src_mask, tgt_mask, src_padding_mask, tgt_padding_mask = create_mask(src, tgt_in)\n",
        "        tgt_mask = tgt_mask.to(device)\n",
        "\n",
        "        optimizer.zero_grad()\n",
        "\n",
        "        logits = model(src, tgt_in, src_mask, tgt_mask,\n",
        "                       src_padding_mask, tgt_padding_mask, src_padding_mask)\n",
        "        logits = logits.reshape(-1, logits.size(-1))\n",
        "        train_loss = criterion(logits, tgt_out.view(-1))\n",
        "        train_losses += train_loss.item()\n",
        "\n",
        "        train_loss.backward()\n",
        "        optimizer.step()\n",
        "\n",
        "        # if i % 10 == 0:\n",
        "        #   print('    Epoch %d, Batch: %d/%d' % (epoch+1, i+1, total_batches ), 'loss =', '{:.6f}'.format(loss))\n",
        "\n",
        "    model.eval()\n",
        "    val_batches = len(val_loader)\n",
        "    val_losses = 0\n",
        "    with torch.no_grad():  # Disable gradient computation\n",
        "        for i, [val_src, val_tgt_in, val_tgt_out] in enumerate(val_loader):\n",
        "            val_src = val_src.to(device)\n",
        "            val_tgt_in = val_tgt_in.to(device)\n",
        "            val_tgt_out = val_tgt_out.to(device)\n",
        "\n",
        "            src_mask, tgt_mask, src_padding_mask, tgt_padding_mask = create_mask(val_src, val_tgt_in)\n",
        "            tgt_mask = tgt_mask.to(device)\n",
        "            output = model(val_src, val_tgt_in, src_mask, tgt_mask,\n",
        "                           src_padding_mask, tgt_padding_mask, src_padding_mask)\n",
        "\n",
        "            output = output.reshape(-1, output.size(-1))\n",
        "            val_loss = criterion(output, val_tgt_out.view(-1))\n",
        "            val_losses += val_loss.item()\n",
        "\n",
        "    print('Epoch %d' % (epoch+1),\n",
        "          'Train loss = {:.6f};'.format(train_losses/train_batches),\n",
        "          'Validation loss = {:.6f}'.format(val_losses / val_batches))\n",
        "    history_loss.append(train_losses/train_batches)\n",
        "    history_val.append(val_losses/val_batches)\n",
        "\n",
        "end_time = time.time()\n",
        "print(f\"Training time: {(end_time-start_time):.8f} seconds\")"
      ]
    },
    {
      "cell_type": "markdown",
      "metadata": {
        "id": "Ptgu4wieonXH"
      },
      "source": [
        "Visualize training progress"
      ]
    },
    {
      "cell_type": "code",
      "execution_count": null,
      "metadata": {
        "colab": {
          "base_uri": "https://localhost:8080/",
          "height": 564
        },
        "execution": {
          "iopub.execute_input": "2024-03-12T13:29:17.341845Z",
          "iopub.status.busy": "2024-03-12T13:29:17.341488Z",
          "iopub.status.idle": "2024-03-12T13:29:17.607482Z",
          "shell.execute_reply": "2024-03-12T13:29:17.606609Z",
          "shell.execute_reply.started": "2024-03-12T13:29:17.341821Z"
        },
        "id": "aYmnlJlbomv7",
        "outputId": "ce75cd70-80fc-47ff-cf15-7404b16a5a3c",
        "tags": []
      },
      "outputs": [
        {
          "data": {
            "image/png": "[encoded data removed]",
            "text/plain": [
              "<Figure size 800x600 with 1 Axes>"
            ]
          },
          "metadata": {},
          "output_type": "display_data"
        }
      ],
      "source": [
        "plt.figure(figsize=(8, 6))\n",
        "plt.title(\"Loss During Training\")\n",
        "plt.plot(history_loss, label=\"Train Loss\", c='k', lw=2, ls='--')\n",
        "plt.plot(history_val, label=\"Validation Loss\", c='b', lw=2)\n",
        "plt.xlabel(\"Iterations\")\n",
        "plt.ylabel(\"Loss\")\n",
        "plt.legend()\n",
        "plt.savefig(\"outputs/en2de_training.svg\", format=\"svg\", dpi=150, transparent=True, bbox_inches='tight')\n",
        "plt.show()\n"
      ]
    },
    {
      "cell_type": "markdown",
      "metadata": {
        "id": "djeZhoRCB3r_"
      },
      "source": [
        "Save the model:"
      ]
    },
    {
      "cell_type": "code",
      "execution_count": null,
      "metadata": {
        "execution": {
          "iopub.execute_input": "2024-03-12T13:29:17.611091Z",
          "iopub.status.busy": "2024-03-12T13:29:17.610667Z",
          "iopub.status.idle": "2024-03-12T13:29:17.757487Z",
          "shell.execute_reply": "2024-03-12T13:29:17.756808Z",
          "shell.execute_reply.started": "2024-03-12T13:29:17.611058Z"
        },
        "id": "g-ffJH2TBXSo",
        "tags": []
      },
      "outputs": [],
      "source": [
        "# Save the model\n",
        "torch.save(model, MODEL_PATH)"
      ]
    },
    {
      "cell_type": "markdown",
      "metadata": {
        "id": "b6T7lzMtB_TC"
      },
      "source": [
        "Load the model:"
      ]
    },
    {
      "cell_type": "code",
      "execution_count": null,
      "metadata": {
        "execution": {
          "iopub.execute_input": "2024-03-12T13:29:17.758750Z",
          "iopub.status.busy": "2024-03-12T13:29:17.758399Z",
          "iopub.status.idle": "2024-03-12T13:29:17.762761Z",
          "shell.execute_reply": "2024-03-12T13:29:17.762069Z",
          "shell.execute_reply.started": "2024-03-12T13:29:17.758669Z"
        },
        "id": "yAfQRRTGB2Qv"
      },
      "outputs": [],
      "source": [
        "# Load the model\n",
        "# model = torch.load(MODEL_PATH)"
      ]
    },
    {
      "cell_type": "markdown",
      "metadata": {
        "id": "0Bd8T0YW7JtZ"
      },
      "source": [
        "## 4.5\tInference"
      ]
    },
    {
      "cell_type": "code",
      "execution_count": null,
      "metadata": {
        "execution": {
          "iopub.execute_input": "2024-03-12T13:29:17.764074Z",
          "iopub.status.busy": "2024-03-12T13:29:17.763764Z",
          "iopub.status.idle": "2024-03-12T13:29:17.770457Z",
          "shell.execute_reply": "2024-03-12T13:29:17.769774Z",
          "shell.execute_reply.started": "2024-03-12T13:29:17.764054Z"
        },
        "id": "YkP-ajsWckfB",
        "tags": []
      },
      "outputs": [],
      "source": [
        "def translate(model, src, max_len=MAX_LENGTH, start_symbol=SOS_IDX, end_symbol=EOS_IDX):\n",
        "    model.eval()\n",
        "    src = src.to(device)\n",
        "    src_mask = torch.zeros((src.shape[1], src.shape[1]),device=device).type(torch.bool).to(device)\n",
        "    memory = model.encoder(src, src_mask)\n",
        "    memory = memory.to(device)\n",
        "    tgt = torch.ones(1, 1).fill_(start_symbol).type(torch.long).to(device)\n",
        "    for i in range(max_len-1):\n",
        "        _, tgt_mask, _, _ = create_mask(src, tgt)\n",
        "        tgt_mask = tgt_mask.to(device)\n",
        "        out = model.decoder(tgt, memory, tgt_mask)\n",
        "        prob = model.output_layer(out[:, -1])\n",
        "        next_word = torch.argmax(prob.squeeze(0), dim=-1, keepdim=False)\n",
        "        tgt = torch.cat([tgt, torch.ones(1, 1).type_as(src.data).fill_(next_word)], dim=1)\n",
        "        if next_word == end_symbol:\n",
        "            break\n",
        "    return tgt"
      ]
    },
    {
      "cell_type": "code",
      "execution_count": null,
      "metadata": {
        "colab": {
          "base_uri": "https://localhost:8080/"
        },
        "execution": {
          "iopub.execute_input": "2024-03-12T13:29:17.772230Z",
          "iopub.status.busy": "2024-03-12T13:29:17.771546Z",
          "iopub.status.idle": "2024-03-12T13:29:18.286676Z",
          "shell.execute_reply": "2024-03-12T13:29:18.285868Z",
          "shell.execute_reply.started": "2024-03-12T13:29:17.772199Z"
        },
        "id": "GdX1Ra3se3Bj",
        "outputId": "95a18933-f49e-45dc-d9d1-254f870ae26d",
        "tags": []
      },
      "outputs": [
        {
          "name": "stdout",
          "output_type": "stream",
          "text": [
            "SOURCE:\t A man in an orange hat starring at something .\n",
            "TARGET:\t Ein Mann mit einem orangefarbenen Hut , der etwas anstarrt .\n",
            "PREDICT: Ein Mann mit orangefarbener Kappe starrt auf etwas . \n",
            "\n",
            "SOURCE:\t A Boston Terrier is running on lush green grass in front of a white fence .\n",
            "TARGET:\t Ein Boston Terrier läuft über saftig-grünes Gras vor einem weißen Zaun .\n",
            "PREDICT: Ein Fan von grün gekleideten Mann rennt auf dem grüne Gras vor einem weißen Zaun . \n",
            "\n",
            "SOURCE:\t A girl in karate uniform breaking a stick with a front kick .\n",
            "TARGET:\t Ein Mädchen in einem Karateanzug bricht ein Brett mit einem Tritt .\n",
            "PREDICT: Ein Mädchen in Karateanzügen kämpfen mit einem Stock im Hinterhof . \n",
            "\n",
            "SOURCE:\t Five people wearing winter jackets and helmets stand in the snow , with snowmobiles in the background .\n",
            "TARGET:\t Fünf Leute in Winterjacken und mit Helmen stehen im Schnee mit Schneemobilen im Hintergrund .\n",
            "PREDICT: Fünf Personen in Winterjacken und mit Helmen stehen im Schnee , im Hintergrund sind schneebedeckte Berge zu sehen . \n",
            "\n",
            "SOURCE:\t People are fixing the roof of a house .\n",
            "TARGET:\t Leute Reparieren das Dach eines Hauses .\n",
            "PREDICT: Leute reparieren den Dach eines Hauses . \n",
            "\n",
            "SOURCE:\t A man in light colored clothing photographs a group of men wearing dark suits and hats standing around a woman dressed in a strapless gown .\n",
            "TARGET:\t Ein hell gekleideter Mann fotografiert eine Gruppe von Männern in dunklen Anzügen und mit Hüten , die um eine Frau in einem trägerlosen Kleid herum stehen .\n",
            "PREDICT: Ein Mann in hellen Farben macht eine Gruppe von Männern in dunklen Anzügen und Hüten stehen um eine Frau herum und redet . \n",
            "\n",
            "SOURCE:\t A group of people standing in front of an igloo .\n",
            "TARGET:\t Eine Gruppe von Menschen steht vor einem Iglu .\n",
            "PREDICT: Eine Gruppe von Leuten steht vor einem Iglu . \n",
            "\n",
            "SOURCE:\t A boy in a red uniform is attempting to avoid getting out at home plate , while the catcher in the blue uniform is attempting to catch him .\n",
            "TARGET:\t Ein Junge in einem roten Trikot versucht , die Home Base zu erreichen , während der Catcher im blauen Trikot versucht , ihn zu fangen .\n",
            "PREDICT: Ein Junge in roter Spielkleidung versucht , beim Bergsteigen zu erwischen , während der Fänger des blauen Teams versucht . \n",
            "\n",
            "SOURCE:\t A guy works on a building .\n",
            "TARGET:\t Ein Typ arbeitet an einem Gebäude .\n",
            "PREDICT: Ein Mann arbeitet an einem Gebäude . \n",
            "\n",
            "SOURCE:\t A man in a vest is sitting in a chair and holding magazines .\n",
            "TARGET:\t Ein Mann in einer Weste sitzt auf einem Stuhl und hält Magazine .\n",
            "PREDICT: Ein Mann in einer Weste sitzt in einem Stuhl und hält Zeitschriften . \n",
            "\n"
          ]
        }
      ],
      "source": [
        "test_data = En2De_Dataset(dataset['test'], tokenize_en, tokenize_de, vocab_tokenizers)\n",
        "test_loader = DataLoader(test_data, batch_size=1, collate_fn=padding, shuffle=False)\n",
        "\n",
        "test_iterator = iter(test_loader)\n",
        "for i in range(10):\n",
        "    source, target, _ = next(test_iterator)\n",
        "    target = target[:, 1:]\n",
        "    output = translate(model, source)\n",
        "    print(\"SOURCE:\\t\",\" \".join(vocab_tokenizers[\"en\"](list(source.view(-1).cpu().numpy()), encode=False)) )\n",
        "    print(\"TARGET:\\t\",\" \".join(vocab_tokenizers[\"de\"](list(target.view(-1).cpu().numpy()), encode=False)) )\n",
        "    print(\"PREDICT:\", \" \".join(vocab_tokenizers[\"de\"](list(output.view(-1).cpu().numpy()), encode=False)).replace(\"<SOS> \", \"\").replace(\"<EOS>\", \"\") )\n",
        "    print(\"\")"
      ]
    },
    {
      "cell_type": "markdown",
      "metadata": {
        "id": "7KvLh7EpctSL"
      },
      "source": [
        "## 4.11 Evaluation\n",
        "\n",
        "Using BLEU score to evaluate predictions using the NLTK library in Python.\n",
        "\n",
        "BLEU (Bilingual Evaluation Understudy), developed by researchers at IBM, is one of the metrics used for evaluating machine translation quality.\n"
      ]
    },
    {
      "cell_type": "code",
      "execution_count": null,
      "metadata": {
        "colab": {
          "base_uri": "https://localhost:8080/"
        },
        "execution": {
          "iopub.execute_input": "2024-03-12T13:29:18.288568Z",
          "iopub.status.busy": "2024-03-12T13:29:18.288084Z",
          "iopub.status.idle": "2024-03-12T13:29:19.492543Z",
          "shell.execute_reply": "2024-03-12T13:29:19.491786Z",
          "shell.execute_reply.started": "2024-03-12T13:29:18.288497Z"
        },
        "id": "eZ1i-tEdc81m",
        "outputId": "f942a8c0-c70c-4a37-f374-7fd5bbe16b36"
      },
      "outputs": [
        {
          "name": "stdout",
          "output_type": "stream",
          "text": [
            "BLEU Score: 0.22652581507881553\n"
          ]
        }
      ],
      "source": [
        "from nltk.translate.bleu_score import sentence_bleu\n",
        "from nltk.translate.bleu_score import SmoothingFunction\n",
        "\n",
        "reference_text = \"Ein Boston Terrier läuft über saftig-grünes Gras vor einem weißen Zaun.\"\n",
        "output_text = \"Ein Fan sitzt auf einer grünen Wiese vor einem weißen Zaun\"\n",
        "\n",
        "# Extract tokens\n",
        "reference = tokenize_de(reference_text)\n",
        "output = tokenize_de(output_text)\n",
        "\n",
        "# Calculate BLEU score\n",
        "score = sentence_bleu([reference], output, smoothing_function=SmoothingFunction().method1)\n",
        "\n",
        "# Output the BLEU score\n",
        "print(f\"BLEU Score: {score}\")"
      ]
    },
    {
      "cell_type": "code",
      "execution_count": null,
      "metadata": {
        "execution": {
          "iopub.execute_input": "2024-03-12T13:31:32.702262Z",
          "iopub.status.busy": "2024-03-12T13:31:32.701891Z",
          "iopub.status.idle": "2024-03-12T13:31:33.155449Z",
          "shell.execute_reply": "2024-03-12T13:31:33.154567Z",
          "shell.execute_reply.started": "2024-03-12T13:31:32.702240Z"
        },
        "id": "ZaClMNI7I8uq",
        "tags": [],
        "outputId": "d4fde24d-a7bb-451f-e6ca-7ca9c7799bc3"
      },
      "outputs": [
        {
          "name": "stdout",
          "output_type": "stream",
          "text": [
            "SOURCE:\t People standing outside of a building .\n",
            "TARGET:\t Leute , die vor einem Gebäude stehen .\n",
            "PREDICT: Leute stehen vor einem Gebäude . \n",
            "BLUE Score: 0.7941535973735969\n",
            "\n",
            "SOURCE:\t A teenager plays her trumpet on the field at a game .\n",
            "TARGET:\t Eine Teenagerin spielt bei einem Spiel Trompete auf dem Feld .\n",
            "PREDICT: Ein Teenager spielt bei einem Spiel auf dem Feld . \n",
            "BLUE Score: 0.7373377017701436\n",
            "\n",
            "SOURCE:\t A woman does a somersault on a trampoline on the beach .\n",
            "TARGET:\t Eine Frau macht einen Salto auf einem Trampolin am Strand .\n",
            "PREDICT: Eine Frau macht am Strand einen Salto auf einem Trampolin . \n",
            "BLUE Score: 0.9472932821593206\n",
            "\n",
            "SOURCE:\t A man is standing by a group of video games in a bar .\n",
            "TARGET:\t Ein Mann steht bei einigen Spielautomaten in einer Bar .\n",
            "PREDICT: Ein Mann steht bei einer Gruppe von Videospiele in einer Bar . \n",
            "BLUE Score: 0.6188389430252332\n",
            "\n",
            "SOURCE:\t A woman uses a drill while another man takes her picture .\n",
            "TARGET:\t Eine Frau verwendet eine Bohrmaschine während ein Mann sie fotografiert .\n",
            "PREDICT: Eine Frau benutzt eine Bohrmaschine , während ein anderer Mann fotografiert . \n",
            "BLUE Score: 0.7620562197147717\n",
            "\n",
            "SOURCE:\t A woman in a pink sweater and an apron , cleaning a table with a sponge .\n",
            "TARGET:\t Eine Frau in einem pinken Pulli und einer Schürze putzt einen Tisch mit einem Schwamm .\n",
            "PREDICT: Eine Frau in einem rosafarbenen Pullover und einer Schürze reinigt einen Tisch mit einem Schwamm . \n",
            "BLUE Score: 0.7465708091667029\n",
            "\n",
            "SOURCE:\t A man cutting branches of trees .\n",
            "TARGET:\t Ein Mann schneidet Äste von Bäumen .\n",
            "PREDICT: Ein Mann schneidet farbige Schwämme . \n",
            "BLUE Score: 0.5431865707217917\n",
            "\n",
            "SOURCE:\t Group of Asian boys wait for meat to cook over barbecue .\n",
            "TARGET:\t Eine Gruppe Asiatischer Jungen wartet am Grill darauf , dass Fleisch gar wird .\n",
            "PREDICT: Eine Gruppe asiatischer Jungen wartet darauf , dass Sie über das Fleisch macht . \n",
            "BLUE Score: 0.7300104695744299\n",
            "\n",
            "SOURCE:\t Women , wearing traditional clothing , are reenacting native life .\n",
            "TARGET:\t Frauen , die traditionelle Kleidung tragen , spielen das Leben Einheimischer nach .\n",
            "PREDICT: Frauen in traditioneller Kleidung sammeln Ressourcen . \n",
            "BLUE Score: 0.3680702923915351\n",
            "\n",
            "SOURCE:\t One man holds another man 's head down and prepares to punch him in the face .\n",
            "TARGET:\t Ein Mann drückt den Kopf eines anderen Mannes nach unten und will ihm ins Gesicht schlagen .\n",
            "PREDICT: Ein Mann hält einen anderen Mann den Kopf und bereitet sich darauf vor , ins Gesicht zu schlagen . \n",
            "BLUE Score: 0.6286601216675135\n",
            "\n"
          ]
        }
      ],
      "source": [
        "for i in range(10):\n",
        "    source, target, _ = next(test_iterator)\n",
        "    target = target[:, 1:]\n",
        "    output = translate(model, source)\n",
        "    reference = \" \".join(vocab_tokenizers[\"de\"](list(target.view(-1).cpu().numpy()), encode=False))\n",
        "    output = \" \".join(vocab_tokenizers[\"de\"](list(output.view(-1).cpu().numpy()), encode=False)).replace(\"<SOS> \", \"\").replace(\"<EOS>\", \"\")\n",
        "    reference_tok = tokenize_de(reference)\n",
        "    output_tok = tokenize_de(output)\n",
        "    score = sentence_bleu([reference], output, smoothing_function=SmoothingFunction().method1)\n",
        "\n",
        "    print(\"SOURCE:\\t\",\" \".join(vocab_tokenizers[\"en\"](list(source.view(-1).cpu().numpy()), encode=False)) )\n",
        "    print(\"TARGET:\\t\", reference)\n",
        "    print(\"PREDICT:\", output )\n",
        "    print(\"BLUE Score:\", score)\n",
        "    print(\"\")"
      ]
    },
    {
      "cell_type": "markdown",
      "metadata": {
        "id": "OsNdjOvduZub"
      },
      "source": [
        "## References:\n",
        "\n",
        "\n",
        "*   https://pytorch.org/tutorials/beginner/translation_transformer.html\n",
        "*   https://debuggercafe.com/language-translation-using-pytorch-transformer/\n",
        "\n"
      ]
    }
  ],
  "metadata": {
    "accelerator": "GPU",
    "colab": {
      "gpuType": "T4",
      "provenance": [],
      "include_colab_link": true
    },
    "kernelspec": {
      "display_name": "saturn (Python 3)",
      "language": "python",
      "name": "python3"
    },
    "language_info": {
      "codemirror_mode": {
        "name": "ipython",
        "version": 3
      },
      "file_extension": ".py",
      "mimetype": "text/x-python",
      "name": "python",
      "nbconvert_exporter": "python",
      "pygments_lexer": "ipython3",
      "version": "3.9.15"
    }
  },
  "nbformat": 4,
  "nbformat_minor": 0
}