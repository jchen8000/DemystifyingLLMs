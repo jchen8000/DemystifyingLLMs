{
  "cells": [
    {
      "cell_type": "markdown",
      "metadata": {
        "id": "view-in-github",
        "colab_type": "text"
      },
      "source": [
        "<a href=\"https://colab.research.google.com/github/jchen8000/GenerativeAI/blob/main/4_Pre-Training_Fine-Tuning/En2Fr_Translation.ipynb\" target=\"_parent\"><img src=\"https://colab.research.google.com/assets/colab-badge.svg\" alt=\"Open In Colab\"/></a>"
      ]
    },
    {
      "cell_type": "markdown",
      "metadata": {
        "id": "yNAvpEzvan2i"
      },
      "source": [
        "# Pre-Training for Machine Translation, English to French\n",
        "\n",
        "\n",
        "This code is tested and working on Google Colab GPU T4 with below packages\n",
        "\n",
        "*   torch==2.1.0+cu121\n",
        "*   torchvision==0.16.0+cu121\n",
        "*   torchaudio==2.1.0+cu121\n",
        "*   spacy==3.7.4\n",
        "*   datasets==2.18.0"
      ]
    },
    {
      "cell_type": "markdown",
      "metadata": {
        "id": "4zmCnt1BavHP"
      },
      "source": [
        "## Install and Import Libraries\n",
        "\n",
        "Dataset is downloaded from\n",
        "https://www.kaggle.com/datasets/devicharith/language-translation-englishfrench\n",
        "\n",
        "Make sure to put the CSV file in \"datasets/eng_-french.csv\", and a \"outputs\" folder exists.\n"
      ]
    },
    {
      "cell_type": "code",
      "execution_count": null,
      "metadata": {
        "execution": {
          "iopub.execute_input": "2024-03-01T13:39:39.886807Z",
          "iopub.status.busy": "2024-03-01T13:39:39.886621Z",
          "iopub.status.idle": "2024-03-01T13:39:56.525066Z",
          "shell.execute_reply": "2024-03-01T13:39:56.524259Z",
          "shell.execute_reply.started": "2024-03-01T13:39:39.886787Z"
        },
        "id": "BvpcknmzNbm9",
        "tags": []
      },
      "outputs": [],
      "source": [
        "!pip install torch torchvision torchaudio --quiet\n",
        "!pip install spacy --quiet\n",
        "!python -m spacy download en_core_web_sm --quiet\n",
        "!python -m spacy download fr_core_news_sm --quiet"
      ]
    },
    {
      "cell_type": "code",
      "execution_count": null,
      "metadata": {
        "execution": {
          "iopub.execute_input": "2024-03-01T13:39:56.527517Z",
          "iopub.status.busy": "2024-03-01T13:39:56.527180Z",
          "iopub.status.idle": "2024-03-01T13:40:00.156864Z",
          "shell.execute_reply": "2024-03-01T13:40:00.156213Z",
          "shell.execute_reply.started": "2024-03-01T13:39:56.527493Z"
        },
        "id": "wrQUoFZ9lnhD",
        "tags": []
      },
      "outputs": [],
      "source": [
        "import torch\n",
        "from torch import nn, optim\n",
        "from torch.nn.utils.rnn import pad_sequence\n",
        "from torch.utils.data import DataLoader, Dataset\n",
        "from sklearn.model_selection import train_test_split\n",
        "import csv\n",
        "import spacy\n",
        "import random\n",
        "import time\n",
        "import math\n",
        "import matplotlib.pyplot as plt"
      ]
    },
    {
      "cell_type": "markdown",
      "metadata": {
        "id": "2tdm6LDTayyN"
      },
      "source": [
        "## Global Parameters"
      ]
    },
    {
      "cell_type": "code",
      "execution_count": null,
      "metadata": {
        "execution": {
          "iopub.execute_input": "2024-03-01T13:40:00.158673Z",
          "iopub.status.busy": "2024-03-01T13:40:00.157878Z",
          "iopub.status.idle": "2024-03-01T13:40:00.164776Z",
          "shell.execute_reply": "2024-03-01T13:40:00.164190Z",
          "shell.execute_reply.started": "2024-03-01T13:40:00.158556Z"
        },
        "id": "7QG2lwdNr5rT",
        "tags": []
      },
      "outputs": [],
      "source": [
        "device = 'cuda:0' if torch.cuda.is_available() else 'cpu'\n",
        "epochs = 100\n",
        "torch.manual_seed(42)\n",
        "batch_size = 128\n",
        "learning_rate=1e-3\n",
        "PAD_IDX = 0\n",
        "SOS_IDX = 1\n",
        "EOS_IDX = 2\n",
        "\n",
        "D_MODEL = 256\n",
        "NHEAD = 4\n",
        "NENC_LAYER = 3\n",
        "NDEC_LAYER = 3\n",
        "FFN_DIM = 256\n",
        "DROPOUT = 0.25\n",
        "MAX_LENGTH = 512\n",
        "MODEL_PATH = 'outputs/en2fr_checkpoint_30epochs.pth'"
      ]
    },
    {
      "cell_type": "markdown",
      "metadata": {
        "id": "v7fB3fuWpGCz"
      },
      "source": [
        "## 4.2. Dataset and Tokenization\n",
        "\n"
      ]
    },
    {
      "cell_type": "code",
      "execution_count": null,
      "metadata": {
        "execution": {
          "iopub.execute_input": "2024-03-01T13:40:00.166379Z",
          "iopub.status.busy": "2024-03-01T13:40:00.165854Z",
          "iopub.status.idle": "2024-03-01T13:40:05.371408Z",
          "shell.execute_reply": "2024-03-01T13:40:05.370781Z",
          "shell.execute_reply.started": "2024-03-01T13:40:00.166356Z"
        },
        "id": "UoJOObh7lt79",
        "tags": []
      },
      "outputs": [],
      "source": [
        "# Load spacy models for tokenization\n",
        "spacy_fr = spacy.load(\"fr_core_news_sm\")\n",
        "spacy_en = spacy.load(\"en_core_web_sm\")\n",
        "\n",
        "# Tokenization functions\n",
        "def tokenize_fr(text):\n",
        "    return [tok.text for tok in spacy_fr.tokenizer(text)]  #[::-1]  # Reversing for better learning in LSTM\n",
        "\n",
        "def tokenize_en(text):\n",
        "    return [tok.text for tok in spacy_en.tokenizer(text)]\n"
      ]
    },
    {
      "cell_type": "code",
      "execution_count": null,
      "metadata": {
        "colab": {
          "base_uri": "https://localhost:8080/"
        },
        "execution": {
          "iopub.execute_input": "2024-03-01T13:40:05.372738Z",
          "iopub.status.busy": "2024-03-01T13:40:05.372373Z",
          "iopub.status.idle": "2024-03-01T13:40:06.097313Z",
          "shell.execute_reply": "2024-03-01T13:40:06.096387Z",
          "shell.execute_reply.started": "2024-03-01T13:40:05.372714Z"
        },
        "id": "K4KgZhrePpnw",
        "outputId": "d3fcaf04-05be-4dfb-8074-1d04ea500b3f"
      },
      "outputs": [
        {
          "name": "stdout",
          "output_type": "stream",
          "text": [
            "Processed 175621 lines.\n"
          ]
        }
      ],
      "source": [
        "dataset = []\n",
        "with open('datasets/eng_-french.csv', mode='r') as csv_file:\n",
        "    csv_reader = csv.DictReader(csv_file)\n",
        "    line_count = 0\n",
        "    for row in csv_reader:\n",
        "        dataset.append([row[\"English words/sentences\"], row[\"French words/sentences\"]])\n",
        "        # print(f'\\t{row[\"English words/sentences\"]}, {row[\"French words/sentences\"]}.')\n",
        "        line_count += 1\n",
        "    print(f'Processed {line_count} lines.')\n",
        "\n",
        "train_set, valid_set = train_test_split(dataset, test_size=0.1)"
      ]
    },
    {
      "cell_type": "markdown",
      "source": [
        "An alternative way to load csv file.\n"
      ],
      "metadata": {
        "id": "7wRtbj9xnn1T"
      }
    },
    {
      "cell_type": "code",
      "source": [
        "# !pip install datasets\n",
        "# from datasets import load_dataset\n",
        "# dataset = load_dataset(\"csv\", data_files='datasets/eng_-french.csv')\n",
        "# dataset = dataset['train'].train_test_split(test_size=0.1)\n",
        "# dataset\n",
        "# print(dataset['test'][1]['English words/sentences'])\n",
        "# print(dataset['test'][1]['French words/sentences'])"
      ],
      "metadata": {
        "id": "BZsv7B2mn08_"
      },
      "execution_count": null,
      "outputs": []
    },
    {
      "cell_type": "code",
      "execution_count": null,
      "metadata": {
        "colab": {
          "base_uri": "https://localhost:8080/"
        },
        "execution": {
          "iopub.execute_input": "2024-03-01T13:40:06.098679Z",
          "iopub.status.busy": "2024-03-01T13:40:06.098324Z",
          "iopub.status.idle": "2024-03-01T13:40:14.809808Z",
          "shell.execute_reply": "2024-03-01T13:40:14.809083Z",
          "shell.execute_reply.started": "2024-03-01T13:40:06.098653Z"
        },
        "id": "53zTGRJ-UunH",
        "outputId": "66f6998b-c5c6-4588-fc63-fa2d61ddb4ec"
      },
      "outputs": [
        {
          "name": "stdout",
          "output_type": "stream",
          "text": [
            "Train size: 158058\n",
            "Validation size: 17563\n",
            "EN vocab: 15914, max_length: 262\n",
            "FR vocab: 26328, max_length: 325\n"
          ]
        }
      ],
      "source": [
        "# Build vocabularies\n",
        "def build_vocab(texts, tokenizer):\n",
        "    vocabs = []\n",
        "    max_length = 0\n",
        "    for text in texts:\n",
        "        vocabs.extend(tokenizer(text))\n",
        "        if len(text) > max_length:\n",
        "          max_length = len(text)\n",
        "    return sorted(list(set(vocabs))), max_length\n",
        "\n",
        "# Vocab transforms and special tokens\n",
        "PAD_TOKEN = \"<PAD>\"  # Padding token\n",
        "SOS_TOKEN = \"<SOS>\"  # Start-of-sentence token\n",
        "EOS_TOKEN = \"<EOS>\"  # End-of-sentence token\n",
        "UNK_TOKEN = \"<UNK>\"  # Unknown token\n",
        "\n",
        "# Create vocabularies and add special tokens to them\n",
        "en_vocab, en_max_len = build_vocab([dataset[i][0] for i in range(len(dataset))], tokenize_en)\n",
        "en_vocab = [PAD_TOKEN, SOS_TOKEN, EOS_TOKEN, UNK_TOKEN] + en_vocab\n",
        "fr_vocab, fr_max_len = build_vocab([dataset[i][1] for i in range(len(dataset))], tokenize_fr)\n",
        "fr_vocab = [PAD_TOKEN, SOS_TOKEN, EOS_TOKEN, UNK_TOKEN] + fr_vocab\n",
        "\n",
        "SRC_VOCAB_SIZE = len(en_vocab)\n",
        "TRG_VOCAB_SIZE = len(fr_vocab)\n",
        "\n",
        "print(\"Train size:\", len(train_set))\n",
        "print(\"Validation size:\", len(valid_set))\n",
        "print(\"EN vocab: %d, max_length: %d\" % (SRC_VOCAB_SIZE, en_max_len) )\n",
        "print(\"FR vocab: %d, max_length: %d\" % (TRG_VOCAB_SIZE, fr_max_len) )"
      ]
    },
    {
      "cell_type": "markdown",
      "metadata": {
        "id": "Qcp1wrb9bwxB"
      },
      "source": [
        "## 4.3 Load Data in Batch"
      ]
    },
    {
      "cell_type": "code",
      "execution_count": null,
      "metadata": {
        "execution": {
          "iopub.execute_input": "2024-03-01T13:40:14.813405Z",
          "iopub.status.busy": "2024-03-01T13:40:14.813021Z",
          "iopub.status.idle": "2024-03-01T13:40:14.840684Z",
          "shell.execute_reply": "2024-03-01T13:40:14.839822Z",
          "shell.execute_reply.started": "2024-03-01T13:40:14.813381Z"
        },
        "id": "0JUH_T1Drbgn"
      },
      "outputs": [],
      "source": [
        "# Tokenize and create a custom dataset\n",
        "class En2De_Dataset(Dataset):\n",
        "    def __init__(self, raw_dataset, src_tokenizer, trt_tokenizer, vocab_transforms):\n",
        "        self.raw_dataset = raw_dataset\n",
        "        self.src_tokenizer = src_tokenizer\n",
        "        self.trt_tokenizer = trt_tokenizer\n",
        "        self.vocab_transforms = vocab_transforms\n",
        "\n",
        "    def __len__(self):\n",
        "        return len(self.raw_dataset)\n",
        "\n",
        "    def __getitem__(self, idx):\n",
        "        src = self.src_tokenizer(self.raw_dataset[idx][0])\n",
        "        src = self.vocab_transforms[\"en\"](src)\n",
        "        tgt = self.trt_tokenizer(self.raw_dataset[idx][1])\n",
        "        tgt_in = self.vocab_transforms[\"fr\"]([SOS_TOKEN] + tgt)\n",
        "        tgt_out = self.vocab_transforms[\"fr\"](tgt + [EOS_TOKEN])\n",
        "        return src, tgt_in, tgt_out\n",
        "\n",
        "class VocabTokenizer(nn.Module):\n",
        "    def __init__(self, vocabulary):\n",
        "        super().__init__()\n",
        "        self.vocab_size = len(vocabulary)\n",
        "        self.idx2word = {index:word for index, word in enumerate(vocabulary)}\n",
        "        self.word2idx = {word:index for index, word in enumerate(vocabulary)}\n",
        "\n",
        "    def encode(self, text):\n",
        "        return [self.word2idx[w] for w in text]\n",
        "\n",
        "    def decode(self, token):\n",
        "        return [self.idx2word[i] for i in token]\n",
        "\n",
        "    def __call__(self, text, encode=True):\n",
        "        if encode:\n",
        "            return self.encode(text)\n",
        "        else:\n",
        "            return self.decode(text)\n",
        "\n",
        "\n",
        "vocab_tokenizers = {\n",
        "    'en': VocabTokenizer(en_vocab),\n",
        "    'fr': VocabTokenizer(fr_vocab),\n",
        "}\n",
        "\n",
        "def padding(batch):\n",
        "    # pad the sequences of the current batch\n",
        "    src = [torch.tensor(item[0]) for item in batch]\n",
        "    tgt_in = [torch.tensor(item[1]) for item in batch]\n",
        "    tgt_out = [torch.tensor(item[2]) for item in batch]\n",
        "    return  pad_sequence(src, padding_value=0, batch_first=True), \\\n",
        "            pad_sequence(tgt_in, padding_value=0, batch_first=True), \\\n",
        "            pad_sequence(tgt_out, padding_value=0, batch_first=True)\n",
        "\n",
        "# Create training and validation datasets\n",
        "train_data = En2De_Dataset(train_set, tokenize_en, tokenize_fr, vocab_tokenizers)\n",
        "val_data = En2De_Dataset(valid_set, tokenize_en, tokenize_fr, vocab_tokenizers)\n",
        "train_loader = DataLoader(train_data, batch_size=batch_size, collate_fn=padding, shuffle=True)\n",
        "val_loader = DataLoader(val_data, batch_size=batch_size, collate_fn=padding, shuffle=False)\n"
      ]
    },
    {
      "cell_type": "markdown",
      "metadata": {
        "id": "YXHk_Ttib2E0"
      },
      "source": [
        "## 4.4 Pre-Training nn.Transformer Model"
      ]
    },
    {
      "cell_type": "code",
      "execution_count": null,
      "metadata": {
        "execution": {
          "iopub.execute_input": "2024-03-01T13:40:14.842385Z",
          "iopub.status.busy": "2024-03-01T13:40:14.842059Z",
          "iopub.status.idle": "2024-03-01T13:40:17.933034Z",
          "shell.execute_reply": "2024-03-01T13:40:17.932235Z",
          "shell.execute_reply.started": "2024-03-01T13:40:14.842354Z"
        },
        "id": "Hc64mxasoVZ6"
      },
      "outputs": [],
      "source": [
        "class PositionalEncoding(nn.Module):\n",
        "    def __init__(self, d_model, max_len=5000, dropout=DROPOUT):\n",
        "        super(PositionalEncoding, self).__init__()\n",
        "        self.dropout = nn.Dropout(p=dropout)\n",
        "        pe = torch.zeros(max_len, d_model)\n",
        "        position = torch.arange(0, max_len).unsqueeze(1).float()\n",
        "        div_term = torch.exp(torch.arange(0, d_model, 2).float() * (-math.log(10000.0) / d_model))\n",
        "        pe[:, 0::2] = torch.sin(position * div_term)\n",
        "        pe[:, 1::2] = torch.cos(position * div_term)\n",
        "        pe = pe.unsqueeze(0)\n",
        "        self.register_buffer('pe_table', pe)\n",
        "\n",
        "    def forward(self, x):\n",
        "        x = x + self.pe_table[:, :x.size(1), :]\n",
        "        return self.dropout(x)\n",
        "\n",
        "class TransformerModel(nn.Module):\n",
        "    def __init__(self, src_vocab_size, tgt_vocab_size, d_model, nhead, num_encoder_layers, num_decoder_layers, dim_feedforward, dropout=DROPOUT, max_seq_length=MAX_LENGTH):\n",
        "        super(TransformerModel, self).__init__()\n",
        "\n",
        "        self.source_embedding = nn.Embedding(src_vocab_size, d_model)\n",
        "        self.target_embedding = nn.Embedding(tgt_vocab_size, d_model)\n",
        "        self.positional_encoding = PositionalEncoding(d_model, max_seq_length)\n",
        "\n",
        "        self.transformer = nn.Transformer(\n",
        "            d_model=d_model,\n",
        "            nhead=nhead,\n",
        "            num_encoder_layers=num_encoder_layers,\n",
        "            num_decoder_layers=num_decoder_layers,\n",
        "            dim_feedforward=dim_feedforward,\n",
        "            dropout=dropout,\n",
        "            batch_first=True,  # input and output as (batch, seq, feature)\n",
        "        )\n",
        "        self.output_layer = nn.Linear(d_model, tgt_vocab_size)\n",
        "\n",
        "    def forward(self, src, tgt, src_mask, tgt_mask, src_padding_mask, tgt_padding_mask, memory_padding_mask):\n",
        "        src_emb = self.positional_encoding(self.source_embedding(src))\n",
        "        tgt_emb = self.positional_encoding(self.target_embedding(tgt))\n",
        "\n",
        "        output = self.transformer(\n",
        "            src_emb, tgt_emb,\n",
        "            src_mask, tgt_mask,\n",
        "            src_key_padding_mask=src_padding_mask,\n",
        "            tgt_key_padding_mask=tgt_padding_mask,\n",
        "            memory_key_padding_mask=memory_padding_mask)\n",
        "        return self.output_layer(output)\n",
        "\n",
        "    def encoder(self, src, src_mask):\n",
        "        return self.transformer.encoder(self.positional_encoding(self.source_embedding(src)), src_mask)\n",
        "\n",
        "    def decoder(self, tgt, memory, tgt_mask):\n",
        "        return self.transformer.decoder(self.positional_encoding(self.target_embedding(tgt)), memory, tgt_mask)\n",
        "\n",
        "# Instantiate the Transformer model\n",
        "model = TransformerModel(\n",
        "    src_vocab_size = SRC_VOCAB_SIZE,\n",
        "    tgt_vocab_size = TRG_VOCAB_SIZE,\n",
        "    d_model = D_MODEL,\n",
        "    nhead = NHEAD,\n",
        "    num_encoder_layers = NENC_LAYER,\n",
        "    num_decoder_layers = NDEC_LAYER,\n",
        "    dim_feedforward = FFN_DIM,\n",
        ").to(device)"
      ]
    },
    {
      "cell_type": "code",
      "execution_count": null,
      "metadata": {
        "colab": {
          "base_uri": "https://localhost:8080/"
        },
        "execution": {
          "iopub.execute_input": "2024-03-01T13:40:17.934356Z",
          "iopub.status.busy": "2024-03-01T13:40:17.934048Z",
          "iopub.status.idle": "2024-03-01T13:40:17.938930Z",
          "shell.execute_reply": "2024-03-01T13:40:17.938194Z",
          "shell.execute_reply.started": "2024-03-01T13:40:17.934334Z"
        },
        "id": "RauS0Bz-P526",
        "outputId": "6c4af1e7-3f0f-4faf-9e22-fa47d6f794b3"
      },
      "outputs": [
        {
          "name": "stdout",
          "output_type": "stream",
          "text": [
            "Parameters of the model: 20,746,968\n"
          ]
        }
      ],
      "source": [
        "total_parameter = sum(p.numel() for p in model.parameters())\n",
        "print(f\"Parameters of the model: {total_parameter:,}\")"
      ]
    },
    {
      "cell_type": "markdown",
      "metadata": {
        "id": "w5OkMfcTozPf"
      },
      "source": [
        "Create masks, loss function, and optimizer"
      ]
    },
    {
      "cell_type": "code",
      "execution_count": null,
      "metadata": {
        "execution": {
          "iopub.execute_input": "2024-03-01T13:40:17.940453Z",
          "iopub.status.busy": "2024-03-01T13:40:17.940070Z",
          "iopub.status.idle": "2024-03-01T13:40:17.947228Z",
          "shell.execute_reply": "2024-03-01T13:40:17.946395Z",
          "shell.execute_reply.started": "2024-03-01T13:40:17.940424Z"
        },
        "id": "AiHlyclGPqoh"
      },
      "outputs": [],
      "source": [
        "def create_mask(src, tgt, pad_idx=PAD_IDX):\n",
        "    src_seq_len = src.shape[1]\n",
        "    tgt_seq_len = tgt.shape[1]\n",
        "\n",
        "    src_mask = torch.zeros((src_seq_len, src_seq_len),device=device).type(torch.bool)\n",
        "    tgt_mask = model.transformer.generate_square_subsequent_mask(tgt_seq_len)\n",
        "\n",
        "    src_padding_mask = (src == pad_idx)\n",
        "    tgt_padding_mask = (tgt == pad_idx)\n",
        "    return src_mask, tgt_mask, src_padding_mask, tgt_padding_mask\n",
        "\n",
        "criterion = nn.CrossEntropyLoss(ignore_index=PAD_IDX)\n",
        "optimizer = optim.Adam(model.parameters(), lr=learning_rate, betas=(0.9, 0.98), eps=1e-9)"
      ]
    },
    {
      "cell_type": "markdown",
      "metadata": {
        "id": "JoxCdR9rcArX"
      },
      "source": [
        "Training loop"
      ]
    },
    {
      "cell_type": "code",
      "execution_count": null,
      "metadata": {
        "colab": {
          "base_uri": "https://localhost:8080/"
        },
        "execution": {
          "iopub.execute_input": "2024-03-01T13:40:17.948806Z",
          "iopub.status.busy": "2024-03-01T13:40:17.948266Z",
          "iopub.status.idle": "2024-03-01T16:16:36.735932Z",
          "shell.execute_reply": "2024-03-01T16:16:36.735267Z",
          "shell.execute_reply.started": "2024-03-01T13:40:17.948785Z"
        },
        "id": "O2gMVDoeNaEC",
        "outputId": "bada520e-2a8e-4e6c-e581-a99f352cfe1c"
      },
      "outputs": [
        {
          "name": "stdout",
          "output_type": "stream",
          "text": [
            "Epoch 1 Train loss = 4.076699; Validation loss = 3.189777\n",
            "Epoch 2 Train loss = 3.148219; Validation loss = 2.699774\n",
            "Epoch 3 Train loss = 2.776775; Validation loss = 2.301756\n",
            "Epoch 4 Train loss = 2.462861; Validation loss = 2.003357\n",
            "Epoch 5 Train loss = 2.225265; Validation loss = 1.832292\n",
            "Epoch 6 Train loss = 2.062204; Validation loss = 1.736535\n",
            "Epoch 7 Train loss = 1.943338; Validation loss = 1.646586\n",
            "Epoch 8 Train loss = 1.849146; Validation loss = 1.588697\n",
            "Epoch 9 Train loss = 1.776797; Validation loss = 1.535032\n",
            "Epoch 10 Train loss = 1.719013; Validation loss = 1.502897\n",
            "Epoch 11 Train loss = 1.670951; Validation loss = 1.471033\n",
            "Epoch 12 Train loss = 1.630684; Validation loss = 1.445142\n",
            "Epoch 13 Train loss = 1.594395; Validation loss = 1.414609\n",
            "Epoch 14 Train loss = 1.563718; Validation loss = 1.394382\n",
            "Epoch 15 Train loss = 1.537237; Validation loss = 1.384010\n",
            "Epoch 16 Train loss = 1.512805; Validation loss = 1.371281\n",
            "Epoch 17 Train loss = 1.491774; Validation loss = 1.349219\n",
            "Epoch 18 Train loss = 1.470279; Validation loss = 1.337848\n",
            "Epoch 19 Train loss = 1.452981; Validation loss = 1.335388\n",
            "Epoch 20 Train loss = 1.434464; Validation loss = 1.324251\n",
            "Epoch 21 Train loss = 1.419708; Validation loss = 1.307795\n",
            "Epoch 22 Train loss = 1.403387; Validation loss = 1.311753\n",
            "Epoch 23 Train loss = 1.390434; Validation loss = 1.294375\n",
            "Epoch 24 Train loss = 1.374284; Validation loss = 1.290711\n",
            "Epoch 25 Train loss = 1.360946; Validation loss = 1.282299\n",
            "Epoch 26 Train loss = 1.350615; Validation loss = 1.267883\n",
            "Epoch 27 Train loss = 1.335901; Validation loss = 1.266577\n",
            "Epoch 28 Train loss = 1.324909; Validation loss = 1.269719\n",
            "Epoch 29 Train loss = 1.312501; Validation loss = 1.255469\n",
            "Epoch 30 Train loss = 1.301683; Validation loss = 1.244985\n",
            "Epoch 31 Train loss = 1.292856; Validation loss = 1.242497\n",
            "Epoch 32 Train loss = 1.281216; Validation loss = 1.240792\n",
            "Epoch 33 Train loss = 1.271826; Validation loss = 1.231575\n",
            "Epoch 34 Train loss = 1.261039; Validation loss = 1.226354\n",
            "Epoch 35 Train loss = 1.256048; Validation loss = 1.228768\n",
            "Epoch 36 Train loss = 1.244661; Validation loss = 1.217409\n",
            "Epoch 37 Train loss = 1.237064; Validation loss = 1.213017\n",
            "Epoch 38 Train loss = 1.228855; Validation loss = 1.210313\n",
            "Epoch 39 Train loss = 1.219629; Validation loss = 1.208873\n",
            "Epoch 40 Train loss = 1.214306; Validation loss = 1.206199\n",
            "Epoch 41 Train loss = 1.205285; Validation loss = 1.207025\n",
            "Epoch 42 Train loss = 1.199846; Validation loss = 1.205024\n",
            "Epoch 43 Train loss = 1.190035; Validation loss = 1.194722\n",
            "Epoch 44 Train loss = 1.183545; Validation loss = 1.198016\n",
            "Epoch 45 Train loss = 1.176615; Validation loss = 1.200619\n",
            "Epoch 46 Train loss = 1.170530; Validation loss = 1.198246\n",
            "Epoch 47 Train loss = 1.165594; Validation loss = 1.189956\n",
            "Epoch 48 Train loss = 1.156682; Validation loss = 1.190252\n",
            "Epoch 49 Train loss = 1.151879; Validation loss = 1.188033\n",
            "Epoch 50 Train loss = 1.147200; Validation loss = 1.193104\n",
            "Epoch 51 Train loss = 1.141020; Validation loss = 1.185300\n",
            "Epoch 52 Train loss = 1.133352; Validation loss = 1.181834\n",
            "Epoch 53 Train loss = 1.129639; Validation loss = 1.184883\n",
            "Epoch 54 Train loss = 1.125378; Validation loss = 1.174419\n",
            "Epoch 55 Train loss = 1.119372; Validation loss = 1.176650\n",
            "Epoch 56 Train loss = 1.114660; Validation loss = 1.170032\n",
            "Epoch 57 Train loss = 1.108059; Validation loss = 1.171008\n",
            "Epoch 58 Train loss = 1.101452; Validation loss = 1.165718\n",
            "Epoch 59 Train loss = 1.097106; Validation loss = 1.166464\n",
            "Epoch 60 Train loss = 1.093602; Validation loss = 1.170717\n",
            "Epoch 61 Train loss = 1.089272; Validation loss = 1.170245\n",
            "Epoch 62 Train loss = 1.084078; Validation loss = 1.176756\n",
            "Epoch 63 Train loss = 1.080250; Validation loss = 1.171601\n",
            "Epoch 64 Train loss = 1.076411; Validation loss = 1.164444\n",
            "Epoch 65 Train loss = 1.072131; Validation loss = 1.167864\n",
            "Epoch 66 Train loss = 1.065987; Validation loss = 1.166721\n",
            "Epoch 67 Train loss = 1.063847; Validation loss = 1.162227\n",
            "Epoch 68 Train loss = 1.059592; Validation loss = 1.169726\n",
            "Epoch 69 Train loss = 1.056504; Validation loss = 1.164354\n",
            "Epoch 70 Train loss = 1.052833; Validation loss = 1.167794\n",
            "Epoch 71 Train loss = 1.048842; Validation loss = 1.165608\n",
            "Epoch 72 Train loss = 1.043634; Validation loss = 1.161406\n",
            "Epoch 73 Train loss = 1.044131; Validation loss = 1.163546\n",
            "Epoch 74 Train loss = 1.037976; Validation loss = 1.150347\n",
            "Epoch 75 Train loss = 1.035103; Validation loss = 1.163354\n",
            "Epoch 76 Train loss = 1.031157; Validation loss = 1.164199\n",
            "Epoch 77 Train loss = 1.027044; Validation loss = 1.152873\n",
            "Epoch 78 Train loss = 1.025768; Validation loss = 1.158285\n",
            "Epoch 79 Train loss = 1.021849; Validation loss = 1.155030\n",
            "Epoch 80 Train loss = 1.019030; Validation loss = 1.160270\n",
            "Epoch 81 Train loss = 1.016034; Validation loss = 1.158039\n",
            "Epoch 82 Train loss = 1.013337; Validation loss = 1.152743\n",
            "Epoch 83 Train loss = 1.008860; Validation loss = 1.154156\n",
            "Epoch 84 Train loss = 1.005831; Validation loss = 1.152521\n",
            "Epoch 85 Train loss = 1.004735; Validation loss = 1.158006\n",
            "Epoch 86 Train loss = 1.002799; Validation loss = 1.156180\n",
            "Epoch 87 Train loss = 1.000194; Validation loss = 1.155906\n",
            "Epoch 88 Train loss = 1.000457; Validation loss = 1.158320\n",
            "Epoch 89 Train loss = 0.998050; Validation loss = 1.153465\n",
            "Epoch 90 Train loss = 0.996840; Validation loss = 1.149708\n",
            "Epoch 91 Train loss = 0.993259; Validation loss = 1.149472\n",
            "Epoch 92 Train loss = 0.991648; Validation loss = 1.150541\n",
            "Epoch 93 Train loss = 0.988475; Validation loss = 1.156493\n",
            "Epoch 94 Train loss = 0.987462; Validation loss = 1.158265\n",
            "Epoch 95 Train loss = 0.985320; Validation loss = 1.165317\n",
            "Epoch 96 Train loss = 0.983343; Validation loss = 1.158268\n",
            "Epoch 97 Train loss = 0.980473; Validation loss = 1.155401\n",
            "Epoch 98 Train loss = 0.980061; Validation loss = 1.148686\n",
            "Epoch 99 Train loss = 0.976679; Validation loss = 1.163669\n",
            "Epoch 100 Train loss = 0.974105; Validation loss = 1.161690\n",
            "Training time: 9378.77864861 seconds\n"
          ]
        }
      ],
      "source": [
        "history_loss = []\n",
        "history_val = []\n",
        "\n",
        "start_time = time.time()\n",
        "for epoch in range(epochs):\n",
        "    model.train()\n",
        "    train_batches = len(train_loader)\n",
        "    train_losses = 0\n",
        "    for i, [src, tgt_in, tgt_out] in enumerate(train_loader):\n",
        "        src =  src.to(device)\n",
        "        tgt_in =  tgt_in.to(device)\n",
        "        tgt_out = tgt_out.to(device)\n",
        "        src_mask, tgt_mask, src_padding_mask, tgt_padding_mask = create_mask(src, tgt_in)\n",
        "        tgt_mask = tgt_mask.to(device)\n",
        "\n",
        "        optimizer.zero_grad()\n",
        "\n",
        "        logits = model(src, tgt_in, src_mask, tgt_mask,\n",
        "                       src_padding_mask, tgt_padding_mask, src_padding_mask)\n",
        "        logits = logits.reshape(-1, logits.size(-1))\n",
        "        train_loss = criterion(logits, tgt_out.view(-1))\n",
        "        train_losses += train_loss.item()\n",
        "\n",
        "        train_loss.backward()\n",
        "        optimizer.step()\n",
        "\n",
        "    model.eval()\n",
        "    val_batches = len(val_loader)\n",
        "    val_losses = 0\n",
        "    with torch.no_grad():  # Disable gradient computation\n",
        "        for i, [val_src, val_tgt_in, val_tgt_out] in enumerate(val_loader):\n",
        "            val_src = val_src.to(device)\n",
        "            val_tgt_in = val_tgt_in.to(device)\n",
        "            val_tgt_out = val_tgt_out.to(device)\n",
        "\n",
        "            src_mask, tgt_mask, src_padding_mask, tgt_padding_mask = create_mask(val_src, val_tgt_in)\n",
        "            tgt_mask = tgt_mask.to(device)\n",
        "            output = model(val_src, val_tgt_in, src_mask, tgt_mask,\n",
        "                           src_padding_mask, tgt_padding_mask, src_padding_mask)\n",
        "\n",
        "            output = output.reshape(-1, output.size(-1))\n",
        "            val_loss = criterion(output, val_tgt_out.view(-1))\n",
        "            val_losses += val_loss.item()\n",
        "\n",
        "    print('Epoch %d' % (epoch+1),\n",
        "          'Train loss = {:.6f};'.format(train_losses/train_batches),\n",
        "          'Validation loss = {:.6f}'.format(val_losses / val_batches))\n",
        "    history_loss.append(train_losses/train_batches)\n",
        "    history_val.append(val_losses/val_batches)\n",
        "\n",
        "end_time = time.time()\n",
        "print(f\"Training time: {(end_time-start_time):.8f} seconds\")"
      ]
    },
    {
      "cell_type": "markdown",
      "metadata": {
        "id": "Ptgu4wieonXH"
      },
      "source": [
        "Visualize training progress"
      ]
    },
    {
      "cell_type": "code",
      "execution_count": null,
      "metadata": {
        "colab": {
          "base_uri": "https://localhost:8080/",
          "height": 564
        },
        "execution": {
          "iopub.execute_input": "2024-03-01T16:16:36.737669Z",
          "iopub.status.busy": "2024-03-01T16:16:36.737219Z",
          "iopub.status.idle": "2024-03-01T16:16:37.035358Z",
          "shell.execute_reply": "2024-03-01T16:16:37.034634Z",
          "shell.execute_reply.started": "2024-03-01T16:16:36.737639Z"
        },
        "id": "aYmnlJlbomv7",
        "outputId": "a642597f-65e1-4736-82ef-4fab35edcb42",
        "tags": []
      },
      "outputs": [
        {
          "data": {
            "image/png": "[encoded data removed]",
            "text/plain": [
              "<Figure size 800x600 with 1 Axes>"
            ]
          },
          "metadata": {},
          "output_type": "display_data"
        }
      ],
      "source": [
        "plt.figure(figsize=(8, 6))\n",
        "plt.title(\"Loss During Training\")\n",
        "plt.plot(history_loss, label=\"Train Loss\", c='k', lw=2, ls='--')\n",
        "plt.plot(history_val, label=\"Validation Loss\", c='b', lw=2)\n",
        "plt.xlabel(\"Epochs\")\n",
        "plt.ylabel(\"Loss\")\n",
        "plt.legend()\n",
        "plt.savefig(\"outputs/en2fr_training.svg\", format=\"svg\", dpi=150, transparent=True, bbox_inches='tight')\n",
        "plt.show()"
      ]
    },
    {
      "cell_type": "markdown",
      "metadata": {
        "id": "djeZhoRCB3r_"
      },
      "source": [
        "Save the model:"
      ]
    },
    {
      "cell_type": "code",
      "execution_count": null,
      "metadata": {
        "execution": {
          "iopub.execute_input": "2024-03-01T16:16:37.037192Z",
          "iopub.status.busy": "2024-03-01T16:16:37.036811Z",
          "iopub.status.idle": "2024-03-01T16:16:37.192282Z",
          "shell.execute_reply": "2024-03-01T16:16:37.191651Z",
          "shell.execute_reply.started": "2024-03-01T16:16:37.037159Z"
        },
        "id": "g-ffJH2TBXSo",
        "tags": []
      },
      "outputs": [],
      "source": [
        "torch.save(model, MODEL_PATH)"
      ]
    },
    {
      "cell_type": "markdown",
      "metadata": {
        "id": "b6T7lzMtB_TC"
      },
      "source": [
        "Load the model:"
      ]
    },
    {
      "cell_type": "code",
      "execution_count": null,
      "metadata": {
        "execution": {
          "iopub.execute_input": "2024-03-01T16:16:37.193631Z",
          "iopub.status.busy": "2024-03-01T16:16:37.193312Z",
          "iopub.status.idle": "2024-03-01T16:16:37.196750Z",
          "shell.execute_reply": "2024-03-01T16:16:37.196082Z",
          "shell.execute_reply.started": "2024-03-01T16:16:37.193609Z"
        },
        "id": "yAfQRRTGB2Qv"
      },
      "outputs": [],
      "source": [
        "# Load the model\n",
        "# model = torch.load(MODEL_PATH)"
      ]
    },
    {
      "cell_type": "markdown",
      "metadata": {
        "id": "0Bd8T0YW7JtZ"
      },
      "source": [
        "## 4.5 Inference"
      ]
    },
    {
      "cell_type": "code",
      "execution_count": null,
      "metadata": {
        "execution": {
          "iopub.execute_input": "2024-03-01T16:16:37.197812Z",
          "iopub.status.busy": "2024-03-01T16:16:37.197563Z",
          "iopub.status.idle": "2024-03-01T16:16:37.204060Z",
          "shell.execute_reply": "2024-03-01T16:16:37.203504Z",
          "shell.execute_reply.started": "2024-03-01T16:16:37.197793Z"
        },
        "id": "YkP-ajsWckfB",
        "tags": []
      },
      "outputs": [],
      "source": [
        "def translate(model, src, max_len=MAX_LENGTH, start_symbol=SOS_IDX, end_symbol=EOS_IDX):\n",
        "    model.eval()\n",
        "    src = src.to(device)\n",
        "    src_mask = torch.zeros((src.shape[1], src.shape[1]),device=device).type(torch.bool).to(device)\n",
        "    memory = model.encoder(src, src_mask)\n",
        "    memory = memory.to(device)\n",
        "    tgt = torch.ones(1, 1).fill_(start_symbol).type(torch.long).to(device)\n",
        "    for i in range(max_len-1):\n",
        "        _, tgt_mask, _, _ = create_mask(src, tgt)\n",
        "        tgt_mask = tgt_mask.to(device)\n",
        "        out = model.decoder(tgt, memory, tgt_mask)\n",
        "        prob = model.output_layer(out[:, -1])\n",
        "        next_word = torch.argmax(prob.squeeze(0), dim=-1, keepdim=False)\n",
        "        tgt = torch.cat([tgt, torch.ones(1, 1).type_as(src.data).fill_(next_word)], dim=1)\n",
        "        if next_word == end_symbol:\n",
        "            break\n",
        "    return tgt"
      ]
    },
    {
      "cell_type": "code",
      "execution_count": null,
      "metadata": {
        "colab": {
          "base_uri": "https://localhost:8080/"
        },
        "execution": {
          "iopub.execute_input": "2024-03-01T16:16:37.205142Z",
          "iopub.status.busy": "2024-03-01T16:16:37.204856Z",
          "iopub.status.idle": "2024-03-01T16:16:37.577346Z",
          "shell.execute_reply": "2024-03-01T16:16:37.576407Z",
          "shell.execute_reply.started": "2024-03-01T16:16:37.205124Z"
        },
        "id": "GdX1Ra3se3Bj",
        "outputId": "b7baf1f3-e74c-4dbd-b810-daf9de1a8d04",
        "tags": []
      },
      "outputs": [
        {
          "name": "stdout",
          "output_type": "stream",
          "text": [
            "SOURCE:\t You 're not very organized , are you ?\n",
            "TARGET:\t Vous n' êtes pas très organisés , n' est -ce pas ?\n",
            "PREDICT: Vous n' êtes pas très organisée , n' est -ce pas ? \n",
            "\n",
            "SOURCE:\t Will you help me with my homework ?\n",
            "TARGET:\t M' aideras - tu pour mes devoirs   ?\n",
            "PREDICT: Me aideras - tu pour mes devoirs ? \n",
            "\n",
            "SOURCE:\t He made me a cake .\n",
            "TARGET:\t Il me confectionna un gâteau .\n",
            "PREDICT: Il m' a confectionné un gâteau . \n",
            "\n",
            "SOURCE:\t I thought I told you not to do that in here .\n",
            "TARGET:\t Je pensais vous avoir dit de ne pas faire cela ici .\n",
            "PREDICT: Je pensais t' avoir dit de ne pas faire ça ici . \n",
            "\n",
            "SOURCE:\t Do you have a backup plan ?\n",
            "TARGET:\t Est -ce que tu as un plan de secours   ?\n",
            "PREDICT: As - tu un plan de secours ? \n",
            "\n",
            "SOURCE:\t He cracked up .\n",
            "TARGET:\t Il a pété les plombs .\n",
            "PREDICT: Il a fait fausse . \n",
            "\n",
            "SOURCE:\t It has happened before and it will probably happen again .\n",
            "TARGET:\t Ca s' est produit auparavant et ça se produira probablement à nouveau .\n",
            "PREDICT: Ça s' est produit avant et ça se reproduira . \n",
            "\n",
            "SOURCE:\t I ca n't get you out of my head .\n",
            "TARGET:\t Je n' arrive pas à vous oublier .\n",
            "PREDICT: Je ne peux pas vous sortir de ma tête . \n",
            "\n",
            "SOURCE:\t I folded the towel in half .\n",
            "TARGET:\t J' ai plié la serviette en deux .\n",
            "PREDICT: J' ai plié la serviette en demie . \n",
            "\n",
            "SOURCE:\t How often do you use your phone ?\n",
            "TARGET:\t À quelle fréquence utilises - tu ton téléphone ?\n",
            "PREDICT: À quelle fréquence utilisez -vous votre téléphone ? \n",
            "\n"
          ]
        }
      ],
      "source": [
        "test_loader = DataLoader(val_data, batch_size=1, collate_fn=padding, shuffle=False)\n",
        "test_iterator = iter(test_loader)\n",
        "for i in range(10):\n",
        "    source, target, _ = next(test_iterator)\n",
        "    target = target[:, 1:]\n",
        "    output = translate(model, source)\n",
        "    print(\"SOURCE:\\t\",\" \".join(vocab_tokenizers[\"en\"](list(source.view(-1).cpu().numpy()), encode=False)) )\n",
        "    print(\"TARGET:\\t\",\" \".join(vocab_tokenizers[\"fr\"](list(target.view(-1).cpu().numpy()), encode=False)) )\n",
        "    print(\"PREDICT:\", \" \".join(vocab_tokenizers[\"fr\"](list(output.view(-1).cpu().numpy()), encode=False)).replace(\"<SOS> \", \"\").replace(\"<EOS>\", \"\") )\n",
        "    print(\"\")"
      ]
    }
  ],
  "metadata": {
    "accelerator": "GPU",
    "colab": {
      "gpuType": "T4",
      "provenance": [],
      "include_colab_link": true
    },
    "kernelspec": {
      "display_name": "saturn (Python 3)",
      "language": "python",
      "name": "python3"
    },
    "language_info": {
      "codemirror_mode": {
        "name": "ipython",
        "version": 3
      },
      "file_extension": ".py",
      "mimetype": "text/x-python",
      "name": "python",
      "nbconvert_exporter": "python",
      "pygments_lexer": "ipython3",
      "version": "3.9.15"
    }
  },
  "nbformat": 4,
  "nbformat_minor": 0
}